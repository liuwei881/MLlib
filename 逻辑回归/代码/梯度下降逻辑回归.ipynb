{
 "cells": [
  {
   "cell_type": "markdown",
   "metadata": {},
   "source": [
    "根据入学考试的两门成绩，构建一个分类器，预测学生是否能入学"
   ]
  },
  {
   "cell_type": "code",
   "execution_count": 47,
   "metadata": {},
   "outputs": [],
   "source": [
    "#数据分析三大件\n",
    "import numpy as np\n",
    "import pandas as pd\n",
    "import matplotlib.pyplot as plt\n",
    "plt.rcParams['font.sans-serif']=['SimHei'] #用来正常显示中文标签\n",
    "plt.rcParams['axes.unicode_minus']=False  #用来正常显示负号"
   ]
  },
  {
   "cell_type": "code",
   "execution_count": 48,
   "metadata": {},
   "outputs": [
    {
     "data": {
      "text/html": [
       "<div>\n",
       "<style scoped>\n",
       "    .dataframe tbody tr th:only-of-type {\n",
       "        vertical-align: middle;\n",
       "    }\n",
       "\n",
       "    .dataframe tbody tr th {\n",
       "        vertical-align: top;\n",
       "    }\n",
       "\n",
       "    .dataframe thead th {\n",
       "        text-align: right;\n",
       "    }\n",
       "</style>\n",
       "<table border=\"1\" class=\"dataframe\">\n",
       "  <thead>\n",
       "    <tr style=\"text-align: right;\">\n",
       "      <th></th>\n",
       "      <th>Exam 1</th>\n",
       "      <th>Exam 2</th>\n",
       "      <th>Admitted</th>\n",
       "    </tr>\n",
       "  </thead>\n",
       "  <tbody>\n",
       "    <tr>\n",
       "      <th>0</th>\n",
       "      <td>34.623660</td>\n",
       "      <td>78.024693</td>\n",
       "      <td>0</td>\n",
       "    </tr>\n",
       "    <tr>\n",
       "      <th>1</th>\n",
       "      <td>30.286711</td>\n",
       "      <td>43.894998</td>\n",
       "      <td>0</td>\n",
       "    </tr>\n",
       "    <tr>\n",
       "      <th>2</th>\n",
       "      <td>35.847409</td>\n",
       "      <td>72.902198</td>\n",
       "      <td>0</td>\n",
       "    </tr>\n",
       "    <tr>\n",
       "      <th>3</th>\n",
       "      <td>60.182599</td>\n",
       "      <td>86.308552</td>\n",
       "      <td>1</td>\n",
       "    </tr>\n",
       "    <tr>\n",
       "      <th>4</th>\n",
       "      <td>79.032736</td>\n",
       "      <td>75.344376</td>\n",
       "      <td>1</td>\n",
       "    </tr>\n",
       "  </tbody>\n",
       "</table>\n",
       "</div>"
      ],
      "text/plain": [
       "      Exam 1     Exam 2  Admitted\n",
       "0  34.623660  78.024693         0\n",
       "1  30.286711  43.894998         0\n",
       "2  35.847409  72.902198         0\n",
       "3  60.182599  86.308552         1\n",
       "4  79.032736  75.344376         1"
      ]
     },
     "execution_count": 48,
     "metadata": {},
     "output_type": "execute_result"
    }
   ],
   "source": [
    "pdData = pd.read_csv('LogiReg_data.csv', header=None, names=['Exam 1', 'Exam 2', 'Admitted']) \n",
    "#panda默认是将第一行作为列明. header=None屏蔽这个\n",
    "#header设置第一行内容是否为列名,names设置列名。\n",
    "pdData.head()"
   ]
  },
  {
   "cell_type": "code",
   "execution_count": 49,
   "metadata": {},
   "outputs": [
    {
     "data": {
      "text/plain": [
       "Text(0,0.5,'科目2分数')"
      ]
     },
     "execution_count": 49,
     "metadata": {},
     "output_type": "execute_result"
    },
    {
     "data": {
      "image/png": "[encoded data removed]",
      "text/plain": [
       "<Figure size 720x360 with 1 Axes>"
      ]
     },
     "metadata": {},
     "output_type": "display_data"
    }
   ],
   "source": [
    "positive = pdData[pdData['Admitted'] == 1] \n",
    "negative = pdData[pdData['Admitted'] == 0] \n",
    "#上面使用bool值作为索引, 找到指定的值, 分类出正例和反例\n",
    "\n",
    "fig = plt.figure(figsize=(10,5))\n",
    "plt.scatter(positive['Exam 1'], positive['Exam 2'], s=30, c='b', marker='o', label='通过') \n",
    "#s设置点的大小，c设置颜色，marker设置点的形状，label设置图例\n",
    "plt.scatter(negative['Exam 1'], negative['Exam 2'], s=30, c='r', marker='x', label='淘汰')\n",
    "plt.legend()#显示图例\n",
    "plt.xlabel('科目1分数')#设置横坐标标题\n",
    "plt.ylabel('科目2分数')"
   ]
  },
  {
   "cell_type": "markdown",
   "metadata": {},
   "source": [
    "目标：建立分类器（求解出三个参数  $\\theta_0         \\theta_1         \\theta_2 $）\n",
    "\n",
    "\n",
    "设定阈值，根据阈值判断录取结果\n",
    "\n",
    "### 要完成的模块\n",
    "-  `sigmoid` : 映射到概率的函数\n",
    "\n",
    "-  `model` : 返回预测结果值\n",
    "\n",
    "-  `cost` : 根据参数计算损失\n",
    "\n",
    "-  `gradient` : 计算每个参数的梯度方向\n",
    "\n",
    "-  `descent` : 进行参数更新\n",
    "\n",
    "-  `accuracy`: 计算精度"
   ]
  },
  {
   "cell_type": "code",
   "execution_count": 50,
   "metadata": {},
   "outputs": [],
   "source": [
    "pdData.insert(0, 'Ones', 1) #insert插入一列，insert(0, 'Ones', 1),0是索引，'列名'，1是插入的值\n",
    "#为了凑𝜃0 𝜃0等于1"
   ]
  },
  {
   "cell_type": "code",
   "execution_count": 51,
   "metadata": {},
   "outputs": [
    {
     "data": {
      "text/html": [
       "<div>\n",
       "<style scoped>\n",
       "    .dataframe tbody tr th:only-of-type {\n",
       "        vertical-align: middle;\n",
       "    }\n",
       "\n",
       "    .dataframe tbody tr th {\n",
       "        vertical-align: top;\n",
       "    }\n",
       "\n",
       "    .dataframe thead th {\n",
       "        text-align: right;\n",
       "    }\n",
       "</style>\n",
       "<table border=\"1\" class=\"dataframe\">\n",
       "  <thead>\n",
       "    <tr style=\"text-align: right;\">\n",
       "      <th></th>\n",
       "      <th>Ones</th>\n",
       "      <th>Exam 1</th>\n",
       "      <th>Exam 2</th>\n",
       "      <th>Admitted</th>\n",
       "    </tr>\n",
       "  </thead>\n",
       "  <tbody>\n",
       "    <tr>\n",
       "      <th>0</th>\n",
       "      <td>1</td>\n",
       "      <td>34.623660</td>\n",
       "      <td>78.024693</td>\n",
       "      <td>0</td>\n",
       "    </tr>\n",
       "    <tr>\n",
       "      <th>1</th>\n",
       "      <td>1</td>\n",
       "      <td>30.286711</td>\n",
       "      <td>43.894998</td>\n",
       "      <td>0</td>\n",
       "    </tr>\n",
       "    <tr>\n",
       "      <th>2</th>\n",
       "      <td>1</td>\n",
       "      <td>35.847409</td>\n",
       "      <td>72.902198</td>\n",
       "      <td>0</td>\n",
       "    </tr>\n",
       "    <tr>\n",
       "      <th>3</th>\n",
       "      <td>1</td>\n",
       "      <td>60.182599</td>\n",
       "      <td>86.308552</td>\n",
       "      <td>1</td>\n",
       "    </tr>\n",
       "    <tr>\n",
       "      <th>4</th>\n",
       "      <td>1</td>\n",
       "      <td>79.032736</td>\n",
       "      <td>75.344376</td>\n",
       "      <td>1</td>\n",
       "    </tr>\n",
       "  </tbody>\n",
       "</table>\n",
       "</div>"
      ],
      "text/plain": [
       "   Ones     Exam 1     Exam 2  Admitted\n",
       "0     1  34.623660  78.024693         0\n",
       "1     1  30.286711  43.894998         0\n",
       "2     1  35.847409  72.902198         0\n",
       "3     1  60.182599  86.308552         1\n",
       "4     1  79.032736  75.344376         1"
      ]
     },
     "execution_count": 51,
     "metadata": {},
     "output_type": "execute_result"
    }
   ],
   "source": [
    "pdData.head()"
   ]
  },
  {
   "cell_type": "code",
   "execution_count": 52,
   "metadata": {},
   "outputs": [
    {
     "data": {
      "text/plain": [
       "array([[ 1.        , 34.62365962, 78.02469282,  0.        ],\n",
       "       [ 1.        , 30.28671077, 43.89499752,  0.        ],\n",
       "       [ 1.        , 35.84740877, 72.90219803,  0.        ],\n",
       "       [ 1.        , 60.18259939, 86.3085521 ,  1.        ],\n",
       "       [ 1.        , 79.03273605, 75.34437644,  1.        ]])"
      ]
     },
     "execution_count": 52,
     "metadata": {},
     "output_type": "execute_result"
    }
   ],
   "source": [
    "orig_data = pdData.values\n",
    "orig_data[:5]"
   ]
  },
  {
   "cell_type": "code",
   "execution_count": 53,
   "metadata": {},
   "outputs": [],
   "source": [
    "np.random.seed(10)#设置随机种子"
   ]
  },
  {
   "cell_type": "code",
   "execution_count": 54,
   "metadata": {},
   "outputs": [
    {
     "name": "stdout",
     "output_type": "stream",
     "text": [
      "数据集的形状(100, 4)\n",
      "X矩阵的形状(100, 3), y矩阵的形状(100, 1), theta形状(1, 3)\n"
     ]
    }
   ],
   "source": [
    "print(\"数据集的形状{}\".format(orig_data.shape))\n",
    "# 分出样本与标签\n",
    "X = orig_data[:,0:3] #X取指标下的数据\n",
    "# y = orig_data[:, -1] 这里取-1, 就是一个list不是矩阵了\n",
    "y = orig_data[:, 3:]\n",
    "# 初始化theta 在0-1之间找到1*3维的theta\n",
    "theta = 0.01*np.random.random([1, 3])\n",
    "print(\"X矩阵的形状{}, y矩阵的形状{}, theta形状{}\".format(X.shape,y.shape,theta.shape))"
   ]
  },
  {
   "cell_type": "markdown",
   "metadata": {},
   "source": [
    "###  `sigmoid` 函数\n",
    "\n",
    "<img src=\"sigmoid函数.png\" style=\"width:250px;height:100px;float:left\">"
   ]
  },
  {
   "cell_type": "code",
   "execution_count": 55,
   "metadata": {},
   "outputs": [],
   "source": [
    "def sigmoid(z):\n",
    "    return 1 / (1 + np.exp(-z))"
   ]
  },
  {
   "cell_type": "markdown",
   "metadata": {},
   "source": [
    "## 预测函数`h(x)`\n",
    "<img src=\"hx.png\" style=\"width:400px;height:130px;float:left\">"
   ]
  },
  {
   "cell_type": "code",
   "execution_count": 56,
   "metadata": {},
   "outputs": [],
   "source": [
    "def h(X, theta): #这个就是h(x) \n",
    "    \"\"\"\n",
    "    x.shape为100*3, theta.shape为1*3, 无法相乘，\n",
    "    所以需要转置theta.T,变为3*1, \n",
    "    最后形成 100*1的矩阵放入sigmoid中,\n",
    "    变成一个sigmoid处理过的矩阵\n",
    "    \"\"\"\n",
    "    return sigmoid(np.dot(X, theta.T))"
   ]
  },
  {
   "cell_type": "code",
   "execution_count": 57,
   "metadata": {},
   "outputs": [],
   "source": [
    "#h(X, theta)"
   ]
  },
  {
   "cell_type": "markdown",
   "metadata": {},
   "source": [
    "## 损失函数\n",
    "<img src=\"loss.png\" style=\"width:550px;height:75px;float:left\">"
   ]
  },
  {
   "cell_type": "code",
   "execution_count": 59,
   "metadata": {},
   "outputs": [],
   "source": [
    "def cost(X, y, theta):\n",
    "    \"\"\"\n",
    "    x.shape为100*3, y为100*1, theta为1*3\n",
    "    np.multiply为矩阵对应元素相乘\n",
    "    left等于就是h(x)取对数, 与y相乘 y的维度为100*1, np.log(h(X, theta))维度为100*1,最后结果也是100*1\n",
    "    right同left结果也是100*1的维度\n",
    "    返回平均损失\n",
    "    \"\"\"\n",
    "    left = np.multiply(y, np.log(h(X, theta))) #np.multiply相当于*乘，区别于np.dot矩阵乘法\n",
    "    right = np.multiply(1 - y, np.log(1 - h(X, theta))) \n",
    "    return -np.sum(left + right) / (len(X))  #返回平均损失J(θ)"
   ]
  },
  {
   "cell_type": "code",
   "execution_count": 60,
   "metadata": {},
   "outputs": [
    {
     "data": {
      "text/plain": [
       "0.6442591075374959"
      ]
     },
     "execution_count": 60,
     "metadata": {},
     "output_type": "execute_result"
    }
   ],
   "source": [
    "cost(X, y, theta)"
   ]
  },
  {
   "cell_type": "markdown",
   "metadata": {},
   "source": [
    "## 计算梯度\n",
    "<img src=\"计算梯度.png\" style=\"width:300px;height:75px;float:left\">"
   ]
  },
  {
   "cell_type": "code",
   "execution_count": 63,
   "metadata": {},
   "outputs": [],
   "source": [
    "def grad(X, y, theta):\n",
    "    \"\"\"\n",
    "    y的维度100*1, h(X, theta)维度也为100*1, 然后乘以X维度为100*3, 这个是对应元素相乘, (y - h(X, theta)) * X结果为100*3的\n",
    "    然后mean,对axis=0表示列 求均值, 结果加个负号\n",
    "    \"\"\"\n",
    "    gradient = -((y - h(X, theta))*X).mean(axis = 0)\n",
    "    return gradient\n",
    "\n",
    "#(y - h(X, theta))*X"
   ]
  },
  {
   "cell_type": "code",
   "execution_count": 64,
   "metadata": {},
   "outputs": [
    {
     "data": {
      "text/plain": [
       "array([ 0.0081304 , -4.90533704, -3.58791452])"
      ]
     },
     "execution_count": 64,
     "metadata": {},
     "output_type": "execute_result"
    }
   ],
   "source": [
    "grad(X, y, theta)"
   ]
  },
  {
   "cell_type": "code",
   "execution_count": 65,
   "metadata": {},
   "outputs": [
    {
     "name": "stdout",
     "output_type": "stream",
     "text": [
      "(100, 4)\n"
     ]
    }
   ],
   "source": [
    "def shuffleData(data):\n",
    "    \"\"\"\n",
    "    对数据进行洗牌, data.shape为(100, 4), 因为前面增加了theta =1 的列 np.random.shuffle原地洗牌\n",
    "    cols = 4, X取data[:, 0:3], y取data[:, 3:]\n",
    "    返回重新洗牌后的X, y\n",
    "    \"\"\"\n",
    "    np.random.shuffle(data)  #shuffle对数据进行洗牌操作\n",
    "    cols = data.shape[1]\n",
    "    X = data[:, 0:cols-1]\n",
    "    y = data[:, cols-1:]\n",
    "    return X, y  #洗牌之后重新取新的X,Y\n",
    "\n",
    "print(orig_data.shape)"
   ]
  },
  {
   "cell_type": "code",
   "execution_count": 66,
   "metadata": {},
   "outputs": [
    {
     "data": {
      "text/plain": [
       "array([ 0.0081304 , -4.90533704, -3.58791452])"
      ]
     },
     "execution_count": 66,
     "metadata": {},
     "output_type": "execute_result"
    }
   ],
   "source": [
    "#执行小批量梯度下降, 目前就执行一次.\n",
    "k=0\n",
    "batchSize = 100\n",
    "grad(X[k:k+batchSize], y[k:k+batchSize], theta)"
   ]
  },
  {
   "cell_type": "code",
   "execution_count": 68,
   "metadata": {},
   "outputs": [],
   "source": [
    "import time\n",
    "def descent(data, theta, batchSize, iteration, alpha):\n",
    "    \"\"\"\n",
    "    开始迭代执行梯度下降\n",
    "    \"\"\"\n",
    "    init_time = time.time()#返回当前时间的时间戳,获取当前的时间\n",
    "    #theta = 0.01*np.random.random([1, 3])\n",
    "    i = 0 # 迭代次数\n",
    "    k = 0 # batch\n",
    "    X, y = shuffleData(data) # 洗牌\n",
    "    #grad = np.zeros(theta.shape) # 计算的梯度\n",
    "    costs = [cost(X, y, theta)] # 损失值, 下面遍历要添加每次的损失,所以这边是list\n",
    "    # 开始迭代, 迭代次数自己指定\n",
    "    for i in range(iteration):\n",
    "        gradient = grad(X[k:k+batchSize], y[k:k+batchSize], theta) # 这里X,y保证取得数据对应\n",
    "        k += batchSize #取batch数量个数据, 每次迭代增加样本batchSize个\n",
    "        if k >= 100: #因为就100个样本,大于100会超范围,所以要归零\n",
    "            k = 0 \n",
    "            X, y = shuffleData(data) #重新洗牌\n",
    "        theta = theta - alpha*gradient # 参数更新，alpha*grad是学习率乘以梯度, 梯度下降更新theta\n",
    "        costs.append(cost(X, y, theta)) # 计算新的损失，记录每一次损失\n",
    "        if (i%10000) == 0 : #每10000次打印损失\n",
    "            print('第%d次迭代，当前损失:'% i,cost(X, y, theta))\n",
    "    # 返回theta, 损失list, 梯度和执行时间\n",
    "    return theta, costs, grad, time.time() - init_time"
   ]
  },
  {
   "cell_type": "markdown",
   "metadata": {},
   "source": [
    "### 原始数据\n",
    "#### 批量梯度下降"
   ]
  },
  {
   "cell_type": "code",
   "execution_count": 70,
   "metadata": {},
   "outputs": [
    {
     "name": "stdout",
     "output_type": "stream",
     "text": [
      "第0次迭代，当前损失: 0.38751104395023234\n",
      "第10000次迭代，当前损失: 0.37693579401949046\n",
      "第20000次迭代，当前损失: 0.36745100910285217\n",
      "第30000次迭代，当前损失: 0.35889917509305436\n",
      "第40000次迭代，当前损失: 0.3511507652393373\n",
      "第50000次迭代，当前损失: 0.34409854455140754\n",
      "第60000次迭代，当前损失: 0.33765313953574483\n",
      "第70000次迭代，当前损失: 0.3317395787904096\n",
      "第80000次迭代，当前损失: 0.3262945783484398\n",
      "第90000次迭代，当前损失: 0.32126439954422603\n",
      "theta: [[-7.44785316  0.0654859   0.05896864]]\n",
      "耗时：15.62s\n"
     ]
    },
    {
     "data": {
      "text/plain": [
       "[<matplotlib.lines.Line2D at 0xaf96198>]"
      ]
     },
     "execution_count": 70,
     "metadata": {},
     "output_type": "execute_result"
    },
    {
     "data": {
      "image/png": "[encoded data removed]",
      "text/plain": [
       "<Figure size 432x288 with 1 Axes>"
      ]
     },
     "metadata": {},
     "output_type": "display_data"
    }
   ],
   "source": [
    "theta, costs, grad, time_cost = descent(orig_data, theta, 100, 100000, 0.001)\n",
    "print('theta:',theta)\n",
    "print('耗时：%03.2fs'%time_cost)\n",
    "plt.plot(range(len(costs)),costs)"
   ]
  },
  {
   "cell_type": "markdown",
   "metadata": {},
   "source": [
    "#### 随机梯度下降"
   ]
  },
  {
   "cell_type": "code",
   "execution_count": 72,
   "metadata": {},
   "outputs": [
    {
     "name": "stdout",
     "output_type": "stream",
     "text": [
      "第0次迭代，当前损失: 0.3861914524446531\n",
      "第10000次迭代，当前损失: 0.962871469313161\n",
      "第20000次迭代，当前损失: 0.8380819711438753\n",
      "第30000次迭代，当前损失: 0.3025344851760924\n",
      "第40000次迭代，当前损失: 0.8664951188761556\n",
      "第50000次迭代，当前损失: 0.9424320083490296\n",
      "第60000次迭代，当前损失: 1.5557440077522653\n",
      "第70000次迭代，当前损失: 1.415032338817247\n",
      "第80000次迭代，当前损失: 0.8144833455949163\n",
      "第90000次迭代，当前损失: 0.4204893112601112\n",
      "第100000次迭代，当前损失: 0.24924181430359144\n",
      "第110000次迭代，当前损失: 0.42296146365732584\n",
      "第120000次迭代，当前损失: 0.7712595379813513\n",
      "第130000次迭代，当前损失: 0.7498557829917166\n",
      "第140000次迭代，当前损失: 0.5275043404298853\n",
      "第150000次迭代，当前损失: 0.9185387612577551\n",
      "第160000次迭代，当前损失: 1.4958127087701203\n",
      "第170000次迭代，当前损失: 0.33210593340078387\n",
      "第180000次迭代，当前损失: 0.8840629102323082\n",
      "第190000次迭代，当前损失: 0.432975690052501\n",
      "第200000次迭代，当前损失: 0.4899690032124526\n",
      "第210000次迭代，当前损失: 0.2554586335485668\n",
      "第220000次迭代，当前损失: 0.26193331960565897\n",
      "第230000次迭代，当前损失: 0.5984021417251992\n",
      "第240000次迭代，当前损失: 0.3584196233124876\n",
      "第250000次迭代，当前损失: 0.2960858833174964\n",
      "第260000次迭代，当前损失: 0.21427438315377517\n",
      "第270000次迭代，当前损失: 0.8704167367880435\n",
      "第280000次迭代，当前损失: 0.3095975142226786\n",
      "第290000次迭代，当前损失: 0.4292173229592015\n",
      "第300000次迭代，当前损失: 1.066001268974466\n",
      "第310000次迭代，当前损失: 0.39810598561621807\n",
      "第320000次迭代，当前损失: 1.350520741610837\n",
      "第330000次迭代，当前损失: 1.6674767647558377\n",
      "第340000次迭代，当前损失: 0.47015690972985247\n",
      "第350000次迭代，当前损失: 0.3606333012433474\n",
      "第360000次迭代，当前损失: 0.45389449965173484\n",
      "第370000次迭代，当前损失: 0.21828204238159823\n",
      "第380000次迭代，当前损失: 0.9097895106239454\n",
      "第390000次迭代，当前损失: 1.2370183940739432\n",
      "第400000次迭代，当前损失: 0.3497172363187668\n",
      "第410000次迭代，当前损失: 1.2897910581988388\n",
      "第420000次迭代，当前损失: 0.23606050243309834\n",
      "第430000次迭代，当前损失: 0.44545594242670367\n",
      "第440000次迭代，当前损失: 0.24889456783784578\n",
      "第450000次迭代，当前损失: 0.3981314149902467\n",
      "第460000次迭代，当前损失: 0.3152513401908804\n",
      "第470000次迭代，当前损失: 0.25435825948163765\n",
      "第480000次迭代，当前损失: 0.8148098673975693\n",
      "第490000次迭代，当前损失: 1.785281514521565\n",
      "第500000次迭代，当前损失: 0.25904438913932476\n",
      "第510000次迭代，当前损失: 0.30168723416207166\n",
      "第520000次迭代，当前损失: 0.348196792067422\n",
      "第530000次迭代，当前损失: 0.4762967009288981\n",
      "第540000次迭代，当前损失: 0.39224848024954295\n",
      "第550000次迭代，当前损失: 1.0112956319477537\n",
      "第560000次迭代，当前损失: 0.5583563415223293\n",
      "第570000次迭代，当前损失: 0.3699373984878458\n",
      "第580000次迭代，当前损失: 0.3674534260289088\n",
      "第590000次迭代，当前损失: 2.7373504009111334\n",
      "第600000次迭代，当前损失: 0.21424710405007455\n",
      "第610000次迭代，当前损失: 0.9914665421052105\n",
      "第620000次迭代，当前损失: 0.2947255392368462\n",
      "第630000次迭代，当前损失: 0.383077793526988\n",
      "第640000次迭代，当前损失: 0.6948729053232006\n",
      "第650000次迭代，当前损失: 0.29157345648700794\n",
      "第660000次迭代，当前损失: 0.41879364543068526\n",
      "第670000次迭代，当前损失: 0.7402568958390048\n",
      "第680000次迭代，当前损失: 0.25518814516357907\n",
      "第690000次迭代，当前损失: 0.2666946204323068\n",
      "第700000次迭代，当前损失: 0.5855938622870138\n",
      "第710000次迭代，当前损失: 0.3957961763272153\n",
      "第720000次迭代，当前损失: 0.7334396120044131\n",
      "第730000次迭代，当前损失: 1.225106454557964\n",
      "第740000次迭代，当前损失: 0.3729771771919122\n",
      "第750000次迭代，当前损失: 0.26572752898605667\n",
      "第760000次迭代，当前损失: 1.0442456645345501\n",
      "第770000次迭代，当前损失: 0.22053580368409167\n",
      "第780000次迭代，当前损失: 0.22843226082983392\n",
      "第790000次迭代，当前损失: 0.9822045341217841\n",
      "第800000次迭代，当前损失: 0.39052738499028417\n",
      "第810000次迭代，当前损失: 0.2501552788499339\n",
      "第820000次迭代，当前损失: 0.39095172477441975\n",
      "第830000次迭代，当前损失: 0.4015520181522725\n",
      "第840000次迭代，当前损失: 0.24932444078475563\n",
      "第850000次迭代，当前损失: 0.6448932637044661\n",
      "第860000次迭代，当前损失: 1.2187128154386528\n",
      "第870000次迭代，当前损失: 0.2551059456410216\n",
      "第880000次迭代，当前损失: 0.2688708560203959\n",
      "第890000次迭代，当前损失: 0.4556306783735045\n",
      "第900000次迭代，当前损失: 1.2943729640393085\n",
      "第910000次迭代，当前损失: 0.8362438952512125\n",
      "第920000次迭代，当前损失: 0.5075720526961937\n",
      "第930000次迭代，当前损失: 0.3443858790467498\n",
      "第940000次迭代，当前损失: 1.0177298998664168\n",
      "第950000次迭代，当前损失: 0.9679509499642015\n",
      "第960000次迭代，当前损失: 0.671404028141975\n",
      "第970000次迭代，当前损失: 0.25731979199292015\n",
      "第980000次迭代，当前损失: 0.38724455607078945\n",
      "第990000次迭代，当前损失: 0.3854389478571452\n",
      "theta: [[-27.58984859   0.23638778   0.24399777]]\n",
      "耗时：44.65s\n"
     ]
    },
    {
     "data": {
      "text/plain": [
       "[<matplotlib.lines.Line2D at 0xfd7f518>]"
      ]
     },
     "execution_count": 72,
     "metadata": {},
     "output_type": "execute_result"
    },
    {
     "data": {
      "image/png": "[encoded data removed]",
      "text/plain": [
       "<Figure size 432x288 with 1 Axes>"
      ]
     },
     "metadata": {},
     "output_type": "display_data"
    }
   ],
   "source": [
    "theta, costs, grad, time_cost = descent(orig_data, theta, 1, 1000000, 0.001)\n",
    "print('theta:',theta)\n",
    "print('耗时：%03.2fs'%time_cost)\n",
    "plt.plot(range(len(costs)),costs)"
   ]
  },
  {
   "cell_type": "markdown",
   "metadata": {},
   "source": [
    "#### 小批量梯度下降"
   ]
  },
  {
   "cell_type": "code",
   "execution_count": 73,
   "metadata": {},
   "outputs": [
    {
     "name": "stdout",
     "output_type": "stream",
     "text": [
      "第0次迭代，当前损失: 0.2584336377418641\n",
      "第10000次迭代，当前损失: 0.20503038005970417\n",
      "第20000次迭代，当前损失: 0.20486101249830083\n",
      "第30000次迭代，当前损失: 0.20430812113592914\n",
      "第40000次迭代，当前损失: 0.20613858477215494\n",
      "第50000次迭代，当前损失: 0.2120156870693999\n",
      "第60000次迭代，当前损失: 0.2043502571867228\n",
      "第70000次迭代，当前损失: 0.20468650556981907\n",
      "第80000次迭代，当前损失: 0.20722183825785137\n",
      "第90000次迭代，当前损失: 0.2049123523984139\n",
      "theta: [[-27.52948196   0.22381179   0.22007057]]\n",
      "耗时：10.35s\n"
     ]
    },
    {
     "data": {
      "text/plain": [
       "[<matplotlib.lines.Line2D at 0xad17dd8>]"
      ]
     },
     "execution_count": 73,
     "metadata": {},
     "output_type": "execute_result"
    },
    {
     "data": {
      "image/png": "[encoded data removed]",
      "text/plain": [
       "<Figure size 432x288 with 1 Axes>"
      ]
     },
     "metadata": {},
     "output_type": "display_data"
    }
   ],
   "source": [
    "theta, costs, grad, time_cost = descent(orig_data, theta, 64, 100000, 0.001)\n",
    "print('theta:',theta)\n",
    "print('耗时：%03.2fs'%time_cost)\n",
    "plt.plot(range(len(costs)),costs)"
   ]
  },
  {
   "cell_type": "markdown",
   "metadata": {},
   "source": [
    "#### 标准化数据"
   ]
  },
  {
   "cell_type": "code",
   "execution_count": 74,
   "metadata": {},
   "outputs": [
    {
     "name": "stdout",
     "output_type": "stream",
     "text": [
      "(100, 4)\n"
     ]
    }
   ],
   "source": [
    "from sklearn.preprocessing import StandardScaler\n",
    "std_scaler = StandardScaler()\n",
    "x_std = std_scaler.fit_transform(X)\n",
    "std_data = np.hstack((x_std,y))\n",
    "print(std_data.shape)"
   ]
  },
  {
   "cell_type": "markdown",
   "metadata": {},
   "source": [
    "#### 批量梯度下降"
   ]
  },
  {
   "cell_type": "code",
   "execution_count": 75,
   "metadata": {},
   "outputs": [
    {
     "name": "stdout",
     "output_type": "stream",
     "text": [
      "第0次迭代，当前损失: 0.5867983282281554\n",
      "第10000次迭代，当前损失: 0.3371278479362858\n",
      "第20000次迭代，当前损失: 0.3039036644181652\n",
      "第30000次迭代，当前损失: 0.2922975881142901\n",
      "第40000次迭代，当前损失: 0.28690985383241485\n",
      "第50000次迭代，当前损失: 0.2840385394487627\n",
      "第60000次迭代，当前损失: 0.28237870141831467\n",
      "第70000次迭代，当前损失: 0.281366817703939\n",
      "第80000次迭代，当前损失: 0.28072664193764274\n",
      "第90000次迭代，当前损失: 0.2803105252040899\n",
      "theta: [[-27.52948196   2.62376963   2.33056924]]\n",
      "耗时：15.79s\n"
     ]
    },
    {
     "data": {
      "text/plain": [
       "[<matplotlib.lines.Line2D at 0xfda5208>]"
      ]
     },
     "execution_count": 75,
     "metadata": {},
     "output_type": "execute_result"
    },
    {
     "data": {
      "image/png": "[encoded data removed]",
      "text/plain": [
       "<Figure size 432x288 with 1 Axes>"
      ]
     },
     "metadata": {},
     "output_type": "display_data"
    }
   ],
   "source": [
    "theta, costs, grad, time_cost = descent(std_data, theta, 100, 100000, 0.001)\n",
    "print('theta:',theta)\n",
    "print('耗时：%03.2fs'%time_cost)\n",
    "plt.plot(range(len(costs)),costs)"
   ]
  },
  {
   "cell_type": "markdown",
   "metadata": {},
   "source": [
    "#### 随机梯度下降"
   ]
  },
  {
   "cell_type": "code",
   "execution_count": 76,
   "metadata": {},
   "outputs": [
    {
     "name": "stdout",
     "output_type": "stream",
     "text": [
      "第0次迭代，当前损失: 0.28003449051304513\n",
      "第10000次迭代，当前损失: 0.2798484368211366\n",
      "第20000次迭代，当前损失: 0.27972144354133693\n",
      "第30000次迭代，当前损失: 0.2796340652584557\n",
      "第40000次迭代，当前损失: 0.27957319092927746\n",
      "第50000次迭代，当前损失: 0.2795308350588196\n",
      "第60000次迭代，当前损失: 0.2795010601729785\n",
      "第70000次迭代，当前损失: 0.2794800141183439\n",
      "第80000次迭代，当前损失: 0.2794650728905089\n",
      "第90000次迭代，当前损失: 0.2794544825793856\n",
      "theta: [[-27.52948196   2.78463486   2.47510719]]\n",
      "耗时：4.43s\n"
     ]
    },
    {
     "data": {
      "text/plain": [
       "[<matplotlib.lines.Line2D at 0x102bab70>]"
      ]
     },
     "execution_count": 76,
     "metadata": {},
     "output_type": "execute_result"
    },
    {
     "data": {
      "image/png": "[encoded data removed]",
      "text/plain": [
       "<Figure size 432x288 with 1 Axes>"
      ]
     },
     "metadata": {},
     "output_type": "display_data"
    }
   ],
   "source": [
    "theta, costs, grad, time_cost = descent(std_data, theta, 1, 100000, 0.001)\n",
    "print('theta:',theta)\n",
    "print('耗时：%03.2fs'%time_cost)\n",
    "plt.plot(range(len(costs)),costs)"
   ]
  },
  {
   "cell_type": "markdown",
   "metadata": {},
   "source": [
    "#### 小批量梯度下降"
   ]
  },
  {
   "cell_type": "code",
   "execution_count": 77,
   "metadata": {},
   "outputs": [
    {
     "name": "stdout",
     "output_type": "stream",
     "text": [
      "第0次迭代，当前损失: 0.2794469878167983\n",
      "第10000次迭代，当前损失: 0.27944169578357647\n",
      "第20000次迭代，当前损失: 0.27943830686150556\n",
      "第30000次迭代，当前损失: 0.2794356787131863\n",
      "第40000次迭代，当前损失: 0.27943316905428883\n",
      "第50000次迭代，当前损失: 0.27943145008526626\n",
      "第60000次迭代，当前损失: 0.2794302638802962\n",
      "第70000次迭代，当前损失: 0.279429929162298\n",
      "第80000次迭代，当前损失: 0.27942953409942906\n",
      "第90000次迭代，当前损失: 0.2794290448355034\n",
      "theta: [[-27.52948196   2.81269092   2.5008023 ]]\n",
      "耗时：10.24s\n"
     ]
    },
    {
     "data": {
      "text/plain": [
       "[<matplotlib.lines.Line2D at 0xfce6f28>]"
      ]
     },
     "execution_count": 77,
     "metadata": {},
     "output_type": "execute_result"
    },
    {
     "data": {
      "image/png": "[encoded data removed]",
      "text/plain": [
       "<Figure size 432x288 with 1 Axes>"
      ]
     },
     "metadata": {},
     "output_type": "display_data"
    }
   ],
   "source": [
    "theta, costs, grad, time_cost = descent(std_data, theta, 64, 100000, 0.001)\n",
    "print('theta:',theta)\n",
    "print('耗时：%03.2fs'%time_cost)\n",
    "plt.plot(range(len(costs)),costs)"
   ]
  },
  {
   "cell_type": "code",
   "execution_count": 90,
   "metadata": {},
   "outputs": [],
   "source": [
    "predict = 1*(h(x_std,theta)>0.5)#预测类别"
   ]
  },
  {
   "cell_type": "code",
   "execution_count": 91,
   "metadata": {},
   "outputs": [
    {
     "data": {
      "text/plain": [
       "87"
      ]
     },
     "execution_count": 91,
     "metadata": {},
     "output_type": "execute_result"
    }
   ],
   "source": [
    "(y == predict).sum()#预测正确的总样本数"
   ]
  },
  {
   "cell_type": "code",
   "execution_count": 97,
   "metadata": {},
   "outputs": [
    {
     "data": {
      "text/plain": [
       "Text(0,0.5,'科目2分数（标准化）')"
      ]
     },
     "execution_count": 97,
     "metadata": {},
     "output_type": "execute_result"
    },
    {
     "data": {
      "image/png": "[encoded data removed]",
      "text/plain": [
       "<Figure size 432x360 with 1 Axes>"
      ]
     },
     "metadata": {},
     "output_type": "display_data"
    }
   ],
   "source": [
    "X = std_data[:,1:]\n",
    "positive = X[X[:,2] == 1,:] \n",
    "negative = X[X[:,2] == 0,:]\n",
    "\n",
    "fig = plt.figure(figsize=(6,5))\n",
    "plt.scatter(positive[:,0], positive[:,1], s=30, c='b', marker='o', label='通过') \n",
    "#s设置点的大小，c设置颜色，marker设置点的形状，label设置图例\n",
    "plt.scatter(negative[:,0], negative[:,1], s=30, c='r', marker='x', label='淘汰')\n",
    "plt.legend()#显示图例\n",
    "plt.xlabel('科目1分数（标准化）')#设置横坐标标题\n",
    "plt.ylabel('科目2分数（标准化）')\n",
    "\n",
    "#画出决策边界\n",
    "#x1 = np.arange(-2,2.5)\n",
    "#x2 = (-theta[0,1]/theta[0,2])*x1-(theta[0,0]/theta[0,2])\n",
    "#plt.plot(x1,x2)"
   ]
  },
  {
   "cell_type": "code",
   "execution_count": null,
   "metadata": {},
   "outputs": [],
   "source": []
  }
 ],
 "metadata": {
  "kernelspec": {
   "display_name": "Python 3",
   "language": "python",
   "name": "python3"
  },
  "language_info": {
   "codemirror_mode": {
    "name": "ipython",
    "version": 3
   },
   "file_extension": ".py",
   "mimetype": "text/x-python",
   "name": "python",
   "nbconvert_exporter": "python",
   "pygments_lexer": "ipython3",
   "version": "3.6.5"
  }
 },
 "nbformat": 4,
 "nbformat_minor": 2
}
