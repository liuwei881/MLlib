{
 "cells": [
  {
   "cell_type": "markdown",
   "metadata": {},
   "source": [
    "根据入学考试的两门成绩，构建一个分类器，预测学生是否能入学"
   ]
  },
  {
   "cell_type": "code",
   "execution_count": 1,
   "metadata": {},
   "outputs": [],
   "source": [
    "#数据分析三大件\n",
    "import numpy as np\n",
    "import pandas as pd\n",
    "import matplotlib.pyplot as plt\n",
    "plt.rcParams['font.sans-serif']=['SimHei'] #用来正常显示中文标签\n",
    "plt.rcParams['axes.unicode_minus']=False  #用来正常显示负号"
   ]
  },
  {
   "cell_type": "code",
   "execution_count": 2,
   "metadata": {},
   "outputs": [
    {
     "data": {
      "text/html": [
       "<div>\n",
       "<style scoped>\n",
       "    .dataframe tbody tr th:only-of-type {\n",
       "        vertical-align: middle;\n",
       "    }\n",
       "\n",
       "    .dataframe tbody tr th {\n",
       "        vertical-align: top;\n",
       "    }\n",
       "\n",
       "    .dataframe thead th {\n",
       "        text-align: right;\n",
       "    }\n",
       "</style>\n",
       "<table border=\"1\" class=\"dataframe\">\n",
       "  <thead>\n",
       "    <tr style=\"text-align: right;\">\n",
       "      <th></th>\n",
       "      <th>Exam 1</th>\n",
       "      <th>Exam 2</th>\n",
       "      <th>Admitted</th>\n",
       "    </tr>\n",
       "  </thead>\n",
       "  <tbody>\n",
       "    <tr>\n",
       "      <th>0</th>\n",
       "      <td>34.623660</td>\n",
       "      <td>78.024693</td>\n",
       "      <td>0</td>\n",
       "    </tr>\n",
       "    <tr>\n",
       "      <th>1</th>\n",
       "      <td>30.286711</td>\n",
       "      <td>43.894998</td>\n",
       "      <td>0</td>\n",
       "    </tr>\n",
       "    <tr>\n",
       "      <th>2</th>\n",
       "      <td>35.847409</td>\n",
       "      <td>72.902198</td>\n",
       "      <td>0</td>\n",
       "    </tr>\n",
       "    <tr>\n",
       "      <th>3</th>\n",
       "      <td>60.182599</td>\n",
       "      <td>86.308552</td>\n",
       "      <td>1</td>\n",
       "    </tr>\n",
       "    <tr>\n",
       "      <th>4</th>\n",
       "      <td>79.032736</td>\n",
       "      <td>75.344376</td>\n",
       "      <td>1</td>\n",
       "    </tr>\n",
       "  </tbody>\n",
       "</table>\n",
       "</div>"
      ],
      "text/plain": [
       "      Exam 1     Exam 2  Admitted\n",
       "0  34.623660  78.024693         0\n",
       "1  30.286711  43.894998         0\n",
       "2  35.847409  72.902198         0\n",
       "3  60.182599  86.308552         1\n",
       "4  79.032736  75.344376         1"
      ]
     },
     "execution_count": 2,
     "metadata": {},
     "output_type": "execute_result"
    }
   ],
   "source": [
    "pdData = pd.read_csv('LogiReg_data.csv', header=None, names=['Exam 1', 'Exam 2', 'Admitted']) \n",
    "#header设置第一行内容是否为列名,names设置列名。\n",
    "pdData.head()"
   ]
  },
  {
   "cell_type": "code",
   "execution_count": 3,
   "metadata": {},
   "outputs": [
    {
     "data": {
      "text/plain": [
       "Text(0, 0.5, '科目2分数')"
      ]
     },
     "execution_count": 3,
     "metadata": {},
     "output_type": "execute_result"
    },
    {
     "data": {
      "image/png": "[encoded data removed]",
      "text/plain": [
       "<Figure size 720x360 with 1 Axes>"
      ]
     },
     "metadata": {
      "needs_background": "light"
     },
     "output_type": "display_data"
    }
   ],
   "source": [
    "positive = pdData[pdData['Admitted'] == 1] \n",
    "negative = pdData[pdData['Admitted'] == 0] \n",
    "\n",
    "fig = plt.figure(figsize=(10,5))\n",
    "plt.scatter(positive['Exam 1'], positive['Exam 2'], s=30, c='b', marker='o', label='通过') \n",
    "#s设置点的大小，c设置颜色，marker设置点的形状，label设置图例\n",
    "plt.scatter(negative['Exam 1'], negative['Exam 2'], s=30, c='r', marker='x', label='淘汰')\n",
    "plt.legend()#显示图例\n",
    "plt.xlabel('科目1分数')#设置横坐标标题\n",
    "plt.ylabel('科目2分数')"
   ]
  },
  {
   "cell_type": "markdown",
   "metadata": {},
   "source": [
    "目标：建立分类器（求解出三个参数  $\\theta_0         \\theta_1         \\theta_2 $）\n",
    "\n",
    "\n",
    "设定阈值，根据阈值判断录取结果\n",
    "\n",
    "### 要完成的模块\n",
    "-  `sigmoid` : 映射到概率的函数\n",
    "\n",
    "-  `model` : 返回预测结果值\n",
    "\n",
    "-  `cost` : 根据参数计算损失\n",
    "\n",
    "-  `gradient` : 计算每个参数的梯度方向\n",
    "\n",
    "-  `descent` : 进行参数更新\n",
    "\n",
    "-  `accuracy`: 计算精度"
   ]
  },
  {
   "cell_type": "code",
   "execution_count": 4,
   "metadata": {},
   "outputs": [],
   "source": [
    "pdData.insert(0, 'Ones', 1) #insert插入一列，insert(0, 'Ones', 1),0是索引，'列名'，1是插入的值"
   ]
  },
  {
   "cell_type": "code",
   "execution_count": 5,
   "metadata": {},
   "outputs": [
    {
     "data": {
      "text/html": [
       "<div>\n",
       "<style scoped>\n",
       "    .dataframe tbody tr th:only-of-type {\n",
       "        vertical-align: middle;\n",
       "    }\n",
       "\n",
       "    .dataframe tbody tr th {\n",
       "        vertical-align: top;\n",
       "    }\n",
       "\n",
       "    .dataframe thead th {\n",
       "        text-align: right;\n",
       "    }\n",
       "</style>\n",
       "<table border=\"1\" class=\"dataframe\">\n",
       "  <thead>\n",
       "    <tr style=\"text-align: right;\">\n",
       "      <th></th>\n",
       "      <th>Ones</th>\n",
       "      <th>Exam 1</th>\n",
       "      <th>Exam 2</th>\n",
       "      <th>Admitted</th>\n",
       "    </tr>\n",
       "  </thead>\n",
       "  <tbody>\n",
       "    <tr>\n",
       "      <th>0</th>\n",
       "      <td>1</td>\n",
       "      <td>34.623660</td>\n",
       "      <td>78.024693</td>\n",
       "      <td>0</td>\n",
       "    </tr>\n",
       "    <tr>\n",
       "      <th>1</th>\n",
       "      <td>1</td>\n",
       "      <td>30.286711</td>\n",
       "      <td>43.894998</td>\n",
       "      <td>0</td>\n",
       "    </tr>\n",
       "    <tr>\n",
       "      <th>2</th>\n",
       "      <td>1</td>\n",
       "      <td>35.847409</td>\n",
       "      <td>72.902198</td>\n",
       "      <td>0</td>\n",
       "    </tr>\n",
       "    <tr>\n",
       "      <th>3</th>\n",
       "      <td>1</td>\n",
       "      <td>60.182599</td>\n",
       "      <td>86.308552</td>\n",
       "      <td>1</td>\n",
       "    </tr>\n",
       "    <tr>\n",
       "      <th>4</th>\n",
       "      <td>1</td>\n",
       "      <td>79.032736</td>\n",
       "      <td>75.344376</td>\n",
       "      <td>1</td>\n",
       "    </tr>\n",
       "  </tbody>\n",
       "</table>\n",
       "</div>"
      ],
      "text/plain": [
       "   Ones     Exam 1     Exam 2  Admitted\n",
       "0     1  34.623660  78.024693         0\n",
       "1     1  30.286711  43.894998         0\n",
       "2     1  35.847409  72.902198         0\n",
       "3     1  60.182599  86.308552         1\n",
       "4     1  79.032736  75.344376         1"
      ]
     },
     "execution_count": 5,
     "metadata": {},
     "output_type": "execute_result"
    }
   ],
   "source": [
    "pdData.head()"
   ]
  },
  {
   "cell_type": "code",
   "execution_count": 6,
   "metadata": {},
   "outputs": [
    {
     "data": {
      "text/plain": [
       "array([[ 1.        , 34.62365962, 78.02469282,  0.        ],\n",
       "       [ 1.        , 30.28671077, 43.89499752,  0.        ],\n",
       "       [ 1.        , 35.84740877, 72.90219803,  0.        ],\n",
       "       [ 1.        , 60.18259939, 86.3085521 ,  1.        ],\n",
       "       [ 1.        , 79.03273605, 75.34437644,  1.        ]])"
      ]
     },
     "execution_count": 6,
     "metadata": {},
     "output_type": "execute_result"
    }
   ],
   "source": [
    "orig_data = pdData.values\n",
    "orig_data[:5]"
   ]
  },
  {
   "cell_type": "code",
   "execution_count": 7,
   "metadata": {},
   "outputs": [],
   "source": [
    "np.random.seed(10)#设置随机种子"
   ]
  },
  {
   "cell_type": "code",
   "execution_count": 8,
   "metadata": {},
   "outputs": [
    {
     "name": "stdout",
     "output_type": "stream",
     "text": [
      "(100, 4)\n"
     ]
    },
    {
     "data": {
      "text/plain": [
       "((100, 3), (100, 1), (1, 3))"
      ]
     },
     "execution_count": 8,
     "metadata": {},
     "output_type": "execute_result"
    }
   ],
   "source": [
    "print(orig_data.shape)\n",
    "X = orig_data[:,0:3] #X取指标下的数据\n",
    "y = orig_data[:,3:]\n",
    "theta = 0.01*np.random.random([1, 3])\n",
    "X.shape,y.shape,theta.shape"
   ]
  },
  {
   "cell_type": "markdown",
   "metadata": {},
   "source": [
    "###  `sigmoid` 函数\n",
    "\n",
    "<img src=\"sigmoid函数.png\" style=\"width:250px;height:100px;float:left\">"
   ]
  },
  {
   "cell_type": "code",
   "execution_count": 9,
   "metadata": {},
   "outputs": [],
   "source": [
    "def sigmoid(z):\n",
    "    return 1 / (1 + np.exp(-z))"
   ]
  },
  {
   "cell_type": "markdown",
   "metadata": {},
   "source": [
    "## 预测函数`h(x)`\n",
    "<img src=\"hx.png\" style=\"width:400px;height:130px;float:left\">"
   ]
  },
  {
   "cell_type": "code",
   "execution_count": 10,
   "metadata": {},
   "outputs": [],
   "source": [
    "def h(X, theta): #这个就是h(x) \n",
    "    return sigmoid(np.dot(X, theta.T))"
   ]
  },
  {
   "cell_type": "code",
   "execution_count": 11,
   "metadata": {},
   "outputs": [],
   "source": [
    "#h(X, theta)"
   ]
  },
  {
   "cell_type": "markdown",
   "metadata": {},
   "source": [
    "## 损失函数\n",
    "<img src=\"loss.png\" style=\"width:550px;height:75px;float:left\">"
   ]
  },
  {
   "cell_type": "code",
   "execution_count": 12,
   "metadata": {},
   "outputs": [],
   "source": [
    "def cost(X, y, theta):\n",
    "    left = np.multiply(y, np.log(h(X, theta))) #np.multiply相当于*乘，区别于np.dot矩阵乘法\n",
    "    right = np.multiply(1 - y, np.log(1 - h(X, theta))) \n",
    "    return -np.sum(left + right) / (len(X))  #返回平均损失J(θ)"
   ]
  },
  {
   "cell_type": "code",
   "execution_count": 13,
   "metadata": {},
   "outputs": [
    {
     "data": {
      "text/plain": [
       "0.6442591075374959"
      ]
     },
     "execution_count": 13,
     "metadata": {},
     "output_type": "execute_result"
    }
   ],
   "source": [
    "cost(X, y, theta)"
   ]
  },
  {
   "cell_type": "markdown",
   "metadata": {},
   "source": [
    "## 计算梯度\n",
    "<img src=\"计算梯度.png\" style=\"width:300px;height:75px;float:left\">"
   ]
  },
  {
   "cell_type": "code",
   "execution_count": 14,
   "metadata": {},
   "outputs": [],
   "source": [
    "def grad(X, y, theta):\n",
    "    gradient = -((y - h(X, theta))*X).mean(axis = 0)\n",
    "    return gradient"
   ]
  },
  {
   "cell_type": "code",
   "execution_count": 15,
   "metadata": {},
   "outputs": [
    {
     "data": {
      "text/plain": [
       "array([ 0.0081304 , -4.90533704, -3.58791452])"
      ]
     },
     "execution_count": 15,
     "metadata": {},
     "output_type": "execute_result"
    }
   ],
   "source": [
    "grad(X, y, theta)"
   ]
  },
  {
   "cell_type": "code",
   "execution_count": 16,
   "metadata": {},
   "outputs": [],
   "source": [
    "def shuffleData(data):\n",
    "    np.random.shuffle(data)  #shuffle对数据进行洗牌操作\n",
    "    cols = data.shape[1]\n",
    "    X = data[:, 0:cols-1]\n",
    "    y = data[:, cols-1:]\n",
    "    return X, y  #洗牌之后重新取新的X,Y"
   ]
  },
  {
   "cell_type": "code",
   "execution_count": 17,
   "metadata": {},
   "outputs": [
    {
     "data": {
      "text/plain": [
       "array([ 0.0081304 , -4.90533704, -3.58791452])"
      ]
     },
     "execution_count": 17,
     "metadata": {},
     "output_type": "execute_result"
    }
   ],
   "source": [
    "k=0\n",
    "batchSize = 100\n",
    "grad(X[k:k+batchSize], y[k:k+batchSize], theta)"
   ]
  },
  {
   "cell_type": "code",
   "execution_count": 18,
   "metadata": {},
   "outputs": [],
   "source": [
    "import time\n",
    "def descent(data, theta, batchSize, iteration, alpha):\n",
    "    init_time = time.time()#返回当前时间的时间戳,获取当前的时间\n",
    "    theta = 0.01*np.random.random([1, 3])\n",
    "    i = 0 # 迭代次数\n",
    "    k = 0 # batch\n",
    "    X, y = shuffleData(data)\n",
    "    #grad = np.zeros(theta.shape) # 计算的梯度\n",
    "    costs = [cost(X, y, theta)] # 损失值\n",
    "    \n",
    "    for i in range(iteration):\n",
    "        gradient = grad(X[k:k+batchSize], y[k:k+batchSize], theta)\n",
    "        k += batchSize #取batch数量个数据\n",
    "        if k >= 100: \n",
    "            k = 0 \n",
    "            X, y = shuffleData(data) #重新洗牌\n",
    "        theta = theta - alpha*gradient # 参数更新，alpha*grad是学习率乘以梯度\n",
    "        costs.append(cost(X, y, theta)) # 计算新的损失，记录每一次损失\n",
    "        if (i%10000) == 0 :\n",
    "            print('第%d次迭代，当前损失:'%i,cost(X, y, theta))\n",
    "    return theta, costs, grad, time.time() - init_time"
   ]
  },
  {
   "cell_type": "markdown",
   "metadata": {},
   "source": [
    "### 原始数据\n",
    "#### 批量梯度下降"
   ]
  },
  {
   "cell_type": "code",
   "execution_count": 19,
   "metadata": {},
   "outputs": [
    {
     "name": "stdout",
     "output_type": "stream",
     "text": [
      "第0次迭代，当前损失: 0.6373227916768868\n",
      "第10000次迭代，当前损失: 0.5854609852349348\n",
      "第20000次迭代，当前损失: 0.547661106635239\n",
      "第30000次迭代，当前损失: 0.5157116668159502\n",
      "第40000次迭代，当前损失: 0.4885598972068903\n",
      "第50000次迭代，当前损失: 0.46533141950690754\n",
      "第60000次迭代，当前损失: 0.4453150393327089\n",
      "第70000次迭代，当前损失: 0.4279387299126279\n",
      "第80000次迭代，当前损失: 0.41274446984064517\n",
      "第90000次迭代，当前损失: 0.3993655307071172\n",
      "theta: [[-4.80823992  0.04525378  0.03816348]]\n",
      "耗时：14.84s\n"
     ]
    },
    {
     "data": {
      "text/plain": [
       "[<matplotlib.lines.Line2D at 0x2113e4f2748>]"
      ]
     },
     "execution_count": 19,
     "metadata": {},
     "output_type": "execute_result"
    },
    {
     "data": {
      "image/png": "[encoded data removed]",
      "text/plain": [
       "<Figure size 432x288 with 1 Axes>"
      ]
     },
     "metadata": {
      "needs_background": "light"
     },
     "output_type": "display_data"
    }
   ],
   "source": [
    "theta, costs, grad, time_cost = descent(orig_data, theta, 100, 100000, 0.001)\n",
    "print('theta:',theta)\n",
    "print('耗时：%03.2fs'%time_cost)\n",
    "plt.plot(range(len(costs)),costs)"
   ]
  },
  {
   "cell_type": "markdown",
   "metadata": {},
   "source": [
    "#### 随机梯度下降"
   ]
  },
  {
   "cell_type": "code",
   "execution_count": 20,
   "metadata": {},
   "outputs": [
    {
     "name": "stdout",
     "output_type": "stream",
     "text": [
      "第0次迭代，当前损失: 2.6147936708116952\n",
      "第10000次迭代，当前损失: 2.1874014184481356\n",
      "第20000次迭代，当前损失: 1.176722957211229\n",
      "第30000次迭代，当前损失: 1.591480152221763\n",
      "第40000次迭代，当前损失: 1.0596427877320864\n",
      "第50000次迭代，当前损失: 1.7993355792853578\n",
      "第60000次迭代，当前损失: 0.9440680897457066\n",
      "第70000次迭代，当前损失: 1.2695484159250359\n",
      "第80000次迭代，当前损失: 0.548914136439863\n",
      "第90000次迭代，当前损失: 0.5592645779992649\n",
      "theta: [[-6.75063756e+00  5.19797291e-02 -6.34928975e-03]]\n",
      "耗时：4.36s\n"
     ]
    },
    {
     "data": {
      "text/plain": [
       "[<matplotlib.lines.Line2D at 0x2113ec744a8>]"
      ]
     },
     "execution_count": 20,
     "metadata": {},
     "output_type": "execute_result"
    },
    {
     "data": {
      "image/png": "[encoded data removed]",
      "text/plain": [
       "<Figure size 432x288 with 1 Axes>"
      ]
     },
     "metadata": {
      "needs_background": "light"
     },
     "output_type": "display_data"
    }
   ],
   "source": [
    "theta, costs, grad, time_cost = descent(orig_data, theta, 1, 100000, 0.001)\n",
    "print('theta:',theta)\n",
    "print('耗时：%03.2fs'%time_cost)\n",
    "plt.plot(range(len(costs)),costs)"
   ]
  },
  {
   "cell_type": "markdown",
   "metadata": {},
   "source": [
    "#### 小批量梯度下降"
   ]
  },
  {
   "cell_type": "code",
   "execution_count": 21,
   "metadata": {},
   "outputs": [
    {
     "name": "stdout",
     "output_type": "stream",
     "text": [
      "第0次迭代，当前损失: 0.6480838698503452\n",
      "第10000次迭代，当前损失: 0.6613141504418573\n",
      "第20000次迭代，当前损失: 0.5458566152027463\n",
      "第30000次迭代，当前损失: 0.529961033564903\n",
      "第40000次迭代，当前损失: 0.488911495639677\n",
      "第50000次迭代，当前损失: 0.5546838399425553\n",
      "第60000次迭代，当前损失: 0.4539142995912468\n",
      "第70000次迭代，当前损失: 0.4251349346910438\n",
      "第80000次迭代，当前损失: 0.4217400822206252\n",
      "第90000次迭代，当前损失: 0.4198481693252844\n",
      "theta: [[-4.93394276  0.04729985  0.04077288]]\n",
      "耗时：10.31s\n"
     ]
    },
    {
     "data": {
      "text/plain": [
       "[<matplotlib.lines.Line2D at 0x21140184f98>]"
      ]
     },
     "execution_count": 21,
     "metadata": {},
     "output_type": "execute_result"
    },
    {
     "data": {
      "image/png": "[encoded data removed]",
      "text/plain": [
       "<Figure size 432x288 with 1 Axes>"
      ]
     },
     "metadata": {
      "needs_background": "light"
     },
     "output_type": "display_data"
    }
   ],
   "source": [
    "theta, costs, grad, time_cost = descent(orig_data, theta, 64, 100000, 0.001)\n",
    "print('theta:',theta)\n",
    "print('耗时：%03.2fs'%time_cost)\n",
    "plt.plot(range(len(costs)),costs)"
   ]
  },
  {
   "cell_type": "markdown",
   "metadata": {},
   "source": [
    "#### 标准化数据"
   ]
  },
  {
   "cell_type": "code",
   "execution_count": 22,
   "metadata": {},
   "outputs": [],
   "source": [
    "from sklearn.preprocessing import StandardScaler\n",
    "std_scaler = StandardScaler()\n",
    "x_std = std_scaler.fit_transform(X)\n",
    "std_data = np.hstack((x_std,y))"
   ]
  },
  {
   "cell_type": "markdown",
   "metadata": {},
   "source": [
    "#### 批量梯度下降"
   ]
  },
  {
   "cell_type": "code",
   "execution_count": 23,
   "metadata": {},
   "outputs": [
    {
     "name": "stdout",
     "output_type": "stream",
     "text": [
      "第0次迭代，当前损失: 0.6914873564555161\n",
      "第10000次迭代，当前损失: 0.3431715230980382\n",
      "第20000次迭代，当前损失: 0.3055948937332997\n",
      "第30000次迭代，当前损失: 0.2930095865119282\n",
      "第40000次迭代，当前损失: 0.28726919410837665\n",
      "第50000次迭代，当前损失: 0.284239252713627\n",
      "第60000次迭代，当前损失: 0.2824982343133634\n",
      "第70000次迭代，当前损失: 0.2814411846443276\n",
      "第80000次迭代，当前损失: 0.2807743825632383\n",
      "第90000次迭代，当前损失: 0.28034189581502034\n",
      "theta: [[1.79974155e-03 2.62050488e+00 2.32763798e+00]]\n",
      "耗时：14.64s\n"
     ]
    },
    {
     "data": {
      "text/plain": [
       "[<matplotlib.lines.Line2D at 0x21142bf14a8>]"
      ]
     },
     "execution_count": 23,
     "metadata": {},
     "output_type": "execute_result"
    },
    {
     "data": {
      "image/png": "[encoded data removed]",
      "text/plain": [
       "<Figure size 432x288 with 1 Axes>"
      ]
     },
     "metadata": {
      "needs_background": "light"
     },
     "output_type": "display_data"
    }
   ],
   "source": [
    "theta, costs, grad, time_cost = descent(std_data, theta, 100, 100000, 0.001)\n",
    "print('theta:',theta)\n",
    "print('耗时：%03.2fs'%time_cost)\n",
    "plt.plot(range(len(costs)),costs)"
   ]
  },
  {
   "cell_type": "markdown",
   "metadata": {},
   "source": [
    "#### 随机梯度下降"
   ]
  },
  {
   "cell_type": "code",
   "execution_count": 24,
   "metadata": {},
   "outputs": [
    {
     "name": "stdout",
     "output_type": "stream",
     "text": [
      "第0次迭代，当前损失: 0.6897056491346477\n",
      "第10000次迭代，当前损失: 0.3430699672956139\n",
      "第20000次迭代，当前损失: 0.3055662627248557\n",
      "第30000次迭代，当前损失: 0.29299645909469224\n",
      "第40000次迭代，当前损失: 0.28726289212093303\n",
      "第50000次迭代，当前损失: 0.28423510762568505\n",
      "第60000次迭代，当前损失: 0.2824978411131996\n",
      "第70000次迭代，当前损失: 0.28143939450487837\n",
      "第80000次迭代，当前损失: 0.28077327876296737\n",
      "第90000次迭代，当前损失: 0.2803409967917529\n",
      "theta: [[1.22575407e-03 2.62056445e+00 2.32774180e+00]]\n",
      "耗时：4.38s\n"
     ]
    },
    {
     "data": {
      "text/plain": [
       "[<matplotlib.lines.Line2D at 0x21142be1be0>]"
      ]
     },
     "execution_count": 24,
     "metadata": {},
     "output_type": "execute_result"
    },
    {
     "data": {
      "image/png": "[encoded data removed]",
      "text/plain": [
       "<Figure size 432x288 with 1 Axes>"
      ]
     },
     "metadata": {
      "needs_background": "light"
     },
     "output_type": "display_data"
    }
   ],
   "source": [
    "theta, costs, grad, time_cost = descent(std_data, theta, 1, 100000, 0.001)\n",
    "print('theta:',theta)\n",
    "print('耗时：%03.2fs'%time_cost)\n",
    "plt.plot(range(len(costs)),costs)"
   ]
  },
  {
   "cell_type": "markdown",
   "metadata": {},
   "source": [
    "#### 小批量梯度下降"
   ]
  },
  {
   "cell_type": "code",
   "execution_count": 25,
   "metadata": {},
   "outputs": [
    {
     "name": "stdout",
     "output_type": "stream",
     "text": [
      "第0次迭代，当前损失: 0.6892250380678536\n",
      "第10000次迭代，当前损失: 0.3430463035789857\n",
      "第20000次迭代，当前损失: 0.30555738567654533\n",
      "第30000次迭代，当前损失: 0.29299801505901046\n",
      "第40000次迭代，当前损失: 0.2872755836516928\n",
      "第50000次迭代，当前损失: 0.28424512348186565\n",
      "第60000次迭代，当前损失: 0.28249761953825986\n",
      "第70000次迭代，当前损失: 0.28144529675280916\n",
      "第80000次迭代，当前损失: 0.2807758482406047\n",
      "第90000次迭代，当前损失: 0.28034381362410427\n",
      "theta: [[0.00333922 2.62041989 2.327114  ]]\n",
      "耗时：9.61s\n"
     ]
    },
    {
     "data": {
      "text/plain": [
       "[<matplotlib.lines.Line2D at 0x211436d15f8>]"
      ]
     },
     "execution_count": 25,
     "metadata": {},
     "output_type": "execute_result"
    },
    {
     "data": {
      "image/png": "[encoded data removed]",
      "text/plain": [
       "<Figure size 432x288 with 1 Axes>"
      ]
     },
     "metadata": {
      "needs_background": "light"
     },
     "output_type": "display_data"
    }
   ],
   "source": [
    "theta, costs, grad, time_cost = descent(std_data, theta, 64, 100000, 0.001)\n",
    "print('theta:',theta)\n",
    "print('耗时：%03.2fs'%time_cost)\n",
    "plt.plot(range(len(costs)),costs)"
   ]
  },
  {
   "cell_type": "code",
   "execution_count": 26,
   "metadata": {},
   "outputs": [],
   "source": [
    "predict = 1*(h(x_std,theta)>0.5)#预测类别"
   ]
  },
  {
   "cell_type": "code",
   "execution_count": 27,
   "metadata": {},
   "outputs": [
    {
     "data": {
      "text/plain": [
       "87"
      ]
     },
     "execution_count": 27,
     "metadata": {},
     "output_type": "execute_result"
    }
   ],
   "source": [
    "(y == predict).sum()#预测正确的总样本数"
   ]
  },
  {
   "cell_type": "code",
   "execution_count": 28,
   "metadata": {},
   "outputs": [
    {
     "data": {
      "text/plain": [
       "[<matplotlib.lines.Line2D at 0x2113e49aeb8>]"
      ]
     },
     "execution_count": 28,
     "metadata": {},
     "output_type": "execute_result"
    },
    {
     "data": {
      "image/png": "[encoded data removed]",
      "text/plain": [
       "<Figure size 432x360 with 1 Axes>"
      ]
     },
     "metadata": {
      "needs_background": "light"
     },
     "output_type": "display_data"
    }
   ],
   "source": [
    "X = std_data[:,1:]\n",
    "positive = X[X[:,2] == 1,:] \n",
    "negative = X[X[:,2] == 0,:]\n",
    "\n",
    "fig = plt.figure(figsize=(6,5))\n",
    "plt.scatter(positive[:,0], positive[:,1], s=30, c='b', marker='o', label='通过') \n",
    "#s设置点的大小，c设置颜色，marker设置点的形状，label设置图例\n",
    "plt.scatter(negative[:,0], negative[:,1], s=30, c='r', marker='x', label='淘汰')\n",
    "plt.legend()#显示图例\n",
    "plt.xlabel('科目1分数（标准化）')#设置横坐标标题\n",
    "plt.ylabel('科目2分数（标准化）')\n",
    "\n",
    "#画出决策边界\n",
    "x1 = np.arange(-2,2.5)\n",
    "x2 = (-theta[0,1]/theta[0,2])*x1-(theta[0,0]/theta[0,2])\n",
    "plt.plot(x1,x2)"
   ]
  },
  {
   "cell_type": "code",
   "execution_count": null,
   "metadata": {},
   "outputs": [],
   "source": []
  }
 ],
 "metadata": {
  "kernelspec": {
   "display_name": "Python 3",
   "language": "python",
   "name": "python3"
  },
  "language_info": {
   "codemirror_mode": {
    "name": "ipython",
    "version": 3
   },
   "file_extension": ".py",
   "mimetype": "text/x-python",
   "name": "python",
   "nbconvert_exporter": "python",
   "pygments_lexer": "ipython3",
   "version": "3.6.5"
  }
 },
 "nbformat": 4,
 "nbformat_minor": 2
}
