{
 "cells": [
  {
   "cell_type": "markdown",
   "metadata": {},
   "source": [
    "# 1.分类和回归\n",
    "###     定量输出称为回归，或者说是连续变量预测，预测明天的气温是多少度，这是一个回归任务\n",
    "###     定性输出称为分类，或者说是离散变量预测，预测明天是阴、晴还是雨，就是一个分类任务\n"
   ]
  },
  {
   "cell_type": "markdown",
   "metadata": {},
   "source": [
    "# 2.机器学习-K近邻\n",
    "\n",
    "### 房价预测任务"
   ]
  },
  {
   "cell_type": "markdown",
   "metadata": {},
   "source": [
    "<img src=\"民宿.png\" style=\"width:800px;height:480px;float:left\">"
   ]
  },
  {
   "cell_type": "markdown",
   "metadata": {},
   "source": [
    "## 数据读取"
   ]
  },
  {
   "cell_type": "code",
   "execution_count": 134,
   "metadata": {},
   "outputs": [
    {
     "data": {
      "text/html": [
       "<div>\n",
       "<style scoped>\n",
       "    .dataframe tbody tr th:only-of-type {\n",
       "        vertical-align: middle;\n",
       "    }\n",
       "\n",
       "    .dataframe tbody tr th {\n",
       "        vertical-align: top;\n",
       "    }\n",
       "\n",
       "    .dataframe thead th {\n",
       "        text-align: right;\n",
       "    }\n",
       "</style>\n",
       "<table border=\"1\" class=\"dataframe\">\n",
       "  <thead>\n",
       "    <tr style=\"text-align: right;\">\n",
       "      <th></th>\n",
       "      <th>last_scraped</th>\n",
       "      <th>name</th>\n",
       "      <th>summary</th>\n",
       "      <th>space</th>\n",
       "      <th>description</th>\n",
       "      <th>experiences_offered</th>\n",
       "      <th>neighborhood_overview</th>\n",
       "      <th>notes</th>\n",
       "      <th>transit</th>\n",
       "      <th>thumbnail_url</th>\n",
       "      <th>...</th>\n",
       "      <th>review_scores_value</th>\n",
       "      <th>requires_license</th>\n",
       "      <th>license</th>\n",
       "      <th>jurisdiction_names</th>\n",
       "      <th>instant_bookable</th>\n",
       "      <th>cancellation_policy</th>\n",
       "      <th>require_guest_profile_picture</th>\n",
       "      <th>require_guest_phone_verification</th>\n",
       "      <th>calculated_host_listings_count</th>\n",
       "      <th>reviews_per_month</th>\n",
       "    </tr>\n",
       "  </thead>\n",
       "  <tbody>\n",
       "    <tr>\n",
       "      <th>0</th>\n",
       "      <td>2015-10-03</td>\n",
       "      <td>Historic DC Condo-Walk to Capitol!</td>\n",
       "      <td>Professional pictures coming soon! Welcome to ...</td>\n",
       "      <td>NaN</td>\n",
       "      <td>Professional pictures coming soon! Welcome to ...</td>\n",
       "      <td>none</td>\n",
       "      <td>NaN</td>\n",
       "      <td>NaN</td>\n",
       "      <td>NaN</td>\n",
       "      <td>https://a2.muscache.com/ac/pictures/105507202/...</td>\n",
       "      <td>...</td>\n",
       "      <td>NaN</td>\n",
       "      <td>f</td>\n",
       "      <td>NaN</td>\n",
       "      <td>DISTRICT OF COLUMBIA, WASHINGTON</td>\n",
       "      <td>f</td>\n",
       "      <td>flexible</td>\n",
       "      <td>f</td>\n",
       "      <td>f</td>\n",
       "      <td>18</td>\n",
       "      <td>NaN</td>\n",
       "    </tr>\n",
       "    <tr>\n",
       "      <th>1</th>\n",
       "      <td>2015-10-03</td>\n",
       "      <td>Spacious Capitol Hill Townhouse</td>\n",
       "      <td>NaN</td>\n",
       "      <td>Beautifully renovated Capitol Hill townhouse. ...</td>\n",
       "      <td>Beautifully renovated Capitol Hill townhouse. ...</td>\n",
       "      <td>none</td>\n",
       "      <td>NaN</td>\n",
       "      <td>NaN</td>\n",
       "      <td>NaN</td>\n",
       "      <td>https://a2.muscache.com/ac/pictures/14613245/d...</td>\n",
       "      <td>...</td>\n",
       "      <td>9.0</td>\n",
       "      <td>f</td>\n",
       "      <td>NaN</td>\n",
       "      <td>DISTRICT OF COLUMBIA, WASHINGTON</td>\n",
       "      <td>f</td>\n",
       "      <td>strict</td>\n",
       "      <td>f</td>\n",
       "      <td>f</td>\n",
       "      <td>1</td>\n",
       "      <td>2.11</td>\n",
       "    </tr>\n",
       "    <tr>\n",
       "      <th>2</th>\n",
       "      <td>2015-10-03</td>\n",
       "      <td>Spacious/private room for single</td>\n",
       "      <td>This is an ideal room for a single traveler th...</td>\n",
       "      <td>NaN</td>\n",
       "      <td>This is an ideal room for a single traveler th...</td>\n",
       "      <td>none</td>\n",
       "      <td>NaN</td>\n",
       "      <td>NaN</td>\n",
       "      <td>NaN</td>\n",
       "      <td>https://a1.muscache.com/ac/pictures/104989386/...</td>\n",
       "      <td>...</td>\n",
       "      <td>NaN</td>\n",
       "      <td>f</td>\n",
       "      <td>NaN</td>\n",
       "      <td>NaN</td>\n",
       "      <td>f</td>\n",
       "      <td>flexible</td>\n",
       "      <td>f</td>\n",
       "      <td>f</td>\n",
       "      <td>1</td>\n",
       "      <td>1.00</td>\n",
       "    </tr>\n",
       "    <tr>\n",
       "      <th>3</th>\n",
       "      <td>2015-10-03</td>\n",
       "      <td>A wonderful bedroom with library</td>\n",
       "      <td>Prime location right on the Potomac River in W...</td>\n",
       "      <td>NaN</td>\n",
       "      <td>Prime location right on the Potomac River in W...</td>\n",
       "      <td>none</td>\n",
       "      <td>NaN</td>\n",
       "      <td>NaN</td>\n",
       "      <td>NaN</td>\n",
       "      <td>https://a2.muscache.com/ac/pictures/106977751/...</td>\n",
       "      <td>...</td>\n",
       "      <td>NaN</td>\n",
       "      <td>f</td>\n",
       "      <td>NaN</td>\n",
       "      <td>DISTRICT OF COLUMBIA, WASHINGTON</td>\n",
       "      <td>f</td>\n",
       "      <td>flexible</td>\n",
       "      <td>f</td>\n",
       "      <td>f</td>\n",
       "      <td>1</td>\n",
       "      <td>NaN</td>\n",
       "    </tr>\n",
       "    <tr>\n",
       "      <th>4</th>\n",
       "      <td>2015-10-03</td>\n",
       "      <td>Downtown Silver Spring</td>\n",
       "      <td>Hi travellers! I live in this peaceful spot, b...</td>\n",
       "      <td>This is a 750 sq ft 1 bedroom 1 bathroom.  Whi...</td>\n",
       "      <td>Hi travellers! I live in this peaceful spot, b...</td>\n",
       "      <td>none</td>\n",
       "      <td>Silver Spring is booming.  You can walk to a n...</td>\n",
       "      <td>NaN</td>\n",
       "      <td>You can walk to the bus stop (1 min) Subway AN...</td>\n",
       "      <td>https://a2.muscache.com/ac/pictures/107730164/...</td>\n",
       "      <td>...</td>\n",
       "      <td>NaN</td>\n",
       "      <td>f</td>\n",
       "      <td>NaN</td>\n",
       "      <td>NaN</td>\n",
       "      <td>f</td>\n",
       "      <td>flexible</td>\n",
       "      <td>f</td>\n",
       "      <td>f</td>\n",
       "      <td>1</td>\n",
       "      <td>NaN</td>\n",
       "    </tr>\n",
       "  </tbody>\n",
       "</table>\n",
       "<p>5 rows × 89 columns</p>\n",
       "</div>"
      ],
      "text/plain": [
       "  last_scraped                                name  \\\n",
       "0   2015-10-03  Historic DC Condo-Walk to Capitol!   \n",
       "1   2015-10-03     Spacious Capitol Hill Townhouse   \n",
       "2   2015-10-03    Spacious/private room for single   \n",
       "3   2015-10-03    A wonderful bedroom with library   \n",
       "4   2015-10-03              Downtown Silver Spring   \n",
       "\n",
       "                                             summary  \\\n",
       "0  Professional pictures coming soon! Welcome to ...   \n",
       "1                                                NaN   \n",
       "2  This is an ideal room for a single traveler th...   \n",
       "3  Prime location right on the Potomac River in W...   \n",
       "4  Hi travellers! I live in this peaceful spot, b...   \n",
       "\n",
       "                                               space  \\\n",
       "0                                                NaN   \n",
       "1  Beautifully renovated Capitol Hill townhouse. ...   \n",
       "2                                                NaN   \n",
       "3                                                NaN   \n",
       "4  This is a 750 sq ft 1 bedroom 1 bathroom.  Whi...   \n",
       "\n",
       "                                         description experiences_offered  \\\n",
       "0  Professional pictures coming soon! Welcome to ...                none   \n",
       "1  Beautifully renovated Capitol Hill townhouse. ...                none   \n",
       "2  This is an ideal room for a single traveler th...                none   \n",
       "3  Prime location right on the Potomac River in W...                none   \n",
       "4  Hi travellers! I live in this peaceful spot, b...                none   \n",
       "\n",
       "                               neighborhood_overview notes  \\\n",
       "0                                                NaN   NaN   \n",
       "1                                                NaN   NaN   \n",
       "2                                                NaN   NaN   \n",
       "3                                                NaN   NaN   \n",
       "4  Silver Spring is booming.  You can walk to a n...   NaN   \n",
       "\n",
       "                                             transit  \\\n",
       "0                                                NaN   \n",
       "1                                                NaN   \n",
       "2                                                NaN   \n",
       "3                                                NaN   \n",
       "4  You can walk to the bus stop (1 min) Subway AN...   \n",
       "\n",
       "                                       thumbnail_url        ...         \\\n",
       "0  https://a2.muscache.com/ac/pictures/105507202/...        ...          \n",
       "1  https://a2.muscache.com/ac/pictures/14613245/d...        ...          \n",
       "2  https://a1.muscache.com/ac/pictures/104989386/...        ...          \n",
       "3  https://a2.muscache.com/ac/pictures/106977751/...        ...          \n",
       "4  https://a2.muscache.com/ac/pictures/107730164/...        ...          \n",
       "\n",
       "  review_scores_value requires_license license  \\\n",
       "0                 NaN                f     NaN   \n",
       "1                 9.0                f     NaN   \n",
       "2                 NaN                f     NaN   \n",
       "3                 NaN                f     NaN   \n",
       "4                 NaN                f     NaN   \n",
       "\n",
       "                 jurisdiction_names instant_bookable cancellation_policy  \\\n",
       "0  DISTRICT OF COLUMBIA, WASHINGTON                f            flexible   \n",
       "1  DISTRICT OF COLUMBIA, WASHINGTON                f              strict   \n",
       "2                               NaN                f            flexible   \n",
       "3  DISTRICT OF COLUMBIA, WASHINGTON                f            flexible   \n",
       "4                               NaN                f            flexible   \n",
       "\n",
       "  require_guest_profile_picture require_guest_phone_verification  \\\n",
       "0                             f                                f   \n",
       "1                             f                                f   \n",
       "2                             f                                f   \n",
       "3                             f                                f   \n",
       "4                             f                                f   \n",
       "\n",
       "  calculated_host_listings_count reviews_per_month  \n",
       "0                             18               NaN  \n",
       "1                              1              2.11  \n",
       "2                              1              1.00  \n",
       "3                              1               NaN  \n",
       "4                              1               NaN  \n",
       "\n",
       "[5 rows x 89 columns]"
      ]
     },
     "execution_count": 134,
     "metadata": {},
     "output_type": "execute_result"
    }
   ],
   "source": [
    "import pandas as pd\n",
    "\n",
    "#features = ['accommodates','bedrooms','bathrooms','beds','price','minimum_nights','maximum_nights','number_of_reviews']\n",
    "#将特征名称（数据的列名），共8个特征，写在一个列表当中\n",
    "dc_listings = pd.read_csv('listings.csv')#pd.read_csv读入一个csv格式文件\n",
    "\n",
    "#print(dc_listings.columns)\n",
    "dc_listings = dc_listings.iloc[:, 3:]#取对应特征（列名）的数据\n",
    "\n",
    "dc_listings.head()#显示前5行"
   ]
  },
  {
   "cell_type": "markdown",
   "metadata": {},
   "source": [
    "## 我有一个3个卧室的房子，租多少钱呢？\n",
    "不知道的话，就去看看别人3个卧室的都租多少钱吧！"
   ]
  },
  {
   "cell_type": "markdown",
   "metadata": {},
   "source": [
    "数据特征：\n",
    "\n",
    "* accommodates: 可以容纳的旅客，当做是房间的数量\n",
    "* bedrooms: 卧室的数量\n",
    "* bathrooms: 厕所的数量\n",
    "* beds: 床的数量\n",
    "* price: 每晚的费用\n",
    "* minimum_nights: 客人最少租了几天\n",
    "* maximum_nights: 客人最多租了几天\n",
    "* number_of_reviews: 评论的数量"
   ]
  },
  {
   "cell_type": "markdown",
   "metadata": {},
   "source": [
    "<img src=\"2.png\" style=\"width:600px;height:230px;float:left\">"
   ]
  },
  {
   "cell_type": "markdown",
   "metadata": {},
   "source": [
    "K代表我们的候选对象个数，也就是找和我房间数量最相近的其他房子的价格"
   ]
  },
  {
   "cell_type": "markdown",
   "metadata": {},
   "source": [
    "## K近邻原理"
   ]
  },
  {
   "cell_type": "markdown",
   "metadata": {},
   "source": [
    "<img src=\"3.png\" style=\"width:600px;height:330px;float:left\">"
   ]
  },
  {
   "cell_type": "markdown",
   "metadata": {},
   "source": [
    "假设我们的数据源中只有5条信息，现在我想针对我的房子（只有一个房间）来定一个价格。"
   ]
  },
  {
   "cell_type": "markdown",
   "metadata": {},
   "source": [
    "<img src=\"4.png\" style=\"width:600px;height:330px;float:left\">"
   ]
  },
  {
   "cell_type": "markdown",
   "metadata": {},
   "source": [
    "在这里假设我们选择的K=3，也就是选3个跟我最相近的房源。"
   ]
  },
  {
   "cell_type": "markdown",
   "metadata": {},
   "source": [
    "<img src=\"5.png\" style=\"width:600px;height:330px;float:left\">"
   ]
  },
  {
   "cell_type": "markdown",
   "metadata": {},
   "source": [
    "再综合考虑这三个我就得到了我的房子大概能值多钱啦！"
   ]
  },
  {
   "cell_type": "markdown",
   "metadata": {},
   "source": [
    "## 距离的定义\n",
    "如何才能知道哪些数据样本跟我最相近呢？"
   ]
  },
  {
   "cell_type": "markdown",
   "metadata": {},
   "source": [
    "### 欧氏距离公式"
   ]
  },
  {
   "cell_type": "markdown",
   "metadata": {},
   "source": [
    "<img src=\"距离.png\" style=\"width:800px;height:180px;float:left\">"
   ]
  },
  {
   "cell_type": "markdown",
   "metadata": {},
   "source": [
    "其中p1到pn是一条数据的所有特征信息，q1到qn是另一条数据的所有特征信息"
   ]
  },
  {
   "cell_type": "markdown",
   "metadata": {},
   "source": [
    "# K邻近算法步骤（回归）：\n",
    "\n",
    "### 1.计算待预测样本与训练集的每个样本的距离\n",
    "### 2.将训练集的样本按照距离从小到大排序\n",
    "### 3.取前K个距离最小的训练样本，计算该K个样本标签的平均值作为预测值\n",
    "### （若是KNN做分类任务，第三个步骤改为：取前K个距离最小的训练样本，返回前K个样本频率最高的类别作为预测类别）"
   ]
  },
  {
   "cell_type": "markdown",
   "metadata": {},
   "source": [
    "假设我们的房子有3个房间"
   ]
  },
  {
   "cell_type": "markdown",
   "metadata": {},
   "source": [
    "### 基于单变量预测价格"
   ]
  },
  {
   "cell_type": "markdown",
   "metadata": {},
   "source": [
    "<img src=\"单距离公式.png\" style=\"width:400px;height:100px;float:left\">"
   ]
  },
  {
   "cell_type": "code",
   "execution_count": 135,
   "metadata": {},
   "outputs": [
    {
     "data": {
      "text/plain": [
       "0      461\n",
       "1     2294\n",
       "2      503\n",
       "3      279\n",
       "4       35\n",
       "5       73\n",
       "6       17\n",
       "7       22\n",
       "8        7\n",
       "9       12\n",
       "10       2\n",
       "11       4\n",
       "12       6\n",
       "13       8\n",
       "Name: distance, dtype: int64"
      ]
     },
     "execution_count": 135,
     "metadata": {},
     "output_type": "execute_result"
    }
   ],
   "source": [
    "import numpy as np\n",
    "\n",
    "our_acc_value = 3\n",
    "\n",
    "dc_listings['distance'] = np.abs(dc_listings.accommodates - our_acc_value)\n",
    "#np.abs算绝对值，absolute value\n",
    "#dc_listings.accommodates - our_acc_value  一列数据减去一个数，对应位置相减\n",
    "dc_listings.distance.value_counts().sort_index()\n",
    "#value_counts()统计值的个数，sort_index()按照索引index排序,此时index是distance"
   ]
  },
  {
   "cell_type": "code",
   "execution_count": 136,
   "metadata": {},
   "outputs": [
    {
     "data": {
      "text/html": [
       "<div>\n",
       "<style scoped>\n",
       "    .dataframe tbody tr th:only-of-type {\n",
       "        vertical-align: middle;\n",
       "    }\n",
       "\n",
       "    .dataframe tbody tr th {\n",
       "        vertical-align: top;\n",
       "    }\n",
       "\n",
       "    .dataframe thead th {\n",
       "        text-align: right;\n",
       "    }\n",
       "</style>\n",
       "<table border=\"1\" class=\"dataframe\">\n",
       "  <thead>\n",
       "    <tr style=\"text-align: right;\">\n",
       "      <th></th>\n",
       "      <th>last_scraped</th>\n",
       "      <th>name</th>\n",
       "      <th>summary</th>\n",
       "      <th>space</th>\n",
       "      <th>description</th>\n",
       "      <th>experiences_offered</th>\n",
       "      <th>neighborhood_overview</th>\n",
       "      <th>notes</th>\n",
       "      <th>transit</th>\n",
       "      <th>thumbnail_url</th>\n",
       "      <th>...</th>\n",
       "      <th>requires_license</th>\n",
       "      <th>license</th>\n",
       "      <th>jurisdiction_names</th>\n",
       "      <th>instant_bookable</th>\n",
       "      <th>cancellation_policy</th>\n",
       "      <th>require_guest_profile_picture</th>\n",
       "      <th>require_guest_phone_verification</th>\n",
       "      <th>calculated_host_listings_count</th>\n",
       "      <th>reviews_per_month</th>\n",
       "      <th>distance</th>\n",
       "    </tr>\n",
       "  </thead>\n",
       "  <tbody>\n",
       "    <tr>\n",
       "      <th>0</th>\n",
       "      <td>2015-10-03</td>\n",
       "      <td>Historic DC Condo-Walk to Capitol!</td>\n",
       "      <td>Professional pictures coming soon! Welcome to ...</td>\n",
       "      <td>NaN</td>\n",
       "      <td>Professional pictures coming soon! Welcome to ...</td>\n",
       "      <td>none</td>\n",
       "      <td>NaN</td>\n",
       "      <td>NaN</td>\n",
       "      <td>NaN</td>\n",
       "      <td>https://a2.muscache.com/ac/pictures/105507202/...</td>\n",
       "      <td>...</td>\n",
       "      <td>f</td>\n",
       "      <td>NaN</td>\n",
       "      <td>DISTRICT OF COLUMBIA, WASHINGTON</td>\n",
       "      <td>f</td>\n",
       "      <td>flexible</td>\n",
       "      <td>f</td>\n",
       "      <td>f</td>\n",
       "      <td>18</td>\n",
       "      <td>NaN</td>\n",
       "      <td>1</td>\n",
       "    </tr>\n",
       "    <tr>\n",
       "      <th>1</th>\n",
       "      <td>2015-10-03</td>\n",
       "      <td>Spacious Capitol Hill Townhouse</td>\n",
       "      <td>NaN</td>\n",
       "      <td>Beautifully renovated Capitol Hill townhouse. ...</td>\n",
       "      <td>Beautifully renovated Capitol Hill townhouse. ...</td>\n",
       "      <td>none</td>\n",
       "      <td>NaN</td>\n",
       "      <td>NaN</td>\n",
       "      <td>NaN</td>\n",
       "      <td>https://a2.muscache.com/ac/pictures/14613245/d...</td>\n",
       "      <td>...</td>\n",
       "      <td>f</td>\n",
       "      <td>NaN</td>\n",
       "      <td>DISTRICT OF COLUMBIA, WASHINGTON</td>\n",
       "      <td>f</td>\n",
       "      <td>strict</td>\n",
       "      <td>f</td>\n",
       "      <td>f</td>\n",
       "      <td>1</td>\n",
       "      <td>2.11</td>\n",
       "      <td>3</td>\n",
       "    </tr>\n",
       "    <tr>\n",
       "      <th>2</th>\n",
       "      <td>2015-10-03</td>\n",
       "      <td>Spacious/private room for single</td>\n",
       "      <td>This is an ideal room for a single traveler th...</td>\n",
       "      <td>NaN</td>\n",
       "      <td>This is an ideal room for a single traveler th...</td>\n",
       "      <td>none</td>\n",
       "      <td>NaN</td>\n",
       "      <td>NaN</td>\n",
       "      <td>NaN</td>\n",
       "      <td>https://a1.muscache.com/ac/pictures/104989386/...</td>\n",
       "      <td>...</td>\n",
       "      <td>f</td>\n",
       "      <td>NaN</td>\n",
       "      <td>NaN</td>\n",
       "      <td>f</td>\n",
       "      <td>flexible</td>\n",
       "      <td>f</td>\n",
       "      <td>f</td>\n",
       "      <td>1</td>\n",
       "      <td>1.00</td>\n",
       "      <td>2</td>\n",
       "    </tr>\n",
       "    <tr>\n",
       "      <th>3</th>\n",
       "      <td>2015-10-03</td>\n",
       "      <td>A wonderful bedroom with library</td>\n",
       "      <td>Prime location right on the Potomac River in W...</td>\n",
       "      <td>NaN</td>\n",
       "      <td>Prime location right on the Potomac River in W...</td>\n",
       "      <td>none</td>\n",
       "      <td>NaN</td>\n",
       "      <td>NaN</td>\n",
       "      <td>NaN</td>\n",
       "      <td>https://a2.muscache.com/ac/pictures/106977751/...</td>\n",
       "      <td>...</td>\n",
       "      <td>f</td>\n",
       "      <td>NaN</td>\n",
       "      <td>DISTRICT OF COLUMBIA, WASHINGTON</td>\n",
       "      <td>f</td>\n",
       "      <td>flexible</td>\n",
       "      <td>f</td>\n",
       "      <td>f</td>\n",
       "      <td>1</td>\n",
       "      <td>NaN</td>\n",
       "      <td>1</td>\n",
       "    </tr>\n",
       "    <tr>\n",
       "      <th>4</th>\n",
       "      <td>2015-10-03</td>\n",
       "      <td>Downtown Silver Spring</td>\n",
       "      <td>Hi travellers! I live in this peaceful spot, b...</td>\n",
       "      <td>This is a 750 sq ft 1 bedroom 1 bathroom.  Whi...</td>\n",
       "      <td>Hi travellers! I live in this peaceful spot, b...</td>\n",
       "      <td>none</td>\n",
       "      <td>Silver Spring is booming.  You can walk to a n...</td>\n",
       "      <td>NaN</td>\n",
       "      <td>You can walk to the bus stop (1 min) Subway AN...</td>\n",
       "      <td>https://a2.muscache.com/ac/pictures/107730164/...</td>\n",
       "      <td>...</td>\n",
       "      <td>f</td>\n",
       "      <td>NaN</td>\n",
       "      <td>NaN</td>\n",
       "      <td>f</td>\n",
       "      <td>flexible</td>\n",
       "      <td>f</td>\n",
       "      <td>f</td>\n",
       "      <td>1</td>\n",
       "      <td>NaN</td>\n",
       "      <td>1</td>\n",
       "    </tr>\n",
       "  </tbody>\n",
       "</table>\n",
       "<p>5 rows × 90 columns</p>\n",
       "</div>"
      ],
      "text/plain": [
       "  last_scraped                                name  \\\n",
       "0   2015-10-03  Historic DC Condo-Walk to Capitol!   \n",
       "1   2015-10-03     Spacious Capitol Hill Townhouse   \n",
       "2   2015-10-03    Spacious/private room for single   \n",
       "3   2015-10-03    A wonderful bedroom with library   \n",
       "4   2015-10-03              Downtown Silver Spring   \n",
       "\n",
       "                                             summary  \\\n",
       "0  Professional pictures coming soon! Welcome to ...   \n",
       "1                                                NaN   \n",
       "2  This is an ideal room for a single traveler th...   \n",
       "3  Prime location right on the Potomac River in W...   \n",
       "4  Hi travellers! I live in this peaceful spot, b...   \n",
       "\n",
       "                                               space  \\\n",
       "0                                                NaN   \n",
       "1  Beautifully renovated Capitol Hill townhouse. ...   \n",
       "2                                                NaN   \n",
       "3                                                NaN   \n",
       "4  This is a 750 sq ft 1 bedroom 1 bathroom.  Whi...   \n",
       "\n",
       "                                         description experiences_offered  \\\n",
       "0  Professional pictures coming soon! Welcome to ...                none   \n",
       "1  Beautifully renovated Capitol Hill townhouse. ...                none   \n",
       "2  This is an ideal room for a single traveler th...                none   \n",
       "3  Prime location right on the Potomac River in W...                none   \n",
       "4  Hi travellers! I live in this peaceful spot, b...                none   \n",
       "\n",
       "                               neighborhood_overview notes  \\\n",
       "0                                                NaN   NaN   \n",
       "1                                                NaN   NaN   \n",
       "2                                                NaN   NaN   \n",
       "3                                                NaN   NaN   \n",
       "4  Silver Spring is booming.  You can walk to a n...   NaN   \n",
       "\n",
       "                                             transit  \\\n",
       "0                                                NaN   \n",
       "1                                                NaN   \n",
       "2                                                NaN   \n",
       "3                                                NaN   \n",
       "4  You can walk to the bus stop (1 min) Subway AN...   \n",
       "\n",
       "                                       thumbnail_url   ...     \\\n",
       "0  https://a2.muscache.com/ac/pictures/105507202/...   ...      \n",
       "1  https://a2.muscache.com/ac/pictures/14613245/d...   ...      \n",
       "2  https://a1.muscache.com/ac/pictures/104989386/...   ...      \n",
       "3  https://a2.muscache.com/ac/pictures/106977751/...   ...      \n",
       "4  https://a2.muscache.com/ac/pictures/107730164/...   ...      \n",
       "\n",
       "  requires_license license                jurisdiction_names  \\\n",
       "0                f     NaN  DISTRICT OF COLUMBIA, WASHINGTON   \n",
       "1                f     NaN  DISTRICT OF COLUMBIA, WASHINGTON   \n",
       "2                f     NaN                               NaN   \n",
       "3                f     NaN  DISTRICT OF COLUMBIA, WASHINGTON   \n",
       "4                f     NaN                               NaN   \n",
       "\n",
       "   instant_bookable cancellation_policy require_guest_profile_picture  \\\n",
       "0                 f            flexible                             f   \n",
       "1                 f              strict                             f   \n",
       "2                 f            flexible                             f   \n",
       "3                 f            flexible                             f   \n",
       "4                 f            flexible                             f   \n",
       "\n",
       "  require_guest_phone_verification calculated_host_listings_count  \\\n",
       "0                                f                             18   \n",
       "1                                f                              1   \n",
       "2                                f                              1   \n",
       "3                                f                              1   \n",
       "4                                f                              1   \n",
       "\n",
       "  reviews_per_month distance  \n",
       "0               NaN        1  \n",
       "1              2.11        3  \n",
       "2              1.00        2  \n",
       "3               NaN        1  \n",
       "4               NaN        1  \n",
       "\n",
       "[5 rows x 90 columns]"
      ]
     },
     "execution_count": 136,
     "metadata": {},
     "output_type": "execute_result"
    }
   ],
   "source": [
    "dc_listings.head()"
   ]
  },
  {
   "cell_type": "code",
   "execution_count": 137,
   "metadata": {},
   "outputs": [
    {
     "data": {
      "text/plain": [
       "0    4\n",
       "1    6\n",
       "2    1\n",
       "3    2\n",
       "4    4\n",
       "Name: accommodates, dtype: int64"
      ]
     },
     "execution_count": 137,
     "metadata": {},
     "output_type": "execute_result"
    }
   ],
   "source": [
    "dc_listings.accommodates[:5]\n",
    "dc_listings['accommodates'][:5]"
   ]
  },
  {
   "cell_type": "markdown",
   "metadata": {},
   "source": [
    "这里我们只有了绝对值来计算，和我们距离为0的（同样数量的房间）有461个"
   ]
  },
  {
   "cell_type": "markdown",
   "metadata": {},
   "source": [
    "sample操作可以得到洗牌后的数据"
   ]
  },
  {
   "cell_type": "code",
   "execution_count": 138,
   "metadata": {},
   "outputs": [
    {
     "name": "stdout",
     "output_type": "stream",
     "text": [
      "577     $185.00\n",
      "2166    $180.00\n",
      "3631    $175.00\n",
      "71      $128.00\n",
      "1011    $115.00\n",
      "Name: price, dtype: object\n"
     ]
    },
    {
     "data": {
      "text/html": [
       "<div>\n",
       "<style scoped>\n",
       "    .dataframe tbody tr th:only-of-type {\n",
       "        vertical-align: middle;\n",
       "    }\n",
       "\n",
       "    .dataframe tbody tr th {\n",
       "        vertical-align: top;\n",
       "    }\n",
       "\n",
       "    .dataframe thead th {\n",
       "        text-align: right;\n",
       "    }\n",
       "</style>\n",
       "<table border=\"1\" class=\"dataframe\">\n",
       "  <thead>\n",
       "    <tr style=\"text-align: right;\">\n",
       "      <th></th>\n",
       "      <th>last_scraped</th>\n",
       "      <th>name</th>\n",
       "      <th>summary</th>\n",
       "      <th>space</th>\n",
       "      <th>description</th>\n",
       "      <th>experiences_offered</th>\n",
       "      <th>neighborhood_overview</th>\n",
       "      <th>notes</th>\n",
       "      <th>transit</th>\n",
       "      <th>thumbnail_url</th>\n",
       "      <th>...</th>\n",
       "      <th>requires_license</th>\n",
       "      <th>license</th>\n",
       "      <th>jurisdiction_names</th>\n",
       "      <th>instant_bookable</th>\n",
       "      <th>cancellation_policy</th>\n",
       "      <th>require_guest_profile_picture</th>\n",
       "      <th>require_guest_phone_verification</th>\n",
       "      <th>calculated_host_listings_count</th>\n",
       "      <th>reviews_per_month</th>\n",
       "      <th>distance</th>\n",
       "    </tr>\n",
       "  </thead>\n",
       "  <tbody>\n",
       "    <tr>\n",
       "      <th>577</th>\n",
       "      <td>2015-10-03</td>\n",
       "      <td>Chester Arthur B&amp;B-General Logan Rm</td>\n",
       "      <td>The Chester A Arthur B&amp;B is located at Logan C...</td>\n",
       "      <td>The Chester A Arthur House offers visitors a c...</td>\n",
       "      <td>The Chester A Arthur B&amp;B is located at Logan C...</td>\n",
       "      <td>none</td>\n",
       "      <td>Logan Circle offers an unbeatable combination ...</td>\n",
       "      <td>Please note: We market this property many plac...</td>\n",
       "      <td>The Chester A Arthur House has many public tra...</td>\n",
       "      <td>https://a1.muscache.com/ac/pictures/51405473/5...</td>\n",
       "      <td>...</td>\n",
       "      <td>f</td>\n",
       "      <td>NaN</td>\n",
       "      <td>DISTRICT OF COLUMBIA, WASHINGTON</td>\n",
       "      <td>f</td>\n",
       "      <td>strict</td>\n",
       "      <td>f</td>\n",
       "      <td>f</td>\n",
       "      <td>41</td>\n",
       "      <td>0.08</td>\n",
       "      <td>0</td>\n",
       "    </tr>\n",
       "    <tr>\n",
       "      <th>2166</th>\n",
       "      <td>2015-10-03</td>\n",
       "      <td>Capitol Hill 1BD-Cari's in the City</td>\n",
       "      <td>Newly renovated, private flat in DC's hip H St...</td>\n",
       "      <td>This 1910 rowhouse was completely renovated in...</td>\n",
       "      <td>Newly renovated, private flat in DC's hip H St...</td>\n",
       "      <td>none</td>\n",
       "      <td>What don't I love about this neighborhood?! It...</td>\n",
       "      <td>It is my mission to have visitors fall in love...</td>\n",
       "      <td>There are so many convenient ways to get here....</td>\n",
       "      <td>NaN</td>\n",
       "      <td>...</td>\n",
       "      <td>f</td>\n",
       "      <td>NaN</td>\n",
       "      <td>DISTRICT OF COLUMBIA, WASHINGTON</td>\n",
       "      <td>f</td>\n",
       "      <td>flexible</td>\n",
       "      <td>f</td>\n",
       "      <td>f</td>\n",
       "      <td>1</td>\n",
       "      <td>1.72</td>\n",
       "      <td>0</td>\n",
       "    </tr>\n",
       "    <tr>\n",
       "      <th>3631</th>\n",
       "      <td>2015-10-03</td>\n",
       "      <td>8th Street Apt-Eastern Market</td>\n",
       "      <td>Terrific location, 3 blocks from the Eastern M...</td>\n",
       "      <td>The Apartment provides about 650 square feet o...</td>\n",
       "      <td>The Apartment provides about 650 square feet o...</td>\n",
       "      <td>none</td>\n",
       "      <td>Eastern Market, the open air market is the mai...</td>\n",
       "      <td>Please note: We market this property many plac...</td>\n",
       "      <td>The Blue Line Metro is a three block walk.</td>\n",
       "      <td>https://a2.muscache.com/ac/pictures/107547246/...</td>\n",
       "      <td>...</td>\n",
       "      <td>f</td>\n",
       "      <td>NaN</td>\n",
       "      <td>DISTRICT OF COLUMBIA, WASHINGTON</td>\n",
       "      <td>f</td>\n",
       "      <td>strict</td>\n",
       "      <td>f</td>\n",
       "      <td>f</td>\n",
       "      <td>41</td>\n",
       "      <td>0.09</td>\n",
       "      <td>0</td>\n",
       "    </tr>\n",
       "    <tr>\n",
       "      <th>71</th>\n",
       "      <td>2015-10-03</td>\n",
       "      <td>Location, Cozy and Convenient!</td>\n",
       "      <td>Enjoy one bedroom with a queen bed,airbed and ...</td>\n",
       "      <td>Located walking distance to the Nationals and ...</td>\n",
       "      <td>Enjoy one bedroom with a queen bed,airbed and ...</td>\n",
       "      <td>none</td>\n",
       "      <td>Friendly neighborhood and Convenience</td>\n",
       "      <td>NaN</td>\n",
       "      <td>Public transportation 2 blocks away</td>\n",
       "      <td>https://a0.muscache.com/ac/pictures/82637033/b...</td>\n",
       "      <td>...</td>\n",
       "      <td>f</td>\n",
       "      <td>NaN</td>\n",
       "      <td>DISTRICT OF COLUMBIA, WASHINGTON</td>\n",
       "      <td>f</td>\n",
       "      <td>flexible</td>\n",
       "      <td>f</td>\n",
       "      <td>f</td>\n",
       "      <td>1</td>\n",
       "      <td>2.25</td>\n",
       "      <td>0</td>\n",
       "    </tr>\n",
       "    <tr>\n",
       "      <th>1011</th>\n",
       "      <td>2015-10-03</td>\n",
       "      <td>Sunny Studio in Downtown DC</td>\n",
       "      <td>A perfect apartment for spending Thanksgiving....</td>\n",
       "      <td>NaN</td>\n",
       "      <td>A perfect apartment for spending Thanksgiving....</td>\n",
       "      <td>none</td>\n",
       "      <td>NaN</td>\n",
       "      <td>NaN</td>\n",
       "      <td>NaN</td>\n",
       "      <td>https://a2.muscache.com/ac/pictures/58495281/1...</td>\n",
       "      <td>...</td>\n",
       "      <td>f</td>\n",
       "      <td>NaN</td>\n",
       "      <td>DISTRICT OF COLUMBIA, WASHINGTON</td>\n",
       "      <td>f</td>\n",
       "      <td>flexible</td>\n",
       "      <td>f</td>\n",
       "      <td>f</td>\n",
       "      <td>1</td>\n",
       "      <td>NaN</td>\n",
       "      <td>0</td>\n",
       "    </tr>\n",
       "  </tbody>\n",
       "</table>\n",
       "<p>5 rows × 90 columns</p>\n",
       "</div>"
      ],
      "text/plain": [
       "     last_scraped                                 name  \\\n",
       "577    2015-10-03  Chester Arthur B&B-General Logan Rm   \n",
       "2166   2015-10-03  Capitol Hill 1BD-Cari's in the City   \n",
       "3631   2015-10-03        8th Street Apt-Eastern Market   \n",
       "71     2015-10-03       Location, Cozy and Convenient!   \n",
       "1011   2015-10-03          Sunny Studio in Downtown DC   \n",
       "\n",
       "                                                summary  \\\n",
       "577   The Chester A Arthur B&B is located at Logan C...   \n",
       "2166  Newly renovated, private flat in DC's hip H St...   \n",
       "3631  Terrific location, 3 blocks from the Eastern M...   \n",
       "71    Enjoy one bedroom with a queen bed,airbed and ...   \n",
       "1011  A perfect apartment for spending Thanksgiving....   \n",
       "\n",
       "                                                  space  \\\n",
       "577   The Chester A Arthur House offers visitors a c...   \n",
       "2166  This 1910 rowhouse was completely renovated in...   \n",
       "3631  The Apartment provides about 650 square feet o...   \n",
       "71    Located walking distance to the Nationals and ...   \n",
       "1011                                                NaN   \n",
       "\n",
       "                                            description experiences_offered  \\\n",
       "577   The Chester A Arthur B&B is located at Logan C...                none   \n",
       "2166  Newly renovated, private flat in DC's hip H St...                none   \n",
       "3631  The Apartment provides about 650 square feet o...                none   \n",
       "71    Enjoy one bedroom with a queen bed,airbed and ...                none   \n",
       "1011  A perfect apartment for spending Thanksgiving....                none   \n",
       "\n",
       "                                  neighborhood_overview  \\\n",
       "577   Logan Circle offers an unbeatable combination ...   \n",
       "2166  What don't I love about this neighborhood?! It...   \n",
       "3631  Eastern Market, the open air market is the mai...   \n",
       "71                Friendly neighborhood and Convenience   \n",
       "1011                                                NaN   \n",
       "\n",
       "                                                  notes  \\\n",
       "577   Please note: We market this property many plac...   \n",
       "2166  It is my mission to have visitors fall in love...   \n",
       "3631  Please note: We market this property many plac...   \n",
       "71                                                  NaN   \n",
       "1011                                                NaN   \n",
       "\n",
       "                                                transit  \\\n",
       "577   The Chester A Arthur House has many public tra...   \n",
       "2166  There are so many convenient ways to get here....   \n",
       "3631        The Blue Line Metro is a three block walk.    \n",
       "71                  Public transportation 2 blocks away   \n",
       "1011                                                NaN   \n",
       "\n",
       "                                          thumbnail_url   ...     \\\n",
       "577   https://a1.muscache.com/ac/pictures/51405473/5...   ...      \n",
       "2166                                                NaN   ...      \n",
       "3631  https://a2.muscache.com/ac/pictures/107547246/...   ...      \n",
       "71    https://a0.muscache.com/ac/pictures/82637033/b...   ...      \n",
       "1011  https://a2.muscache.com/ac/pictures/58495281/1...   ...      \n",
       "\n",
       "     requires_license license                jurisdiction_names  \\\n",
       "577                 f     NaN  DISTRICT OF COLUMBIA, WASHINGTON   \n",
       "2166                f     NaN  DISTRICT OF COLUMBIA, WASHINGTON   \n",
       "3631                f     NaN  DISTRICT OF COLUMBIA, WASHINGTON   \n",
       "71                  f     NaN  DISTRICT OF COLUMBIA, WASHINGTON   \n",
       "1011                f     NaN  DISTRICT OF COLUMBIA, WASHINGTON   \n",
       "\n",
       "      instant_bookable cancellation_policy require_guest_profile_picture  \\\n",
       "577                  f              strict                             f   \n",
       "2166                 f            flexible                             f   \n",
       "3631                 f              strict                             f   \n",
       "71                   f            flexible                             f   \n",
       "1011                 f            flexible                             f   \n",
       "\n",
       "     require_guest_phone_verification calculated_host_listings_count  \\\n",
       "577                                 f                             41   \n",
       "2166                                f                              1   \n",
       "3631                                f                             41   \n",
       "71                                  f                              1   \n",
       "1011                                f                              1   \n",
       "\n",
       "     reviews_per_month distance  \n",
       "577               0.08        0  \n",
       "2166              1.72        0  \n",
       "3631              0.09        0  \n",
       "71                2.25        0  \n",
       "1011               NaN        0  \n",
       "\n",
       "[5 rows x 90 columns]"
      ]
     },
     "execution_count": 138,
     "metadata": {},
     "output_type": "execute_result"
    }
   ],
   "source": [
    "dc_listings = dc_listings.sample(frac=1,random_state=1)\n",
    "#sample(frac=1,random_state=0)进行L洗牌操作,表示从dc_listings随机抽出若干样本\n",
    "#fraction,frac=1选择了100%所有样本，\n",
    "#random_state设置随机种子，每次重起运行，随机的结果相同\n",
    "dc_listings = dc_listings.sort_values('distance')#按照distance对样本进行升序排列\n",
    "print(dc_listings.price.head())\n",
    "dc_listings.head()"
   ]
  },
  {
   "cell_type": "code",
   "execution_count": 139,
   "metadata": {},
   "outputs": [
    {
     "data": {
      "text/html": [
       "<div>\n",
       "<style scoped>\n",
       "    .dataframe tbody tr th:only-of-type {\n",
       "        vertical-align: middle;\n",
       "    }\n",
       "\n",
       "    .dataframe tbody tr th {\n",
       "        vertical-align: top;\n",
       "    }\n",
       "\n",
       "    .dataframe thead th {\n",
       "        text-align: right;\n",
       "    }\n",
       "</style>\n",
       "<table border=\"1\" class=\"dataframe\">\n",
       "  <thead>\n",
       "    <tr style=\"text-align: right;\">\n",
       "      <th></th>\n",
       "      <th>last_scraped</th>\n",
       "      <th>name</th>\n",
       "      <th>summary</th>\n",
       "      <th>space</th>\n",
       "      <th>description</th>\n",
       "      <th>experiences_offered</th>\n",
       "      <th>neighborhood_overview</th>\n",
       "      <th>notes</th>\n",
       "      <th>transit</th>\n",
       "      <th>thumbnail_url</th>\n",
       "      <th>...</th>\n",
       "      <th>requires_license</th>\n",
       "      <th>license</th>\n",
       "      <th>jurisdiction_names</th>\n",
       "      <th>instant_bookable</th>\n",
       "      <th>cancellation_policy</th>\n",
       "      <th>require_guest_profile_picture</th>\n",
       "      <th>require_guest_phone_verification</th>\n",
       "      <th>calculated_host_listings_count</th>\n",
       "      <th>reviews_per_month</th>\n",
       "      <th>distance</th>\n",
       "    </tr>\n",
       "  </thead>\n",
       "  <tbody>\n",
       "    <tr>\n",
       "      <th>577</th>\n",
       "      <td>2015-10-03</td>\n",
       "      <td>Chester Arthur B&amp;B-General Logan Rm</td>\n",
       "      <td>The Chester A Arthur B&amp;B is located at Logan C...</td>\n",
       "      <td>The Chester A Arthur House offers visitors a c...</td>\n",
       "      <td>The Chester A Arthur B&amp;B is located at Logan C...</td>\n",
       "      <td>none</td>\n",
       "      <td>Logan Circle offers an unbeatable combination ...</td>\n",
       "      <td>Please note: We market this property many plac...</td>\n",
       "      <td>The Chester A Arthur House has many public tra...</td>\n",
       "      <td>https://a1.muscache.com/ac/pictures/51405473/5...</td>\n",
       "      <td>...</td>\n",
       "      <td>f</td>\n",
       "      <td>NaN</td>\n",
       "      <td>DISTRICT OF COLUMBIA, WASHINGTON</td>\n",
       "      <td>f</td>\n",
       "      <td>strict</td>\n",
       "      <td>f</td>\n",
       "      <td>f</td>\n",
       "      <td>41</td>\n",
       "      <td>0.08</td>\n",
       "      <td>0</td>\n",
       "    </tr>\n",
       "    <tr>\n",
       "      <th>2166</th>\n",
       "      <td>2015-10-03</td>\n",
       "      <td>Capitol Hill 1BD-Cari's in the City</td>\n",
       "      <td>Newly renovated, private flat in DC's hip H St...</td>\n",
       "      <td>This 1910 rowhouse was completely renovated in...</td>\n",
       "      <td>Newly renovated, private flat in DC's hip H St...</td>\n",
       "      <td>none</td>\n",
       "      <td>What don't I love about this neighborhood?! It...</td>\n",
       "      <td>It is my mission to have visitors fall in love...</td>\n",
       "      <td>There are so many convenient ways to get here....</td>\n",
       "      <td>NaN</td>\n",
       "      <td>...</td>\n",
       "      <td>f</td>\n",
       "      <td>NaN</td>\n",
       "      <td>DISTRICT OF COLUMBIA, WASHINGTON</td>\n",
       "      <td>f</td>\n",
       "      <td>flexible</td>\n",
       "      <td>f</td>\n",
       "      <td>f</td>\n",
       "      <td>1</td>\n",
       "      <td>1.72</td>\n",
       "      <td>0</td>\n",
       "    </tr>\n",
       "    <tr>\n",
       "      <th>3631</th>\n",
       "      <td>2015-10-03</td>\n",
       "      <td>8th Street Apt-Eastern Market</td>\n",
       "      <td>Terrific location, 3 blocks from the Eastern M...</td>\n",
       "      <td>The Apartment provides about 650 square feet o...</td>\n",
       "      <td>The Apartment provides about 650 square feet o...</td>\n",
       "      <td>none</td>\n",
       "      <td>Eastern Market, the open air market is the mai...</td>\n",
       "      <td>Please note: We market this property many plac...</td>\n",
       "      <td>The Blue Line Metro is a three block walk.</td>\n",
       "      <td>https://a2.muscache.com/ac/pictures/107547246/...</td>\n",
       "      <td>...</td>\n",
       "      <td>f</td>\n",
       "      <td>NaN</td>\n",
       "      <td>DISTRICT OF COLUMBIA, WASHINGTON</td>\n",
       "      <td>f</td>\n",
       "      <td>strict</td>\n",
       "      <td>f</td>\n",
       "      <td>f</td>\n",
       "      <td>41</td>\n",
       "      <td>0.09</td>\n",
       "      <td>0</td>\n",
       "    </tr>\n",
       "    <tr>\n",
       "      <th>71</th>\n",
       "      <td>2015-10-03</td>\n",
       "      <td>Location, Cozy and Convenient!</td>\n",
       "      <td>Enjoy one bedroom with a queen bed,airbed and ...</td>\n",
       "      <td>Located walking distance to the Nationals and ...</td>\n",
       "      <td>Enjoy one bedroom with a queen bed,airbed and ...</td>\n",
       "      <td>none</td>\n",
       "      <td>Friendly neighborhood and Convenience</td>\n",
       "      <td>NaN</td>\n",
       "      <td>Public transportation 2 blocks away</td>\n",
       "      <td>https://a0.muscache.com/ac/pictures/82637033/b...</td>\n",
       "      <td>...</td>\n",
       "      <td>f</td>\n",
       "      <td>NaN</td>\n",
       "      <td>DISTRICT OF COLUMBIA, WASHINGTON</td>\n",
       "      <td>f</td>\n",
       "      <td>flexible</td>\n",
       "      <td>f</td>\n",
       "      <td>f</td>\n",
       "      <td>1</td>\n",
       "      <td>2.25</td>\n",
       "      <td>0</td>\n",
       "    </tr>\n",
       "    <tr>\n",
       "      <th>1011</th>\n",
       "      <td>2015-10-03</td>\n",
       "      <td>Sunny Studio in Downtown DC</td>\n",
       "      <td>A perfect apartment for spending Thanksgiving....</td>\n",
       "      <td>NaN</td>\n",
       "      <td>A perfect apartment for spending Thanksgiving....</td>\n",
       "      <td>none</td>\n",
       "      <td>NaN</td>\n",
       "      <td>NaN</td>\n",
       "      <td>NaN</td>\n",
       "      <td>https://a2.muscache.com/ac/pictures/58495281/1...</td>\n",
       "      <td>...</td>\n",
       "      <td>f</td>\n",
       "      <td>NaN</td>\n",
       "      <td>DISTRICT OF COLUMBIA, WASHINGTON</td>\n",
       "      <td>f</td>\n",
       "      <td>flexible</td>\n",
       "      <td>f</td>\n",
       "      <td>f</td>\n",
       "      <td>1</td>\n",
       "      <td>NaN</td>\n",
       "      <td>0</td>\n",
       "    </tr>\n",
       "  </tbody>\n",
       "</table>\n",
       "<p>5 rows × 90 columns</p>\n",
       "</div>"
      ],
      "text/plain": [
       "     last_scraped                                 name  \\\n",
       "577    2015-10-03  Chester Arthur B&B-General Logan Rm   \n",
       "2166   2015-10-03  Capitol Hill 1BD-Cari's in the City   \n",
       "3631   2015-10-03        8th Street Apt-Eastern Market   \n",
       "71     2015-10-03       Location, Cozy and Convenient!   \n",
       "1011   2015-10-03          Sunny Studio in Downtown DC   \n",
       "\n",
       "                                                summary  \\\n",
       "577   The Chester A Arthur B&B is located at Logan C...   \n",
       "2166  Newly renovated, private flat in DC's hip H St...   \n",
       "3631  Terrific location, 3 blocks from the Eastern M...   \n",
       "71    Enjoy one bedroom with a queen bed,airbed and ...   \n",
       "1011  A perfect apartment for spending Thanksgiving....   \n",
       "\n",
       "                                                  space  \\\n",
       "577   The Chester A Arthur House offers visitors a c...   \n",
       "2166  This 1910 rowhouse was completely renovated in...   \n",
       "3631  The Apartment provides about 650 square feet o...   \n",
       "71    Located walking distance to the Nationals and ...   \n",
       "1011                                                NaN   \n",
       "\n",
       "                                            description experiences_offered  \\\n",
       "577   The Chester A Arthur B&B is located at Logan C...                none   \n",
       "2166  Newly renovated, private flat in DC's hip H St...                none   \n",
       "3631  The Apartment provides about 650 square feet o...                none   \n",
       "71    Enjoy one bedroom with a queen bed,airbed and ...                none   \n",
       "1011  A perfect apartment for spending Thanksgiving....                none   \n",
       "\n",
       "                                  neighborhood_overview  \\\n",
       "577   Logan Circle offers an unbeatable combination ...   \n",
       "2166  What don't I love about this neighborhood?! It...   \n",
       "3631  Eastern Market, the open air market is the mai...   \n",
       "71                Friendly neighborhood and Convenience   \n",
       "1011                                                NaN   \n",
       "\n",
       "                                                  notes  \\\n",
       "577   Please note: We market this property many plac...   \n",
       "2166  It is my mission to have visitors fall in love...   \n",
       "3631  Please note: We market this property many plac...   \n",
       "71                                                  NaN   \n",
       "1011                                                NaN   \n",
       "\n",
       "                                                transit  \\\n",
       "577   The Chester A Arthur House has many public tra...   \n",
       "2166  There are so many convenient ways to get here....   \n",
       "3631        The Blue Line Metro is a three block walk.    \n",
       "71                  Public transportation 2 blocks away   \n",
       "1011                                                NaN   \n",
       "\n",
       "                                          thumbnail_url   ...     \\\n",
       "577   https://a1.muscache.com/ac/pictures/51405473/5...   ...      \n",
       "2166                                                NaN   ...      \n",
       "3631  https://a2.muscache.com/ac/pictures/107547246/...   ...      \n",
       "71    https://a0.muscache.com/ac/pictures/82637033/b...   ...      \n",
       "1011  https://a2.muscache.com/ac/pictures/58495281/1...   ...      \n",
       "\n",
       "     requires_license license                jurisdiction_names  \\\n",
       "577                 f     NaN  DISTRICT OF COLUMBIA, WASHINGTON   \n",
       "2166                f     NaN  DISTRICT OF COLUMBIA, WASHINGTON   \n",
       "3631                f     NaN  DISTRICT OF COLUMBIA, WASHINGTON   \n",
       "71                  f     NaN  DISTRICT OF COLUMBIA, WASHINGTON   \n",
       "1011                f     NaN  DISTRICT OF COLUMBIA, WASHINGTON   \n",
       "\n",
       "      instant_bookable cancellation_policy require_guest_profile_picture  \\\n",
       "577                  f              strict                             f   \n",
       "2166                 f            flexible                             f   \n",
       "3631                 f              strict                             f   \n",
       "71                   f            flexible                             f   \n",
       "1011                 f            flexible                             f   \n",
       "\n",
       "     require_guest_phone_verification calculated_host_listings_count  \\\n",
       "577                                 f                             41   \n",
       "2166                                f                              1   \n",
       "3631                                f                             41   \n",
       "71                                  f                              1   \n",
       "1011                                f                              1   \n",
       "\n",
       "     reviews_per_month distance  \n",
       "577               0.08        0  \n",
       "2166              1.72        0  \n",
       "3631              0.09        0  \n",
       "71                2.25        0  \n",
       "1011               NaN        0  \n",
       "\n",
       "[5 rows x 90 columns]"
      ]
     },
     "execution_count": 139,
     "metadata": {},
     "output_type": "execute_result"
    }
   ],
   "source": [
    "dc_listings.head()"
   ]
  },
  {
   "cell_type": "code",
   "execution_count": 140,
   "metadata": {},
   "outputs": [
    {
     "name": "stdout",
     "output_type": "stream",
     "text": [
      "577     $185.00\n",
      "2166    $180.00\n",
      "3631    $175.00\n",
      "71      $128.00\n",
      "1011    $115.00\n",
      "Name: price, dtype: object\n"
     ]
    }
   ],
   "source": [
    "print(dc_listings['price'].head() )"
   ]
  },
  {
   "cell_type": "markdown",
   "metadata": {},
   "source": [
    "现在的问题是，这里面的数据是字符串呀，需要转换一下！"
   ]
  },
  {
   "cell_type": "code",
   "execution_count": 141,
   "metadata": {},
   "outputs": [],
   "source": [
    "dc_listings['price'] = dc_listings.price.str.replace(\"\\$|,\",'').astype(float) \n",
    "#str.replace()字符替换，astype()改变数据类型，\"\\$|,\"\\是转义符，|是或的意思，将$或,替换"
   ]
  },
  {
   "cell_type": "code",
   "execution_count": 142,
   "metadata": {},
   "outputs": [
    {
     "data": {
      "text/plain": [
       "156.6"
      ]
     },
     "execution_count": 142,
     "metadata": {},
     "output_type": "execute_result"
    }
   ],
   "source": [
    "mean_price = dc_listings.price.iloc[:5].mean()\n",
    "mean_price"
   ]
  },
  {
   "cell_type": "markdown",
   "metadata": {},
   "source": [
    "得到了平均价格，也就是我们的房子大致的价格了"
   ]
  },
  {
   "cell_type": "markdown",
   "metadata": {},
   "source": [
    "## 模型的评估"
   ]
  },
  {
   "cell_type": "markdown",
   "metadata": {},
   "source": [
    "### 训练集和测试集 "
   ]
  },
  {
   "cell_type": "markdown",
   "metadata": {},
   "source": [
    "<img src=\"7.png\" style=\"width:600px;height:250px;float:left\">"
   ]
  },
  {
   "cell_type": "code",
   "execution_count": 143,
   "metadata": {},
   "outputs": [],
   "source": [
    "dc_listings.drop('distance',axis=1)#删除'distance'这一列，axis=1删除列，axis=0删除行\n",
    "\n",
    "train_df = dc_listings.copy().iloc[:2792] #iloc行号来索引，loc是根据index来索引\n",
    "test_df = dc_listings.copy().iloc[2792:]"
   ]
  },
  {
   "cell_type": "markdown",
   "metadata": {},
   "source": [
    "### 只考虑一个变量"
   ]
  },
  {
   "cell_type": "code",
   "execution_count": 144,
   "metadata": {},
   "outputs": [],
   "source": [
    "def predict_price(new_listing_value,feature_column):#new_listing_value带预测样本的特征数据\n",
    "    temp_df = train_df#取训练集数据\n",
    "    temp_df['distance'] = np.abs(train_df[feature_column] - new_listing_value) #np.abs求绝对值\n",
    "    temp_df = temp_df.sort_values('distance')#按距离从小到大排序,默认ascending=True，升序。\n",
    "    knn_5 = temp_df.price.iloc[:5]#取前5个距离最小样本的价格数据\n",
    "    predicted_price = knn_5.mean()#算平均价格\n",
    "    return(predicted_price)"
   ]
  },
  {
   "cell_type": "code",
   "execution_count": 145,
   "metadata": {},
   "outputs": [
    {
     "name": "stdout",
     "output_type": "stream",
     "text": [
      "2339    1\n",
      "2116    5\n",
      "3173    5\n",
      "1472    5\n",
      "1829    5\n",
      "Name: accommodates, dtype: int64\n"
     ]
    }
   ],
   "source": [
    "print (test_df.accommodates.head())#查看测试集中前五个样本的accommodates"
   ]
  },
  {
   "cell_type": "code",
   "execution_count": 146,
   "metadata": {},
   "outputs": [
    {
     "name": "stdout",
     "output_type": "stream",
     "text": [
      "82.6\n",
      "2339    75.0\n",
      "Name: price, dtype: float64\n"
     ]
    }
   ],
   "source": [
    "print (predict_price(1,feature_column='accommodates'))#预测价格\n",
    "print (test_df.head(1).price)#第一个样本的真实价格"
   ]
  },
  {
   "cell_type": "code",
   "execution_count": 147,
   "metadata": {},
   "outputs": [
    {
     "name": "stdout",
     "output_type": "stream",
     "text": [
      "      predicted_price   price\n",
      "2339             82.6    75.0\n",
      "2116            212.8   220.0\n",
      "3173            212.8   120.0\n",
      "1472            212.8   199.0\n",
      "1829            212.8   100.0\n",
      "3529            212.8   180.0\n",
      "592             212.8   280.0\n",
      "335             212.8   324.0\n",
      "1251             82.6    67.0\n",
      "360              82.6   100.0\n",
      "3164             82.6    90.0\n",
      "2123             82.6    95.0\n",
      "1355             82.6    23.0\n",
      "3308            212.8   148.0\n",
      "169              82.6    55.0\n",
      "2536            212.8   290.0\n",
      "3066            212.8    85.0\n",
      "1914             82.6    42.0\n",
      "3295             82.6    50.0\n",
      "1112             82.6   100.0\n",
      "2821             82.6    67.0\n",
      "252              82.6   135.0\n",
      "464              82.6    65.0\n",
      "2953             82.6    75.0\n",
      "410              82.6    50.0\n",
      "379              82.6    56.0\n",
      "350             212.8   629.0\n",
      "1129             82.6   105.0\n",
      "1929             82.6    49.0\n",
      "3065             82.6    80.0\n",
      "...               ...     ...\n",
      "1885            212.8    99.0\n",
      "1326            212.8   375.0\n",
      "1878            212.8    99.0\n",
      "1656            212.8   283.0\n",
      "3305            212.8  2000.0\n",
      "1879            212.8    99.0\n",
      "2995            212.8   595.0\n",
      "542             212.8   340.0\n",
      "1875            212.8    99.0\n",
      "529             212.8   600.0\n",
      "571             212.8   720.0\n",
      "3524            212.8   295.0\n",
      "562             212.8   599.0\n",
      "1403            212.8   599.0\n",
      "1658            212.8   283.0\n",
      "685             212.8   399.0\n",
      "2106            212.8   499.0\n",
      "2688            212.8   749.0\n",
      "1850            212.8   180.0\n",
      "2757            212.8   245.0\n",
      "1806            212.8   330.0\n",
      "657             212.8   500.0\n",
      "1594            212.8  1250.0\n",
      "611             212.8  1250.0\n",
      "2560            212.8    60.0\n",
      "1596            212.8   299.0\n",
      "1818            212.8    10.0\n",
      "1402            212.8  1200.0\n",
      "763             212.8  1000.0\n",
      "1224            212.8   499.0\n",
      "\n",
      "[931 rows x 2 columns]\n"
     ]
    }
   ],
   "source": [
    "test_df['predicted_price'] = test_df.accommodates.apply(predict_price,feature_column='accommodates')\n",
    "#series.apply(),没有axis参数，把每行数据传入predict_price，对应返回结果，返回一个series结构\n",
    "print (test_df[['predicted_price','price']])"
   ]
  },
  {
   "cell_type": "markdown",
   "metadata": {},
   "source": [
    "## 误差评估"
   ]
  },
  {
   "cell_type": "markdown",
   "metadata": {},
   "source": [
    "root mean squared error (RMSE)均方根误差"
   ]
  },
  {
   "cell_type": "markdown",
   "metadata": {},
   "source": [
    "<img src=\"RMSE.png\" style=\"width:700px;height:200px;float:left\">"
   ]
  },
  {
   "cell_type": "markdown",
   "metadata": {},
   "source": [
    "### 测试集总的均方根误差 "
   ]
  },
  {
   "cell_type": "code",
   "execution_count": 148,
   "metadata": {},
   "outputs": [
    {
     "data": {
      "text/plain": [
       "215.15056511968808"
      ]
     },
     "execution_count": 148,
     "metadata": {},
     "output_type": "execute_result"
    }
   ],
   "source": [
    "test_df['squared_error'] = (test_df['predicted_price'] - test_df['price'])**(2)\n",
    "mse = test_df['squared_error'].mean()\n",
    "rmse = mse ** (1/2)\n",
    "rmse"
   ]
  },
  {
   "cell_type": "markdown",
   "metadata": {},
   "source": [
    "现在我们得到了对于一个变量的模型评估得分"
   ]
  },
  {
   "cell_type": "markdown",
   "metadata": {},
   "source": [
    "## 不同的变量效果会不会不同呢？"
   ]
  },
  {
   "cell_type": "code",
   "execution_count": 149,
   "metadata": {},
   "outputs": [
    {
     "name": "stdout",
     "output_type": "stream",
     "text": [
      "RMSE for the accommodates column: 215.15056511968808\n",
      "RMSE for the bedrooms column: 218.81884645012073\n",
      "RMSE for the bathrooms column: 233.82521376182416\n",
      "RMSE for the number_of_reviews column: 246.22981344904056\n"
     ]
    }
   ],
   "source": [
    "for feature in ['accommodates','bedrooms','bathrooms','number_of_reviews']:\n",
    "    test_df['predicted_price'] = test_df[feature].apply(predict_price,feature_column=feature)\n",
    "    test_df['squared_error'] = (test_df['predicted_price'] - test_df['price'])**(2)\n",
    "    mse = test_df['squared_error'].mean()\n",
    "    rmse = mse ** (1/2)\n",
    "    print(\"RMSE for the {} column: {}\".format(feature,rmse))"
   ]
  },
  {
   "cell_type": "markdown",
   "metadata": {},
   "source": [
    "### 只用一个指标不靠谱，那就几个指标都充分利用起来。"
   ]
  },
  {
   "cell_type": "markdown",
   "metadata": {},
   "source": [
    "# 数据的z-score标准化与归一化\n",
    "\n",
    "## z-score标准化：是将数据按比例缩放，使之落入一个特定区间。 要求：均值 μ = 0 ，σ = 1\n",
    "\n",
    "## 归一化：把数变为（0，1）之间的小数"
   ]
  },
  {
   "cell_type": "markdown",
   "metadata": {},
   "source": [
    "## z-score标准化"
   ]
  },
  {
   "cell_type": "markdown",
   "metadata": {},
   "source": [
    "### 标准差公式：\n",
    "<img src=\"标准差.png\" style=\"width:400px;height:200px;float:left\">"
   ]
  },
  {
   "cell_type": "markdown",
   "metadata": {},
   "source": [
    "### z-score标准化转换公式：\n",
    "<img src=\"标准化.png\" style=\"width:400px;height:200px;float:left\">"
   ]
  },
  {
   "cell_type": "markdown",
   "metadata": {},
   "source": [
    "### 归一化公式 ：\n",
    "<img src=\"归一化.png\" style=\"width:500px;height:200px;float:left\">"
   ]
  },
  {
   "cell_type": "code",
   "execution_count": 176,
   "metadata": {},
   "outputs": [
    {
     "name": "stdout",
     "output_type": "stream",
     "text": [
      "(3671, 8)\n"
     ]
    },
    {
     "data": {
      "text/html": [
       "<div>\n",
       "<style scoped>\n",
       "    .dataframe tbody tr th:only-of-type {\n",
       "        vertical-align: middle;\n",
       "    }\n",
       "\n",
       "    .dataframe tbody tr th {\n",
       "        vertical-align: top;\n",
       "    }\n",
       "\n",
       "    .dataframe thead th {\n",
       "        text-align: right;\n",
       "    }\n",
       "</style>\n",
       "<table border=\"1\" class=\"dataframe\">\n",
       "  <thead>\n",
       "    <tr style=\"text-align: right;\">\n",
       "      <th></th>\n",
       "      <th>accommodates</th>\n",
       "      <th>bedrooms</th>\n",
       "      <th>bathrooms</th>\n",
       "      <th>beds</th>\n",
       "      <th>price</th>\n",
       "      <th>minimum_nights</th>\n",
       "      <th>maximum_nights</th>\n",
       "      <th>number_of_reviews</th>\n",
       "    </tr>\n",
       "  </thead>\n",
       "  <tbody>\n",
       "    <tr>\n",
       "      <th>0</th>\n",
       "      <td>4</td>\n",
       "      <td>1.0</td>\n",
       "      <td>1.0</td>\n",
       "      <td>2.0</td>\n",
       "      <td>160.0</td>\n",
       "      <td>1</td>\n",
       "      <td>1125</td>\n",
       "      <td>0</td>\n",
       "    </tr>\n",
       "    <tr>\n",
       "      <th>1</th>\n",
       "      <td>6</td>\n",
       "      <td>3.0</td>\n",
       "      <td>3.0</td>\n",
       "      <td>3.0</td>\n",
       "      <td>350.0</td>\n",
       "      <td>2</td>\n",
       "      <td>30</td>\n",
       "      <td>65</td>\n",
       "    </tr>\n",
       "    <tr>\n",
       "      <th>2</th>\n",
       "      <td>1</td>\n",
       "      <td>1.0</td>\n",
       "      <td>2.0</td>\n",
       "      <td>1.0</td>\n",
       "      <td>50.0</td>\n",
       "      <td>2</td>\n",
       "      <td>1125</td>\n",
       "      <td>1</td>\n",
       "    </tr>\n",
       "    <tr>\n",
       "      <th>3</th>\n",
       "      <td>2</td>\n",
       "      <td>1.0</td>\n",
       "      <td>1.0</td>\n",
       "      <td>1.0</td>\n",
       "      <td>95.0</td>\n",
       "      <td>1</td>\n",
       "      <td>1125</td>\n",
       "      <td>0</td>\n",
       "    </tr>\n",
       "    <tr>\n",
       "      <th>4</th>\n",
       "      <td>4</td>\n",
       "      <td>1.0</td>\n",
       "      <td>1.0</td>\n",
       "      <td>1.0</td>\n",
       "      <td>50.0</td>\n",
       "      <td>7</td>\n",
       "      <td>1125</td>\n",
       "      <td>0</td>\n",
       "    </tr>\n",
       "  </tbody>\n",
       "</table>\n",
       "</div>"
      ],
      "text/plain": [
       "   accommodates  bedrooms  bathrooms  beds  price  minimum_nights  \\\n",
       "0             4       1.0        1.0   2.0  160.0               1   \n",
       "1             6       3.0        3.0   3.0  350.0               2   \n",
       "2             1       1.0        2.0   1.0   50.0               2   \n",
       "3             2       1.0        1.0   1.0   95.0               1   \n",
       "4             4       1.0        1.0   1.0   50.0               7   \n",
       "\n",
       "   maximum_nights  number_of_reviews  \n",
       "0            1125                  0  \n",
       "1              30                 65  \n",
       "2            1125                  1  \n",
       "3            1125                  0  \n",
       "4            1125                  0  "
      ]
     },
     "execution_count": 176,
     "metadata": {},
     "output_type": "execute_result"
    }
   ],
   "source": [
    "import pandas as pd\n",
    "from sklearn import preprocessing\n",
    "from sklearn.preprocessing import MinMaxScaler #归一化模块\n",
    "from sklearn.preprocessing import StandardScaler #标准化模块\n",
    "\n",
    "features = ['accommodates','bedrooms','bathrooms','beds','price','minimum_nights','maximum_nights','number_of_reviews']\n",
    "\n",
    "dc_listings = pd.read_csv('listings.csv')\n",
    "\n",
    "dc_listings = dc_listings[features]\n",
    "\n",
    "dc_listings['price'] = dc_listings.price.str.replace(\"\\$|,\",'').astype(float)\n",
    "\n",
    "dc_listings = dc_listings.dropna() #去掉数据中的带缺失值的样本\n",
    "\n",
    "#min_max_scaler = MinMaxScaler()#实例化归一化模块\n",
    "#standar_scaler = StandardScaler()\n",
    "#dc_listings[features] = min_max_scaler.fit_transform(dc_listings[features])#.fit_transform对数据进行归一化\n",
    "dc_listings[features] = StandardScaler().fit_transform(dc_listings[features]) # 标准化用 sklearn.preprocessing.StandardScaler()模块\n",
    "#dc_listings[features] = MinMaxScaler().fit_transform(dc_listings[features]) #归一化用 sklearn.preprocessing.MinMaxScaler()模块\n",
    "\n",
    "normalized_listings = dc_listings\n",
    "\n",
    "print(dc_listings.shape)\n",
    "\n",
    "normalized_listings.head()"
   ]
  },
  {
   "cell_type": "code",
   "execution_count": 151,
   "metadata": {},
   "outputs": [],
   "source": [
    "norm_train_df = normalized_listings.copy().iloc[:2792]\n",
    "norm_test_df = normalized_listings.copy().iloc[2792:]\n",
    "#norm_test_df.shape\n",
    "#dc_listings['price'].iloc[2792:].shape"
   ]
  },
  {
   "cell_type": "markdown",
   "metadata": {},
   "source": [
    "### 多变量距离的计算"
   ]
  },
  {
   "cell_type": "markdown",
   "metadata": {},
   "source": [
    "<img src=\"多变量计算3.png\" style=\"width:600px;height:220px;float:left\">"
   ]
  },
  {
   "cell_type": "markdown",
   "metadata": {},
   "source": [
    "### 两个指标算距离，就相当于平面上两个点之间的距离\n",
    "<img src=\"多变量计算2.png\" style=\"width:500px;height:120px;float:left\">"
   ]
  },
  {
   "cell_type": "markdown",
   "metadata": {},
   "source": [
    "scipy中已经有现成的距离的计算工具了"
   ]
  },
  {
   "cell_type": "code",
   "execution_count": 45,
   "metadata": {},
   "outputs": [
    {
     "data": {
      "text/plain": [
       "0.32015621187164245"
      ]
     },
     "execution_count": 45,
     "metadata": {},
     "output_type": "execute_result"
    }
   ],
   "source": [
    "from scipy.spatial import distance\n",
    "\n",
    "first_listing = normalized_listings.iloc[0][['accommodates', 'bathrooms']]\n",
    "fifth_listing = normalized_listings.iloc[20][['accommodates', 'bathrooms']]\n",
    "first_fifth_distance = distance.euclidean(first_listing, fifth_listing)\n",
    "#distance.euclidean计算两个样本点的距离，每个样本点可以是n维，但只能计算两个点的距离，返回一个数\n",
    "first_fifth_distance"
   ]
  },
  {
   "cell_type": "markdown",
   "metadata": {},
   "source": [
    "## 多变量KNN模型"
   ]
  },
  {
   "cell_type": "code",
   "execution_count": 46,
   "metadata": {},
   "outputs": [],
   "source": [
    "def predict_price_multivariate(new_listing_value,feature_columns):\n",
    "    temp_df = norm_train_df\n",
    "    temp_df['distance'] = distance.cdist(temp_df[feature_columns].values,[new_listing_value[feature_columns].values])\n",
    "    #distance.cdist()函数是计算两个输入集合的距离,[new_listing_value[feature_columns]]使其满足是array结构\n",
    "    temp_df = temp_df.sort_values('distance')\n",
    "    knn_5 = temp_df.price.iloc[:5]\n",
    "    predicted_price = knn_5.mean()\n",
    "    return(predicted_price)"
   ]
  },
  {
   "cell_type": "code",
   "execution_count": 47,
   "metadata": {},
   "outputs": [
    {
     "data": {
      "text/plain": [
       "array([[0.2       ],\n",
       "       [0.41666667],\n",
       "       [0.125     ],\n",
       "       ...,\n",
       "       [0.44176493],\n",
       "       [0.06666667],\n",
       "       [0.06666667]])"
      ]
     },
     "execution_count": 47,
     "metadata": {},
     "output_type": "execute_result"
    }
   ],
   "source": [
    "feature_columns = ['accommodates', 'bathrooms']\n",
    "new_listing_value = norm_test_df.head(1)[feature_columns]\n",
    "temp_df = norm_train_df\n",
    "distance.cdist(temp_df[feature_columns].values,new_listing_value[feature_columns].values)"
   ]
  },
  {
   "cell_type": "code",
   "execution_count": 49,
   "metadata": {},
   "outputs": [
    {
     "data": {
      "text/html": [
       "<div>\n",
       "<style scoped>\n",
       "    .dataframe tbody tr th:only-of-type {\n",
       "        vertical-align: middle;\n",
       "    }\n",
       "\n",
       "    .dataframe tbody tr th {\n",
       "        vertical-align: top;\n",
       "    }\n",
       "\n",
       "    .dataframe thead th {\n",
       "        text-align: right;\n",
       "    }\n",
       "</style>\n",
       "<table border=\"1\" class=\"dataframe\">\n",
       "  <thead>\n",
       "    <tr style=\"text-align: right;\">\n",
       "      <th></th>\n",
       "      <th>accommodates</th>\n",
       "      <th>bathrooms</th>\n",
       "    </tr>\n",
       "  </thead>\n",
       "  <tbody>\n",
       "    <tr>\n",
       "      <th>2839</th>\n",
       "      <td>0.0</td>\n",
       "      <td>0.125</td>\n",
       "    </tr>\n",
       "  </tbody>\n",
       "</table>\n",
       "</div>"
      ],
      "text/plain": [
       "      accommodates  bathrooms\n",
       "2839           0.0      0.125"
      ]
     },
     "execution_count": 49,
     "metadata": {},
     "output_type": "execute_result"
    }
   ],
   "source": [
    "norm_test_df.head(1)[feature_columns]"
   ]
  },
  {
   "cell_type": "code",
   "execution_count": 55,
   "metadata": {},
   "outputs": [
    {
     "name": "stdout",
     "output_type": "stream",
     "text": [
      "<class 'pandas.core.series.Series'>\n"
     ]
    },
    {
     "data": {
      "text/plain": [
       "2839    0.026885\n",
       "dtype: float64"
      ]
     },
     "execution_count": 55,
     "metadata": {},
     "output_type": "execute_result"
    }
   ],
   "source": [
    "cols = ['accommodates', 'bathrooms']\n",
    "predicted_price_head1 = norm_test_df.head(1)[cols].apply(predict_price_multivariate,feature_columns=cols,axis=1)\n",
    "print(type(predicted_price_head1))\n",
    "#axis=1，对每行样本传入函数\n",
    "predicted_price_head1"
   ]
  },
  {
   "cell_type": "code",
   "execution_count": 56,
   "metadata": {},
   "outputs": [
    {
     "name": "stdout",
     "output_type": "stream",
     "text": [
      "[[0.33333333 0.06666667 0.13333333]\n",
      " [0.26666667 0.         0.06666667]\n",
      " [0.13333333 0.13333333 0.06666667]\n",
      " [0.14166667 0.23584953 0.18276427]\n",
      " [0.26666667 0.         0.06666667]]\n"
     ]
    },
    {
     "data": {
      "text/plain": [
       "0.14166666666666666"
      ]
     },
     "execution_count": 56,
     "metadata": {},
     "output_type": "execute_result"
    }
   ],
   "source": [
    "print(distance.cdist(norm_test_df.head()[['accommodates', 'bathrooms']],norm_test_df.tail(3)[['accommodates', 'bathrooms']]))\n",
    "distance.euclidean(norm_test_df[['accommodates', 'bathrooms']].iloc[0], norm_test_df[['accommodates', 'bathrooms']].iloc[-4])"
   ]
  },
  {
   "cell_type": "code",
   "execution_count": 57,
   "metadata": {},
   "outputs": [
    {
     "name": "stdout",
     "output_type": "stream",
     "text": [
      "[[160.]\n",
      " [350.]\n",
      " [ 50.]\n",
      " ...\n",
      " [275.]\n",
      " [179.]\n",
      " [110.]]\n",
      "origin predicted price is  [85.6]\n",
      "real price is  [55.]\n"
     ]
    }
   ],
   "source": [
    "data = pd.read_csv('listings.csv')\n",
    "data = data[features]\n",
    "data['price'] = data.price.str.replace(\"\\$|,\",'').astype(float)\n",
    "data = data.dropna()\n",
    "data1 = data['price'].values.reshape(-1,1) #将dataframe中值取出来，成为numpy的array结构，然后改变array形状\n",
    "print (data1)\n",
    "#对price进行反归一化，应该重新实例化一个MinMaxScaler()，\n",
    "#重新对price归一化之后，再按照price归一化的标准进行反归一化\n",
    "price_scaler = MinMaxScaler()\n",
    "norm_data = price_scaler.fit_transform(data1)  \n",
    "origin_data = price_scaler.inverse_transform(predicted_price_head1.values.reshape(-1,1))\n",
    "#inverse_transform()反归一化函数,此时，传入的array形状必须是1列\n",
    "print('origin predicted price is ',origin_data.ravel())\n",
    "print('real price is ',test_df['price'].head(1).values)"
   ]
  },
  {
   "cell_type": "code",
   "execution_count": 58,
   "metadata": {},
   "outputs": [
    {
     "name": "stdout",
     "output_type": "stream",
     "text": [
      "0.03998816336418803\n"
     ]
    }
   ],
   "source": [
    "cols = ['accommodates', 'bathrooms']\n",
    "norm_test_df['predicted_price'] = norm_test_df[cols].apply(predict_price_multivariate,feature_columns=cols,axis=1)    \n",
    "norm_test_df['squared_error'] = (norm_test_df['predicted_price'] - norm_test_df['price'])**(2)\n",
    "mse = norm_test_df['squared_error'].mean()\n",
    "rmse = mse ** (1/2)\n",
    "print(rmse)"
   ]
  },
  {
   "cell_type": "code",
   "execution_count": 59,
   "metadata": {},
   "outputs": [
    {
     "data": {
      "text/plain": [
       "2839     85.6\n",
       "2840    115.8\n",
       "2841    125.0\n",
       "2842    366.2\n",
       "2843    115.8\n",
       "Name: origin_predicted_price, dtype: float64"
      ]
     },
     "execution_count": 59,
     "metadata": {},
     "output_type": "execute_result"
    }
   ],
   "source": [
    "predicted_price_values = norm_test_df['predicted_price'].values.reshape(-1,1)\n",
    "scaler = MinMaxScaler()\n",
    "norm_data = scaler.fit_transform(data1)  \n",
    "norm_test_df['origin_predicted_price'] = scaler.inverse_transform(predicted_price_values)\n",
    "norm_test_df['origin_predicted_price'].head()"
   ]
  },
  {
   "cell_type": "markdown",
   "metadata": {},
   "source": [
    "## 使用Sklearn来完成KNN"
   ]
  },
  {
   "cell_type": "code",
   "execution_count": 180,
   "metadata": {},
   "outputs": [],
   "source": [
    "from sklearn.neighbors import KNeighborsRegressor\n",
    "#1.导入KNN回归模块（分类模块是KNeighborsClassifier）\n",
    "cols = ['accommodates','bedrooms']\n",
    "knn = KNeighborsRegressor(n_neighbors=5) #默认n_neighbors=5，取前5个最相近的样本。\n",
    "#2.实例化KNN回归模块，设置参数\n",
    "knn.fit(norm_train_df[cols], norm_train_df['price']) #传入训练集指标下的数据和标签\n",
    "#3..fit训练模型\n",
    "two_features_predictions = knn.predict(norm_test_df[cols])\n",
    "#4..predict预测结果，传入测试集的特征数据\n",
    "#print(two_features_predictions)"
   ]
  },
  {
   "cell_type": "code",
   "execution_count": 181,
   "metadata": {},
   "outputs": [
    {
     "name": "stdout",
     "output_type": "stream",
     "text": [
      "0.04193612857354859\n"
     ]
    }
   ],
   "source": [
    "from sklearn.metrics import mean_squared_error\n",
    "\n",
    "two_features_mse = mean_squared_error(norm_test_df['price'], two_features_predictions)\n",
    "two_features_rmse = two_features_mse ** (1/2)\n",
    "print(two_features_rmse)"
   ]
  },
  {
   "cell_type": "code",
   "execution_count": 182,
   "metadata": {},
   "outputs": [
    {
     "data": {
      "text/plain": [
       "array([[160.],\n",
       "       [350.],\n",
       "       [ 50.],\n",
       "       ...,\n",
       "       [275.],\n",
       "       [179.],\n",
       "       [110.]])"
      ]
     },
     "execution_count": 182,
     "metadata": {},
     "output_type": "execute_result"
    }
   ],
   "source": [
    "minmax_scaler=MinMaxScaler()\n",
    "minmax_price_values=minmax_scaler.fit_transform(dc_listings.price.values.reshape(-1,1))\n",
    "minmax_price_r_values=minmax_scaler.inverse_transform(two_features_predictions.reshape(-1,1))\n",
    "dc_listings.price.values.reshape(-1,1)"
   ]
  },
  {
   "cell_type": "markdown",
   "metadata": {},
   "source": [
    "加入更多的特征"
   ]
  },
  {
   "cell_type": "code",
   "execution_count": 192,
   "metadata": {},
   "outputs": [],
   "source": [
    "knn = KNeighborsRegressor(n_neighbors=15)\n",
    "#使用所有的特征\n",
    "#cols = ['accommodates','bedrooms','bathrooms','beds','minimum_nights','maximum_nights','number_of_reviews']\n",
    "knn.fit(norm_train_df, norm_train_df['price'])\n",
    "seven_features_predictions = knn.predict(norm_test_df)"
   ]
  },
  {
   "cell_type": "code",
   "execution_count": 193,
   "metadata": {},
   "outputs": [],
   "source": [
    "minmax_scaler=StandardScaler()\n",
    "minmax_price_values=minmax_scaler.fit_transform(data['price'].values.reshape(-1,1))\n",
    "seven_price_r_values=minmax_scaler.inverse_transform(seven_features_predictions.reshape(-1,1))\n",
    "test_df = minmax_scaler.inverse_transform(norm_test_df['price'].values.reshape(-1,1))\n"
   ]
  },
  {
   "cell_type": "code",
   "execution_count": 194,
   "metadata": {},
   "outputs": [
    {
     "name": "stdout",
     "output_type": "stream",
     "text": [
      "2.9741250591345008\n"
     ]
    }
   ],
   "source": [
    "#seven_features_mse = mean_squared_error(norm_test_df['price'], seven_features_predictions)\n",
    "#seven_features_rmse = seven_features_mse ** (1/2)\n",
    "#print(seven_features_rmse)\n",
    "seven_features_mse = mean_squared_error(test_df, seven_price_r_values)\n",
    "seven_features_rmse = seven_features_mse ** (1/2)\n",
    "print(seven_features_rmse)"
   ]
  },
  {
   "cell_type": "markdown",
   "metadata": {},
   "source": [
    "## 思考：\n",
    "## 1、将使用Sklearn的KNN模型预测的结果进行反归一化，并算出反归一化后的RMSE\n",
    "## 2、改变n_neighbors参数和指标特征的选用，能不能改进模型效果\n",
    "## 3、使用标准化对数据进行预处理"
   ]
  },
  {
   "cell_type": "code",
   "execution_count": null,
   "metadata": {},
   "outputs": [],
   "source": []
  }
 ],
 "metadata": {
  "anaconda-cloud": {},
  "kernelspec": {
   "display_name": "Python 3",
   "language": "python",
   "name": "python3"
  },
  "language_info": {
   "codemirror_mode": {
    "name": "ipython",
    "version": 3
   },
   "file_extension": ".py",
   "mimetype": "text/x-python",
   "name": "python",
   "nbconvert_exporter": "python",
   "pygments_lexer": "ipython3",
   "version": "3.6.5"
  }
 },
 "nbformat": 4,
 "nbformat_minor": 1
}
