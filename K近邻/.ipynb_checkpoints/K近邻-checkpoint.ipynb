{
 "cells": [
  {
   "cell_type": "markdown",
   "metadata": {},
   "source": [
    "# 1.分类和回归\n",
    "###     定量输出称为回归，或者说是连续变量预测，预测明天的气温是多少度，这是一个回归任务\n",
    "###     定性输出称为分类，或者说是离散变量预测，预测明天是阴、晴还是雨，就是一个分类任务\n"
   ]
  },
  {
   "cell_type": "markdown",
   "metadata": {},
   "source": [
    "# 2.机器学习-K近邻\n",
    "\n",
    "### 房价预测任务"
   ]
  },
  {
   "cell_type": "markdown",
   "metadata": {},
   "source": [
    "<img src=\"民宿.png\" style=\"width:800px;height:480px;float:left\">"
   ]
  },
  {
   "cell_type": "markdown",
   "metadata": {},
   "source": [
    "## 数据读取"
   ]
  },
  {
   "cell_type": "code",
   "execution_count": 1,
   "metadata": {},
   "outputs": [
    {
     "name": "stdout",
     "output_type": "stream",
     "text": [
      "(3723, 8)\n"
     ]
    },
    {
     "data": {
      "text/html": [
       "<div>\n",
       "<style scoped>\n",
       "    .dataframe tbody tr th:only-of-type {\n",
       "        vertical-align: middle;\n",
       "    }\n",
       "\n",
       "    .dataframe tbody tr th {\n",
       "        vertical-align: top;\n",
       "    }\n",
       "\n",
       "    .dataframe thead th {\n",
       "        text-align: right;\n",
       "    }\n",
       "</style>\n",
       "<table border=\"1\" class=\"dataframe\">\n",
       "  <thead>\n",
       "    <tr style=\"text-align: right;\">\n",
       "      <th></th>\n",
       "      <th>accommodates</th>\n",
       "      <th>bedrooms</th>\n",
       "      <th>bathrooms</th>\n",
       "      <th>beds</th>\n",
       "      <th>price</th>\n",
       "      <th>minimum_nights</th>\n",
       "      <th>maximum_nights</th>\n",
       "      <th>number_of_reviews</th>\n",
       "    </tr>\n",
       "  </thead>\n",
       "  <tbody>\n",
       "    <tr>\n",
       "      <th>0</th>\n",
       "      <td>4</td>\n",
       "      <td>1.0</td>\n",
       "      <td>1.0</td>\n",
       "      <td>2.0</td>\n",
       "      <td>$160.00</td>\n",
       "      <td>1</td>\n",
       "      <td>1125</td>\n",
       "      <td>0</td>\n",
       "    </tr>\n",
       "    <tr>\n",
       "      <th>1</th>\n",
       "      <td>6</td>\n",
       "      <td>3.0</td>\n",
       "      <td>3.0</td>\n",
       "      <td>3.0</td>\n",
       "      <td>$350.00</td>\n",
       "      <td>2</td>\n",
       "      <td>30</td>\n",
       "      <td>65</td>\n",
       "    </tr>\n",
       "    <tr>\n",
       "      <th>2</th>\n",
       "      <td>1</td>\n",
       "      <td>1.0</td>\n",
       "      <td>2.0</td>\n",
       "      <td>1.0</td>\n",
       "      <td>$50.00</td>\n",
       "      <td>2</td>\n",
       "      <td>1125</td>\n",
       "      <td>1</td>\n",
       "    </tr>\n",
       "    <tr>\n",
       "      <th>3</th>\n",
       "      <td>2</td>\n",
       "      <td>1.0</td>\n",
       "      <td>1.0</td>\n",
       "      <td>1.0</td>\n",
       "      <td>$95.00</td>\n",
       "      <td>1</td>\n",
       "      <td>1125</td>\n",
       "      <td>0</td>\n",
       "    </tr>\n",
       "    <tr>\n",
       "      <th>4</th>\n",
       "      <td>4</td>\n",
       "      <td>1.0</td>\n",
       "      <td>1.0</td>\n",
       "      <td>1.0</td>\n",
       "      <td>$50.00</td>\n",
       "      <td>7</td>\n",
       "      <td>1125</td>\n",
       "      <td>0</td>\n",
       "    </tr>\n",
       "  </tbody>\n",
       "</table>\n",
       "</div>"
      ],
      "text/plain": [
       "   accommodates  bedrooms  bathrooms  beds    price  minimum_nights  \\\n",
       "0             4       1.0        1.0   2.0  $160.00               1   \n",
       "1             6       3.0        3.0   3.0  $350.00               2   \n",
       "2             1       1.0        2.0   1.0   $50.00               2   \n",
       "3             2       1.0        1.0   1.0   $95.00               1   \n",
       "4             4       1.0        1.0   1.0   $50.00               7   \n",
       "\n",
       "   maximum_nights  number_of_reviews  \n",
       "0            1125                  0  \n",
       "1              30                 65  \n",
       "2            1125                  1  \n",
       "3            1125                  0  \n",
       "4            1125                  0  "
      ]
     },
     "execution_count": 1,
     "metadata": {},
     "output_type": "execute_result"
    }
   ],
   "source": [
    "import pandas as pd\n",
    "\n",
    "features = ['accommodates','bedrooms','bathrooms','beds','price','minimum_nights','maximum_nights','number_of_reviews']\n",
    "#将特征名称（数据的列名），共8个特征，写在一个列表当中\n",
    "dc_listings = pd.read_csv('listings.csv')#pd.read_csv读入一个csv格式文件\n",
    "\n",
    "dc_listings = dc_listings[features]#取对应特征（列名）的数据\n",
    "print(dc_listings.shape)\n",
    "\n",
    "dc_listings.head()#显示前5行"
   ]
  },
  {
   "cell_type": "markdown",
   "metadata": {},
   "source": [
    "数据特征：\n",
    "\n",
    "* accommodates: 可以容纳的旅客，当做是房间的数量\n",
    "* bedrooms: 卧室的数量\n",
    "* bathrooms: 厕所的数量\n",
    "* beds: 床的数量\n",
    "* price: 每晚的费用\n",
    "* minimum_nights: 客人最少租了几天\n",
    "* maximum_nights: 客人最多租了几天\n",
    "* number_of_reviews: 评论的数量"
   ]
  },
  {
   "cell_type": "markdown",
   "metadata": {},
   "source": [
    "## 我有一个3个卧室的房子，租多少钱呢？\n",
    "不知道的话，就去看看别人3个卧室的都租多少钱吧！"
   ]
  },
  {
   "cell_type": "markdown",
   "metadata": {},
   "source": [
    "<img src=\"2.png\" style=\"width:600px;height:230px;float:left\">"
   ]
  },
  {
   "cell_type": "markdown",
   "metadata": {},
   "source": [
    "K代表我们的候选对象个数，也就是找和我房间数量最相近的其他房子的价格"
   ]
  },
  {
   "cell_type": "markdown",
   "metadata": {},
   "source": [
    "## K近邻原理"
   ]
  },
  {
   "cell_type": "markdown",
   "metadata": {},
   "source": [
    "<img src=\"3.png\" style=\"width:600px;height:330px;float:left\">"
   ]
  },
  {
   "cell_type": "markdown",
   "metadata": {},
   "source": [
    "假设我们的数据源中只有5条信息，现在我想针对我的房子（只有一个房间）来定一个价格。"
   ]
  },
  {
   "cell_type": "markdown",
   "metadata": {},
   "source": [
    "<img src=\"4.png\" style=\"width:600px;height:330px;float:left\">"
   ]
  },
  {
   "cell_type": "markdown",
   "metadata": {},
   "source": [
    "在这里假设我们选择的K=3，也就是选3个跟我最相近的房源。"
   ]
  },
  {
   "cell_type": "markdown",
   "metadata": {},
   "source": [
    "<img src=\"5.png\" style=\"width:600px;height:330px;float:left\">"
   ]
  },
  {
   "cell_type": "markdown",
   "metadata": {},
   "source": [
    "再综合考虑这三个我就得到了我的房子大概能值多钱啦！"
   ]
  },
  {
   "cell_type": "markdown",
   "metadata": {},
   "source": [
    "## 距离的定义\n",
    "如何才能知道哪些数据样本跟我最相近呢？"
   ]
  },
  {
   "cell_type": "markdown",
   "metadata": {},
   "source": [
    "### 欧氏距离公式"
   ]
  },
  {
   "cell_type": "markdown",
   "metadata": {},
   "source": [
    "<img src=\"距离.png\" style=\"width:800px;height:180px;float:left\">"
   ]
  },
  {
   "cell_type": "markdown",
   "metadata": {},
   "source": [
    "其中p1到pn是一条数据的所有特征信息，q1到qn是另一条数据的所有特征信息"
   ]
  },
  {
   "cell_type": "markdown",
   "metadata": {},
   "source": [
    "# K邻近算法步骤（回归）：\n",
    "\n",
    "### 1.计算待预测样本与训练集的每个样本的距离\n",
    "### 2.将训练集的样本按照距离从小到大排序\n",
    "### 3.取前K个距离最小的训练样本，计算该K个样本标签的平均值作为预测值\n",
    "### （若是KNN做分类任务，第三个步骤改为：取前K个距离最小的训练样本，返回前K个样本频率最高的类别作为预测类别）"
   ]
  },
  {
   "cell_type": "markdown",
   "metadata": {},
   "source": [
    "假设我们的房子有3个房间"
   ]
  },
  {
   "cell_type": "markdown",
   "metadata": {},
   "source": [
    "### 基于单变量预测价格"
   ]
  },
  {
   "cell_type": "markdown",
   "metadata": {},
   "source": [
    "<img src=\"单距离公式.png\" style=\"width:400px;height:100px;float:left\">"
   ]
  },
  {
   "cell_type": "code",
   "execution_count": 2,
   "metadata": {},
   "outputs": [
    {
     "data": {
      "text/plain": [
       "0      461\n",
       "1     2294\n",
       "2      503\n",
       "3      279\n",
       "4       35\n",
       "5       73\n",
       "6       17\n",
       "7       22\n",
       "8        7\n",
       "9       12\n",
       "10       2\n",
       "11       4\n",
       "12       6\n",
       "13       8\n",
       "Name: distance, dtype: int64"
      ]
     },
     "execution_count": 2,
     "metadata": {},
     "output_type": "execute_result"
    }
   ],
   "source": [
    "import numpy as np\n",
    "\n",
    "our_acc_value = 3\n",
    "\n",
    "dc_listings['distance'] = np.abs(dc_listings.accommodates - our_acc_value)\n",
    "#np.abs算绝对值，absolute value\n",
    "#dc_listings.accommodates - our_acc_value  一列数据减去一个数，对应位置相减\n",
    "dc_listings.distance.value_counts().sort_index() \n",
    "#value_counts()统计值的个数，sort_index()按照索引index排序,此时index是distance"
   ]
  },
  {
   "cell_type": "code",
   "execution_count": 3,
   "metadata": {},
   "outputs": [
    {
     "data": {
      "text/html": [
       "<div>\n",
       "<style scoped>\n",
       "    .dataframe tbody tr th:only-of-type {\n",
       "        vertical-align: middle;\n",
       "    }\n",
       "\n",
       "    .dataframe tbody tr th {\n",
       "        vertical-align: top;\n",
       "    }\n",
       "\n",
       "    .dataframe thead th {\n",
       "        text-align: right;\n",
       "    }\n",
       "</style>\n",
       "<table border=\"1\" class=\"dataframe\">\n",
       "  <thead>\n",
       "    <tr style=\"text-align: right;\">\n",
       "      <th></th>\n",
       "      <th>accommodates</th>\n",
       "      <th>bedrooms</th>\n",
       "      <th>bathrooms</th>\n",
       "      <th>beds</th>\n",
       "      <th>price</th>\n",
       "      <th>minimum_nights</th>\n",
       "      <th>maximum_nights</th>\n",
       "      <th>number_of_reviews</th>\n",
       "      <th>distance</th>\n",
       "    </tr>\n",
       "  </thead>\n",
       "  <tbody>\n",
       "    <tr>\n",
       "      <th>0</th>\n",
       "      <td>4</td>\n",
       "      <td>1.0</td>\n",
       "      <td>1.0</td>\n",
       "      <td>2.0</td>\n",
       "      <td>$160.00</td>\n",
       "      <td>1</td>\n",
       "      <td>1125</td>\n",
       "      <td>0</td>\n",
       "      <td>1</td>\n",
       "    </tr>\n",
       "    <tr>\n",
       "      <th>1</th>\n",
       "      <td>6</td>\n",
       "      <td>3.0</td>\n",
       "      <td>3.0</td>\n",
       "      <td>3.0</td>\n",
       "      <td>$350.00</td>\n",
       "      <td>2</td>\n",
       "      <td>30</td>\n",
       "      <td>65</td>\n",
       "      <td>3</td>\n",
       "    </tr>\n",
       "    <tr>\n",
       "      <th>2</th>\n",
       "      <td>1</td>\n",
       "      <td>1.0</td>\n",
       "      <td>2.0</td>\n",
       "      <td>1.0</td>\n",
       "      <td>$50.00</td>\n",
       "      <td>2</td>\n",
       "      <td>1125</td>\n",
       "      <td>1</td>\n",
       "      <td>2</td>\n",
       "    </tr>\n",
       "    <tr>\n",
       "      <th>3</th>\n",
       "      <td>2</td>\n",
       "      <td>1.0</td>\n",
       "      <td>1.0</td>\n",
       "      <td>1.0</td>\n",
       "      <td>$95.00</td>\n",
       "      <td>1</td>\n",
       "      <td>1125</td>\n",
       "      <td>0</td>\n",
       "      <td>1</td>\n",
       "    </tr>\n",
       "    <tr>\n",
       "      <th>4</th>\n",
       "      <td>4</td>\n",
       "      <td>1.0</td>\n",
       "      <td>1.0</td>\n",
       "      <td>1.0</td>\n",
       "      <td>$50.00</td>\n",
       "      <td>7</td>\n",
       "      <td>1125</td>\n",
       "      <td>0</td>\n",
       "      <td>1</td>\n",
       "    </tr>\n",
       "  </tbody>\n",
       "</table>\n",
       "</div>"
      ],
      "text/plain": [
       "   accommodates  bedrooms  bathrooms  beds    price  minimum_nights  \\\n",
       "0             4       1.0        1.0   2.0  $160.00               1   \n",
       "1             6       3.0        3.0   3.0  $350.00               2   \n",
       "2             1       1.0        2.0   1.0   $50.00               2   \n",
       "3             2       1.0        1.0   1.0   $95.00               1   \n",
       "4             4       1.0        1.0   1.0   $50.00               7   \n",
       "\n",
       "   maximum_nights  number_of_reviews  distance  \n",
       "0            1125                  0         1  \n",
       "1              30                 65         3  \n",
       "2            1125                  1         2  \n",
       "3            1125                  0         1  \n",
       "4            1125                  0         1  "
      ]
     },
     "execution_count": 3,
     "metadata": {},
     "output_type": "execute_result"
    }
   ],
   "source": [
    "dc_listings.head()"
   ]
  },
  {
   "cell_type": "code",
   "execution_count": 4,
   "metadata": {},
   "outputs": [
    {
     "data": {
      "text/plain": [
       "0    4\n",
       "1    6\n",
       "2    1\n",
       "3    2\n",
       "4    4\n",
       "Name: accommodates, dtype: int64"
      ]
     },
     "execution_count": 4,
     "metadata": {},
     "output_type": "execute_result"
    }
   ],
   "source": [
    "dc_listings.accommodates[:5]\n",
    "dc_listings['accommodates'][:5]"
   ]
  },
  {
   "cell_type": "markdown",
   "metadata": {},
   "source": [
    "这里我们只有了绝对值来计算，和我们距离为0的（同样数量的房间）有461个"
   ]
  },
  {
   "cell_type": "markdown",
   "metadata": {},
   "source": [
    "sample操作可以得到洗牌后的数据"
   ]
  },
  {
   "cell_type": "code",
   "execution_count": 5,
   "metadata": {},
   "outputs": [
    {
     "name": "stdout",
     "output_type": "stream",
     "text": [
      "2645     $75.00\n",
      "2825    $120.00\n",
      "2145     $90.00\n",
      "2541     $50.00\n",
      "3349    $105.00\n",
      "Name: price, dtype: object\n"
     ]
    },
    {
     "data": {
      "text/html": [
       "<div>\n",
       "<style scoped>\n",
       "    .dataframe tbody tr th:only-of-type {\n",
       "        vertical-align: middle;\n",
       "    }\n",
       "\n",
       "    .dataframe tbody tr th {\n",
       "        vertical-align: top;\n",
       "    }\n",
       "\n",
       "    .dataframe thead th {\n",
       "        text-align: right;\n",
       "    }\n",
       "</style>\n",
       "<table border=\"1\" class=\"dataframe\">\n",
       "  <thead>\n",
       "    <tr style=\"text-align: right;\">\n",
       "      <th></th>\n",
       "      <th>accommodates</th>\n",
       "      <th>bedrooms</th>\n",
       "      <th>bathrooms</th>\n",
       "      <th>beds</th>\n",
       "      <th>price</th>\n",
       "      <th>minimum_nights</th>\n",
       "      <th>maximum_nights</th>\n",
       "      <th>number_of_reviews</th>\n",
       "      <th>distance</th>\n",
       "    </tr>\n",
       "  </thead>\n",
       "  <tbody>\n",
       "    <tr>\n",
       "      <th>2645</th>\n",
       "      <td>3</td>\n",
       "      <td>1.0</td>\n",
       "      <td>1.0</td>\n",
       "      <td>1.0</td>\n",
       "      <td>$75.00</td>\n",
       "      <td>7</td>\n",
       "      <td>180</td>\n",
       "      <td>24</td>\n",
       "      <td>0</td>\n",
       "    </tr>\n",
       "    <tr>\n",
       "      <th>2825</th>\n",
       "      <td>3</td>\n",
       "      <td>3.0</td>\n",
       "      <td>2.0</td>\n",
       "      <td>2.0</td>\n",
       "      <td>$120.00</td>\n",
       "      <td>1</td>\n",
       "      <td>1125</td>\n",
       "      <td>0</td>\n",
       "      <td>0</td>\n",
       "    </tr>\n",
       "    <tr>\n",
       "      <th>2145</th>\n",
       "      <td>3</td>\n",
       "      <td>1.0</td>\n",
       "      <td>2.0</td>\n",
       "      <td>2.0</td>\n",
       "      <td>$90.00</td>\n",
       "      <td>1</td>\n",
       "      <td>1125</td>\n",
       "      <td>55</td>\n",
       "      <td>0</td>\n",
       "    </tr>\n",
       "    <tr>\n",
       "      <th>2541</th>\n",
       "      <td>3</td>\n",
       "      <td>1.0</td>\n",
       "      <td>1.0</td>\n",
       "      <td>1.0</td>\n",
       "      <td>$50.00</td>\n",
       "      <td>1</td>\n",
       "      <td>1125</td>\n",
       "      <td>1</td>\n",
       "      <td>0</td>\n",
       "    </tr>\n",
       "    <tr>\n",
       "      <th>3349</th>\n",
       "      <td>3</td>\n",
       "      <td>1.0</td>\n",
       "      <td>1.0</td>\n",
       "      <td>1.0</td>\n",
       "      <td>$105.00</td>\n",
       "      <td>1</td>\n",
       "      <td>1125</td>\n",
       "      <td>7</td>\n",
       "      <td>0</td>\n",
       "    </tr>\n",
       "  </tbody>\n",
       "</table>\n",
       "</div>"
      ],
      "text/plain": [
       "      accommodates  bedrooms  bathrooms  beds    price  minimum_nights  \\\n",
       "2645             3       1.0        1.0   1.0   $75.00               7   \n",
       "2825             3       3.0        2.0   2.0  $120.00               1   \n",
       "2145             3       1.0        2.0   2.0   $90.00               1   \n",
       "2541             3       1.0        1.0   1.0   $50.00               1   \n",
       "3349             3       1.0        1.0   1.0  $105.00               1   \n",
       "\n",
       "      maximum_nights  number_of_reviews  distance  \n",
       "2645             180                 24         0  \n",
       "2825            1125                  0         0  \n",
       "2145            1125                 55         0  \n",
       "2541            1125                  1         0  \n",
       "3349            1125                  7         0  "
      ]
     },
     "execution_count": 5,
     "metadata": {},
     "output_type": "execute_result"
    }
   ],
   "source": [
    "dc_listings = dc_listings.sample(frac=1,random_state=0)\n",
    "#sample(frac=1,random_state=0)进行洗牌操作,表示从dc_listings随机抽出若干样本\n",
    "#fraction,frac=1选择了100%所有样本，\n",
    "#random_state设置随机种子，每次重起运行，随机的结果相同\n",
    "dc_listings = dc_listings.sort_values('distance')#按照distance对样本进行升序排列\n",
    "print(dc_listings.price.head())\n",
    "dc_listings.head()"
   ]
  },
  {
   "cell_type": "code",
   "execution_count": 6,
   "metadata": {},
   "outputs": [
    {
     "data": {
      "text/html": [
       "<div>\n",
       "<style scoped>\n",
       "    .dataframe tbody tr th:only-of-type {\n",
       "        vertical-align: middle;\n",
       "    }\n",
       "\n",
       "    .dataframe tbody tr th {\n",
       "        vertical-align: top;\n",
       "    }\n",
       "\n",
       "    .dataframe thead th {\n",
       "        text-align: right;\n",
       "    }\n",
       "</style>\n",
       "<table border=\"1\" class=\"dataframe\">\n",
       "  <thead>\n",
       "    <tr style=\"text-align: right;\">\n",
       "      <th></th>\n",
       "      <th>accommodates</th>\n",
       "      <th>bedrooms</th>\n",
       "      <th>bathrooms</th>\n",
       "      <th>beds</th>\n",
       "      <th>price</th>\n",
       "      <th>minimum_nights</th>\n",
       "      <th>maximum_nights</th>\n",
       "      <th>number_of_reviews</th>\n",
       "      <th>distance</th>\n",
       "    </tr>\n",
       "  </thead>\n",
       "  <tbody>\n",
       "    <tr>\n",
       "      <th>2645</th>\n",
       "      <td>3</td>\n",
       "      <td>1.0</td>\n",
       "      <td>1.0</td>\n",
       "      <td>1.0</td>\n",
       "      <td>$75.00</td>\n",
       "      <td>7</td>\n",
       "      <td>180</td>\n",
       "      <td>24</td>\n",
       "      <td>0</td>\n",
       "    </tr>\n",
       "    <tr>\n",
       "      <th>2825</th>\n",
       "      <td>3</td>\n",
       "      <td>3.0</td>\n",
       "      <td>2.0</td>\n",
       "      <td>2.0</td>\n",
       "      <td>$120.00</td>\n",
       "      <td>1</td>\n",
       "      <td>1125</td>\n",
       "      <td>0</td>\n",
       "      <td>0</td>\n",
       "    </tr>\n",
       "    <tr>\n",
       "      <th>2145</th>\n",
       "      <td>3</td>\n",
       "      <td>1.0</td>\n",
       "      <td>2.0</td>\n",
       "      <td>2.0</td>\n",
       "      <td>$90.00</td>\n",
       "      <td>1</td>\n",
       "      <td>1125</td>\n",
       "      <td>55</td>\n",
       "      <td>0</td>\n",
       "    </tr>\n",
       "    <tr>\n",
       "      <th>2541</th>\n",
       "      <td>3</td>\n",
       "      <td>1.0</td>\n",
       "      <td>1.0</td>\n",
       "      <td>1.0</td>\n",
       "      <td>$50.00</td>\n",
       "      <td>1</td>\n",
       "      <td>1125</td>\n",
       "      <td>1</td>\n",
       "      <td>0</td>\n",
       "    </tr>\n",
       "    <tr>\n",
       "      <th>3349</th>\n",
       "      <td>3</td>\n",
       "      <td>1.0</td>\n",
       "      <td>1.0</td>\n",
       "      <td>1.0</td>\n",
       "      <td>$105.00</td>\n",
       "      <td>1</td>\n",
       "      <td>1125</td>\n",
       "      <td>7</td>\n",
       "      <td>0</td>\n",
       "    </tr>\n",
       "  </tbody>\n",
       "</table>\n",
       "</div>"
      ],
      "text/plain": [
       "      accommodates  bedrooms  bathrooms  beds    price  minimum_nights  \\\n",
       "2645             3       1.0        1.0   1.0   $75.00               7   \n",
       "2825             3       3.0        2.0   2.0  $120.00               1   \n",
       "2145             3       1.0        2.0   2.0   $90.00               1   \n",
       "2541             3       1.0        1.0   1.0   $50.00               1   \n",
       "3349             3       1.0        1.0   1.0  $105.00               1   \n",
       "\n",
       "      maximum_nights  number_of_reviews  distance  \n",
       "2645             180                 24         0  \n",
       "2825            1125                  0         0  \n",
       "2145            1125                 55         0  \n",
       "2541            1125                  1         0  \n",
       "3349            1125                  7         0  "
      ]
     },
     "execution_count": 6,
     "metadata": {},
     "output_type": "execute_result"
    }
   ],
   "source": [
    "dc_listings.head()"
   ]
  },
  {
   "cell_type": "code",
   "execution_count": 7,
   "metadata": {},
   "outputs": [
    {
     "name": "stdout",
     "output_type": "stream",
     "text": [
      "2645     $75.00\n",
      "2825    $120.00\n",
      "2145     $90.00\n",
      "2541     $50.00\n",
      "3349    $105.00\n",
      "Name: price, dtype: object\n"
     ]
    }
   ],
   "source": [
    "print(dc_listings['price'].head() )"
   ]
  },
  {
   "cell_type": "markdown",
   "metadata": {},
   "source": [
    "现在的问题是，这里面的数据是字符串呀，需要转换一下！"
   ]
  },
  {
   "cell_type": "code",
   "execution_count": 8,
   "metadata": {},
   "outputs": [],
   "source": [
    "dc_listings['price'] = dc_listings.price.str.replace(\"\\$|,\",'').astype(float) \n",
    "#str.replace()字符替换，astype()改变数据类型，\"\\$|,\"\\是转义符，|是或的意思，将$或,替换"
   ]
  },
  {
   "cell_type": "code",
   "execution_count": 9,
   "metadata": {},
   "outputs": [
    {
     "data": {
      "text/plain": [
       "88.0"
      ]
     },
     "execution_count": 9,
     "metadata": {},
     "output_type": "execute_result"
    }
   ],
   "source": [
    "mean_price = dc_listings.price.iloc[:5].mean()\n",
    "mean_price"
   ]
  },
  {
   "cell_type": "markdown",
   "metadata": {},
   "source": [
    "得到了平均价格，也就是我们的房子大致的价格了"
   ]
  },
  {
   "cell_type": "markdown",
   "metadata": {},
   "source": [
    "## 模型的评估"
   ]
  },
  {
   "cell_type": "markdown",
   "metadata": {},
   "source": [
    "### 训练集和测试集 "
   ]
  },
  {
   "cell_type": "markdown",
   "metadata": {},
   "source": [
    "<img src=\"7.png\" style=\"width:600px;height:250px;float:left\">"
   ]
  },
  {
   "cell_type": "code",
   "execution_count": 10,
   "metadata": {},
   "outputs": [],
   "source": [
    "dc_listings.drop('distance',axis=1)#删除'distance'这一列，axis=1删除列，axis=0删除行\n",
    "\n",
    "train_df = dc_listings.copy().iloc[:2792] #iloc行号来索引，loc是根据index来索引\n",
    "test_df = dc_listings.copy().iloc[2792:]"
   ]
  },
  {
   "cell_type": "markdown",
   "metadata": {},
   "source": [
    "### 只考虑一个变量"
   ]
  },
  {
   "cell_type": "code",
   "execution_count": 11,
   "metadata": {},
   "outputs": [],
   "source": [
    "def predict_price(new_listing_value,feature_column):#new_listing_value带预测样本的特征数据\n",
    "    temp_df = train_df#取训练集数据\n",
    "    temp_df['distance'] = np.abs(train_df[feature_column] - new_listing_value) #np.abs求绝对值\n",
    "    temp_df = temp_df.sort_values('distance')#按距离从小到大排序,默认ascending=True，升序。\n",
    "    knn_5 = temp_df.price.iloc[:5]#取前5个距离最小样本的价格数据\n",
    "    predicted_price = knn_5.mean()#算平均价格\n",
    "    return(predicted_price)"
   ]
  },
  {
   "cell_type": "code",
   "execution_count": 12,
   "metadata": {},
   "outputs": [
    {
     "name": "stdout",
     "output_type": "stream",
     "text": [
      "2850    1\n",
      "2279    1\n",
      "2771    5\n",
      "910     5\n",
      "2434    5\n",
      "Name: accommodates, dtype: int64\n"
     ]
    }
   ],
   "source": [
    "print (test_df.accommodates.head())#查看测试集中前五个样本的accommodates"
   ]
  },
  {
   "cell_type": "code",
   "execution_count": 13,
   "metadata": {},
   "outputs": [
    {
     "name": "stdout",
     "output_type": "stream",
     "text": [
      "83.6\n",
      "2850    40.0\n",
      "Name: price, dtype: float64\n"
     ]
    }
   ],
   "source": [
    "print (predict_price(1,feature_column='accommodates'))#预测价格\n",
    "print (test_df.head(1).price)#第一个样本的真实价格"
   ]
  },
  {
   "cell_type": "code",
   "execution_count": 14,
   "metadata": {},
   "outputs": [
    {
     "name": "stdout",
     "output_type": "stream",
     "text": [
      "      predicted_price   price\n",
      "2850             83.6    40.0\n",
      "2279             83.6    45.0\n",
      "2771            340.4   217.0\n",
      "910             340.4   415.0\n",
      "2434            340.4   275.0\n",
      "965             340.4   145.0\n",
      "1305             83.6   100.0\n",
      "2513             83.6    80.0\n",
      "2118            340.4   115.0\n",
      "345             340.4   324.0\n",
      "725              83.6    50.0\n",
      "1172             83.6   116.0\n",
      "1409             83.6    90.0\n",
      "1943             83.6    49.0\n",
      "2842            340.4   136.0\n",
      "2967            340.4   125.0\n",
      "3295             83.6    50.0\n",
      "3558             83.6    90.0\n",
      "1698            340.4   165.0\n",
      "3151             83.6    95.0\n",
      "2025            340.4   179.0\n",
      "754              83.6    38.0\n",
      "252              83.6   135.0\n",
      "1767             83.6   120.0\n",
      "1241             83.6    75.0\n",
      "1149             83.6   100.0\n",
      "1931             83.6    50.0\n",
      "3535             83.6   165.0\n",
      "3422            340.4   250.0\n",
      "2969             83.6   100.0\n",
      "...               ...     ...\n",
      "542             340.4   340.0\n",
      "529             340.4   600.0\n",
      "1878            340.4    99.0\n",
      "2995            340.4   595.0\n",
      "3272            340.4   599.0\n",
      "3305            340.4  2000.0\n",
      "1326            340.4   375.0\n",
      "1656            340.4   283.0\n",
      "1875            340.4    99.0\n",
      "808             340.4   215.0\n",
      "571             340.4   720.0\n",
      "3524            340.4   295.0\n",
      "685             340.4   399.0\n",
      "1403            340.4   599.0\n",
      "562             340.4   599.0\n",
      "1658            340.4   283.0\n",
      "657             340.4   500.0\n",
      "2688            340.4   749.0\n",
      "1850            340.4   180.0\n",
      "1806            340.4   330.0\n",
      "2106            340.4   499.0\n",
      "2757            340.4   245.0\n",
      "611             340.4  1250.0\n",
      "1818            340.4    10.0\n",
      "1402            340.4  1200.0\n",
      "763             340.4  1000.0\n",
      "2560            340.4    60.0\n",
      "1594            340.4  1250.0\n",
      "1224            340.4   499.0\n",
      "1596            340.4   299.0\n",
      "\n",
      "[931 rows x 2 columns]\n"
     ]
    }
   ],
   "source": [
    "test_df['predicted_price'] = test_df.accommodates.apply(predict_price,feature_column='accommodates')\n",
    "#series.apply(),没有axis参数，把每行数据传入predict_price，对应返回结果，返回一个series结构\n",
    "print (test_df[['predicted_price','price']])"
   ]
  },
  {
   "cell_type": "markdown",
   "metadata": {},
   "source": [
    "## 误差评估"
   ]
  },
  {
   "cell_type": "markdown",
   "metadata": {},
   "source": [
    "root mean squared error (RMSE)均方根误差"
   ]
  },
  {
   "cell_type": "markdown",
   "metadata": {},
   "source": [
    "<img src=\"RMSE.png\" style=\"width:700px;height:200px;float:left\">"
   ]
  },
  {
   "cell_type": "markdown",
   "metadata": {},
   "source": [
    "### 测试集总的均方根误差 "
   ]
  },
  {
   "cell_type": "code",
   "execution_count": 15,
   "metadata": {},
   "outputs": [
    {
     "data": {
      "text/plain": [
       "212.98927967051543"
      ]
     },
     "execution_count": 15,
     "metadata": {},
     "output_type": "execute_result"
    }
   ],
   "source": [
    "test_df['squared_error'] = (test_df['predicted_price'] - test_df['price'])**(2)\n",
    "mse = test_df['squared_error'].mean()\n",
    "rmse = mse ** (1/2)\n",
    "rmse"
   ]
  },
  {
   "cell_type": "markdown",
   "metadata": {},
   "source": [
    "现在我们得到了对于一个变量的模型评估得分"
   ]
  },
  {
   "cell_type": "markdown",
   "metadata": {},
   "source": [
    "## 不同的变量效果会不会不同呢？"
   ]
  },
  {
   "cell_type": "code",
   "execution_count": 16,
   "metadata": {},
   "outputs": [
    {
     "name": "stdout",
     "output_type": "stream",
     "text": [
      "RMSE for the accommodates column: 212.98927967051543\n",
      "RMSE for the bedrooms column: 199.80935328065033\n",
      "RMSE for the bathrooms column: 230.24716705684227\n",
      "RMSE for the number_of_reviews column: 235.91327066995507\n"
     ]
    }
   ],
   "source": [
    "for feature in ['accommodates','bedrooms','bathrooms','number_of_reviews']:\n",
    "    test_df['predicted_price'] = test_df[feature].apply(predict_price,feature_column=feature)\n",
    "    test_df['squared_error'] = (test_df['predicted_price'] - test_df['price'])**(2)\n",
    "    mse = test_df['squared_error'].mean()\n",
    "    rmse = mse ** (1/2)\n",
    "    print(\"RMSE for the {} column: {}\".format(feature,rmse))"
   ]
  },
  {
   "cell_type": "markdown",
   "metadata": {},
   "source": [
    "### 只用一个指标不靠谱，那就几个指标都充分利用起来。"
   ]
  },
  {
   "cell_type": "markdown",
   "metadata": {},
   "source": [
    "# 数据的z-score标准化与归一化\n",
    "\n",
    "## z-score标准化：是将数据按比例缩放，使之落入一个特定区间。 要求：均值 μ = 0 ，σ = 1\n",
    "\n",
    "## 归一化：把数变为（0，1）之间的小数"
   ]
  },
  {
   "cell_type": "markdown",
   "metadata": {},
   "source": [
    "## z-score标准化"
   ]
  },
  {
   "cell_type": "markdown",
   "metadata": {},
   "source": [
    "### 标准差公式：\n",
    "<img src=\"标准差.png\" style=\"width:400px;height:200px;float:left\">"
   ]
  },
  {
   "cell_type": "markdown",
   "metadata": {},
   "source": [
    "### z-score标准化转换公式：\n",
    "<img src=\"标准化.png\" style=\"width:400px;height:200px;float:left\">"
   ]
  },
  {
   "cell_type": "markdown",
   "metadata": {},
   "source": [
    "### 归一化公式 ：\n",
    "<img src=\"归一化.png\" style=\"width:500px;height:200px;float:left\">"
   ]
  },
  {
   "cell_type": "code",
   "execution_count": 17,
   "metadata": {},
   "outputs": [
    {
     "name": "stdout",
     "output_type": "stream",
     "text": [
      "(3671, 8)\n"
     ]
    },
    {
     "data": {
      "text/html": [
       "<div>\n",
       "<style scoped>\n",
       "    .dataframe tbody tr th:only-of-type {\n",
       "        vertical-align: middle;\n",
       "    }\n",
       "\n",
       "    .dataframe tbody tr th {\n",
       "        vertical-align: top;\n",
       "    }\n",
       "\n",
       "    .dataframe thead th {\n",
       "        text-align: right;\n",
       "    }\n",
       "</style>\n",
       "<table border=\"1\" class=\"dataframe\">\n",
       "  <thead>\n",
       "    <tr style=\"text-align: right;\">\n",
       "      <th></th>\n",
       "      <th>accommodates</th>\n",
       "      <th>bedrooms</th>\n",
       "      <th>bathrooms</th>\n",
       "      <th>beds</th>\n",
       "      <th>price</th>\n",
       "      <th>minimum_nights</th>\n",
       "      <th>maximum_nights</th>\n",
       "      <th>number_of_reviews</th>\n",
       "    </tr>\n",
       "  </thead>\n",
       "  <tbody>\n",
       "    <tr>\n",
       "      <th>0</th>\n",
       "      <td>0.200000</td>\n",
       "      <td>0.1</td>\n",
       "      <td>0.125</td>\n",
       "      <td>0.066667</td>\n",
       "      <td>0.053343</td>\n",
       "      <td>0.000000</td>\n",
       "      <td>5.234033e-07</td>\n",
       "      <td>0.000000</td>\n",
       "    </tr>\n",
       "    <tr>\n",
       "      <th>1</th>\n",
       "      <td>0.333333</td>\n",
       "      <td>0.3</td>\n",
       "      <td>0.375</td>\n",
       "      <td>0.133333</td>\n",
       "      <td>0.120910</td>\n",
       "      <td>0.005587</td>\n",
       "      <td>1.350418e-08</td>\n",
       "      <td>0.179558</td>\n",
       "    </tr>\n",
       "    <tr>\n",
       "      <th>2</th>\n",
       "      <td>0.000000</td>\n",
       "      <td>0.1</td>\n",
       "      <td>0.250</td>\n",
       "      <td>0.000000</td>\n",
       "      <td>0.014225</td>\n",
       "      <td>0.005587</td>\n",
       "      <td>5.234033e-07</td>\n",
       "      <td>0.002762</td>\n",
       "    </tr>\n",
       "    <tr>\n",
       "      <th>3</th>\n",
       "      <td>0.066667</td>\n",
       "      <td>0.1</td>\n",
       "      <td>0.125</td>\n",
       "      <td>0.000000</td>\n",
       "      <td>0.030228</td>\n",
       "      <td>0.000000</td>\n",
       "      <td>5.234033e-07</td>\n",
       "      <td>0.000000</td>\n",
       "    </tr>\n",
       "    <tr>\n",
       "      <th>4</th>\n",
       "      <td>0.200000</td>\n",
       "      <td>0.1</td>\n",
       "      <td>0.125</td>\n",
       "      <td>0.000000</td>\n",
       "      <td>0.014225</td>\n",
       "      <td>0.033520</td>\n",
       "      <td>5.234033e-07</td>\n",
       "      <td>0.000000</td>\n",
       "    </tr>\n",
       "  </tbody>\n",
       "</table>\n",
       "</div>"
      ],
      "text/plain": [
       "   accommodates  bedrooms  bathrooms      beds     price  minimum_nights  \\\n",
       "0      0.200000       0.1      0.125  0.066667  0.053343        0.000000   \n",
       "1      0.333333       0.3      0.375  0.133333  0.120910        0.005587   \n",
       "2      0.000000       0.1      0.250  0.000000  0.014225        0.005587   \n",
       "3      0.066667       0.1      0.125  0.000000  0.030228        0.000000   \n",
       "4      0.200000       0.1      0.125  0.000000  0.014225        0.033520   \n",
       "\n",
       "   maximum_nights  number_of_reviews  \n",
       "0    5.234033e-07           0.000000  \n",
       "1    1.350418e-08           0.179558  \n",
       "2    5.234033e-07           0.002762  \n",
       "3    5.234033e-07           0.000000  \n",
       "4    5.234033e-07           0.000000  "
      ]
     },
     "execution_count": 17,
     "metadata": {},
     "output_type": "execute_result"
    }
   ],
   "source": [
    "import pandas as pd\n",
    "from sklearn import preprocessing\n",
    "from sklearn.preprocessing import MinMaxScaler #归一化模块\n",
    "from sklearn.preprocessing import StandardScaler #标准化模块\n",
    "\n",
    "features = ['accommodates','bedrooms','bathrooms','beds','price','minimum_nights','maximum_nights','number_of_reviews']\n",
    "\n",
    "dc_listings = pd.read_csv('listings.csv')\n",
    "\n",
    "dc_listings = dc_listings[features]\n",
    "\n",
    "dc_listings['price'] = dc_listings.price.str.replace(\"\\$|,\",'').astype(float)\n",
    "\n",
    "dc_listings = dc_listings.dropna() #去掉数据中的带缺失值的样本\n",
    "\n",
    "min_max_scaler = MinMaxScaler()#实例化归一化模块\n",
    "dc_listings[features] = min_max_scaler.fit_transform(dc_listings[features])#.fit_transform对数据进行归一化\n",
    "# dc_listings[features] = StandardScaler().fit_transform(dc_listings[features]) # 标准化用 sklearn.preprocessing.StandardScaler()模块\n",
    "# dc_listings[features] = MinMaxScaler().fit_transform(dc_listings[features]) #归一化用 sklearn.preprocessing.MinMaxScaler()模块\n",
    "\n",
    "normalized_listings = dc_listings\n",
    "\n",
    "print(dc_listings.shape)\n",
    "\n",
    "normalized_listings.head()"
   ]
  },
  {
   "cell_type": "code",
   "execution_count": 18,
   "metadata": {},
   "outputs": [],
   "source": [
    "norm_train_df = normalized_listings.copy().iloc[0:2792]\n",
    "norm_test_df = normalized_listings.copy().iloc[2792:]\n",
    "#norm_test_df.shape\n",
    "#dc_listings['price'].iloc[2792:].shape"
   ]
  },
  {
   "cell_type": "markdown",
   "metadata": {},
   "source": [
    "### 多变量距离的计算"
   ]
  },
  {
   "cell_type": "markdown",
   "metadata": {},
   "source": [
    "<img src=\"多变量计算3.png\" style=\"width:600px;height:220px;float:left\">"
   ]
  },
  {
   "cell_type": "markdown",
   "metadata": {},
   "source": [
    "### 两个指标算距离，就相当于平面上两个点之间的距离\n",
    "<img src=\"多变量计算2.png\" style=\"width:500px;height:120px;float:left\">"
   ]
  },
  {
   "cell_type": "markdown",
   "metadata": {},
   "source": [
    "scipy中已经有现成的距离的计算工具了"
   ]
  },
  {
   "cell_type": "code",
   "execution_count": 19,
   "metadata": {},
   "outputs": [
    {
     "data": {
      "text/plain": [
       "0.32015621187164245"
      ]
     },
     "execution_count": 19,
     "metadata": {},
     "output_type": "execute_result"
    }
   ],
   "source": [
    "from scipy.spatial import distance\n",
    "\n",
    "first_listing = normalized_listings.iloc[0][['accommodates', 'bathrooms']]\n",
    "fifth_listing = normalized_listings.iloc[20][['accommodates', 'bathrooms']]\n",
    "first_fifth_distance = distance.euclidean(first_listing, fifth_listing)\n",
    "#distance.euclidean计算两个样本点的距离，每个样本点可以是n维，但只能计算两个点的距离，返回一个数\n",
    "first_fifth_distance"
   ]
  },
  {
   "cell_type": "markdown",
   "metadata": {},
   "source": [
    "## 多变量KNN模型"
   ]
  },
  {
   "cell_type": "code",
   "execution_count": 20,
   "metadata": {},
   "outputs": [],
   "source": [
    "def predict_price_multivariate(new_listing_value,feature_columns):\n",
    "    temp_df = norm_train_df\n",
    "    temp_df['distance'] = distance.cdist(temp_df[feature_columns].values,[new_listing_value[feature_columns].values])\n",
    "    #distance.cdist()函数是计算两个输入集合的距离,[new_listing_value[feature_columns]]使其满足是array结构\n",
    "    temp_df = temp_df.sort_values('distance')\n",
    "    knn_5 = temp_df.price.iloc[:5]\n",
    "    predicted_price = knn_5.mean()\n",
    "    return(predicted_price)"
   ]
  },
  {
   "cell_type": "code",
   "execution_count": 21,
   "metadata": {},
   "outputs": [
    {
     "data": {
      "text/plain": [
       "array([[0.2       ],\n",
       "       [0.41666667],\n",
       "       [0.125     ],\n",
       "       ...,\n",
       "       [0.44176493],\n",
       "       [0.06666667],\n",
       "       [0.06666667]])"
      ]
     },
     "execution_count": 21,
     "metadata": {},
     "output_type": "execute_result"
    }
   ],
   "source": [
    "feature_columns = ['accommodates', 'bathrooms']\n",
    "new_listing_value = norm_test_df.head(1)[feature_columns]\n",
    "temp_df = norm_train_df\n",
    "distance.cdist(temp_df[feature_columns].values,new_listing_value[feature_columns].values)"
   ]
  },
  {
   "cell_type": "code",
   "execution_count": 22,
   "metadata": {},
   "outputs": [
    {
     "data": {
      "text/html": [
       "<div>\n",
       "<style scoped>\n",
       "    .dataframe tbody tr th:only-of-type {\n",
       "        vertical-align: middle;\n",
       "    }\n",
       "\n",
       "    .dataframe tbody tr th {\n",
       "        vertical-align: top;\n",
       "    }\n",
       "\n",
       "    .dataframe thead th {\n",
       "        text-align: right;\n",
       "    }\n",
       "</style>\n",
       "<table border=\"1\" class=\"dataframe\">\n",
       "  <thead>\n",
       "    <tr style=\"text-align: right;\">\n",
       "      <th></th>\n",
       "      <th>accommodates</th>\n",
       "      <th>bathrooms</th>\n",
       "    </tr>\n",
       "  </thead>\n",
       "  <tbody>\n",
       "    <tr>\n",
       "      <th>2839</th>\n",
       "      <td>0.0</td>\n",
       "      <td>0.125</td>\n",
       "    </tr>\n",
       "  </tbody>\n",
       "</table>\n",
       "</div>"
      ],
      "text/plain": [
       "      accommodates  bathrooms\n",
       "2839           0.0      0.125"
      ]
     },
     "execution_count": 22,
     "metadata": {},
     "output_type": "execute_result"
    }
   ],
   "source": [
    "norm_test_df.head(1)[feature_columns]"
   ]
  },
  {
   "cell_type": "code",
   "execution_count": 23,
   "metadata": {},
   "outputs": [
    {
     "name": "stdout",
     "output_type": "stream",
     "text": [
      "<class 'pandas.core.series.Series'>\n"
     ]
    },
    {
     "data": {
      "text/plain": [
       "2839    0.026885\n",
       "dtype: float64"
      ]
     },
     "execution_count": 23,
     "metadata": {},
     "output_type": "execute_result"
    }
   ],
   "source": [
    "cols = ['accommodates', 'bathrooms']\n",
    "predicted_price_head1 = norm_test_df.head(1)[cols].apply(predict_price_multivariate,feature_columns=cols,axis=1)\n",
    "print(type(predicted_price_head1))\n",
    "#axis=1，对每行样本传入函数\n",
    "predicted_price_head1"
   ]
  },
  {
   "cell_type": "code",
   "execution_count": 24,
   "metadata": {},
   "outputs": [
    {
     "name": "stdout",
     "output_type": "stream",
     "text": [
      "[[0.33333333 0.06666667 0.13333333]\n",
      " [0.26666667 0.         0.06666667]\n",
      " [0.13333333 0.13333333 0.06666667]\n",
      " [0.14166667 0.23584953 0.18276427]\n",
      " [0.26666667 0.         0.06666667]]\n"
     ]
    },
    {
     "data": {
      "text/plain": [
       "0.14166666666666666"
      ]
     },
     "execution_count": 24,
     "metadata": {},
     "output_type": "execute_result"
    }
   ],
   "source": [
    "print(distance.cdist(norm_test_df.head()[['accommodates', 'bathrooms']],norm_test_df.tail(3)[['accommodates', 'bathrooms']]))\n",
    "distance.euclidean(norm_test_df[['accommodates', 'bathrooms']].iloc[0], norm_test_df[['accommodates', 'bathrooms']].iloc[-4])"
   ]
  },
  {
   "cell_type": "code",
   "execution_count": 25,
   "metadata": {},
   "outputs": [
    {
     "name": "stdout",
     "output_type": "stream",
     "text": [
      "[[160.]\n",
      " [350.]\n",
      " [ 50.]\n",
      " ...\n",
      " [275.]\n",
      " [179.]\n",
      " [110.]]\n",
      "origin predicted price is  [85.6]\n",
      "real price is  [40.]\n"
     ]
    }
   ],
   "source": [
    "data = pd.read_csv('listings.csv')\n",
    "data = data[features]\n",
    "data['price'] = data.price.str.replace(\"\\$|,\",'').astype(float)\n",
    "data = data.dropna()\n",
    "data1 = data['price'].values.reshape(-1,1) #将dataframe中值取出来，成为numpy的array结构，然后改变array形状\n",
    "print (data1)\n",
    "#对price进行反归一化，应该重新实例化一个MinMaxScaler()，\n",
    "#重新对price归一化之后，再按照price归一化的标准进行反归一化\n",
    "price_scaler = MinMaxScaler()\n",
    "norm_data = price_scaler.fit_transform(data1)  \n",
    "origin_data = price_scaler.inverse_transform(predicted_price_head1.values.reshape(-1,1))\n",
    "#inverse_transform()反归一化函数,此时，传入的array形状必须是1列\n",
    "print('origin predicted price is ',origin_data.ravel())\n",
    "print('real price is ',test_df['price'].head(1).values)"
   ]
  },
  {
   "cell_type": "code",
   "execution_count": 26,
   "metadata": {},
   "outputs": [
    {
     "name": "stdout",
     "output_type": "stream",
     "text": [
      "0.03998816336418803\n"
     ]
    }
   ],
   "source": [
    "cols = ['accommodates', 'bathrooms']\n",
    "norm_test_df['predicted_price'] = norm_test_df[cols].apply(predict_price_multivariate,feature_columns=cols,axis=1)    \n",
    "norm_test_df['squared_error'] = (norm_test_df['predicted_price'] - norm_test_df['price'])**(2)\n",
    "mse = norm_test_df['squared_error'].mean()\n",
    "rmse = mse ** (1/2)\n",
    "print(rmse)"
   ]
  },
  {
   "cell_type": "code",
   "execution_count": 27,
   "metadata": {},
   "outputs": [
    {
     "data": {
      "text/plain": [
       "2839     85.6\n",
       "2840    115.8\n",
       "2841    125.0\n",
       "2842    366.2\n",
       "2843    115.8\n",
       "Name: origin_predicted_price, dtype: float64"
      ]
     },
     "execution_count": 27,
     "metadata": {},
     "output_type": "execute_result"
    }
   ],
   "source": [
    "predicted_price_values = norm_test_df['predicted_price'].values.reshape(-1,1)\n",
    "scaler = MinMaxScaler()\n",
    "norm_data = scaler.fit_transform(data1)  \n",
    "norm_test_df['origin_predicted_price'] = scaler.inverse_transform(predicted_price_values)\n",
    "norm_test_df['origin_predicted_price'].head()"
   ]
  },
  {
   "cell_type": "markdown",
   "metadata": {},
   "source": [
    "## 使用Sklearn来完成KNN"
   ]
  },
  {
   "cell_type": "code",
   "execution_count": 28,
   "metadata": {},
   "outputs": [],
   "source": [
    "from sklearn.neighbors import KNeighborsRegressor\n",
    "#1.导入KNN回归模块（分类模块是KNeighborsClassifier）\n",
    "cols = ['accommodates','bedrooms']\n",
    "knn = KNeighborsRegressor(n_neighbors=5) #默认n_neighbors=5，取前5个最相近的样本。\n",
    "#2.实例化KNN回归模块，设置参数\n",
    "knn.fit(norm_train_df[cols], norm_train_df['price']) #传入训练集指标下的数据和标签\n",
    "#3..fit训练模型\n",
    "two_features_predictions = knn.predict(norm_test_df[cols])\n",
    "#4..predict预测结果，传入测试集的特征数据\n",
    "#print(two_features_predictions)"
   ]
  },
  {
   "cell_type": "code",
   "execution_count": 29,
   "metadata": {},
   "outputs": [
    {
     "name": "stdout",
     "output_type": "stream",
     "text": [
      "0.04193612857354859\n"
     ]
    }
   ],
   "source": [
    "from sklearn.metrics import mean_squared_error\n",
    "\n",
    "two_features_mse = mean_squared_error(norm_test_df['price'], two_features_predictions)\n",
    "two_features_rmse = two_features_mse ** (1/2)\n",
    "print(two_features_rmse)"
   ]
  },
  {
   "cell_type": "code",
   "execution_count": 30,
   "metadata": {},
   "outputs": [
    {
     "data": {
      "text/plain": [
       "array([[0.05334282],\n",
       "       [0.12091038],\n",
       "       [0.01422475],\n",
       "       ...,\n",
       "       [0.09423898],\n",
       "       [0.06009957],\n",
       "       [0.03556188]])"
      ]
     },
     "execution_count": 30,
     "metadata": {},
     "output_type": "execute_result"
    }
   ],
   "source": [
    "minmax_scaler=MinMaxScaler()\n",
    "minmax_price_values=minmax_scaler.fit_transform(dc_listings.price.values.reshape(-1,1))\n",
    "minmax_price_r_values=minmax_scaler.inverse_transform(two_features_predictions.reshape(-1,1))\n",
    "dc_listings.price.values.reshape(-1,1)"
   ]
  },
  {
   "cell_type": "markdown",
   "metadata": {},
   "source": [
    "加入更多的特征"
   ]
  },
  {
   "cell_type": "code",
   "execution_count": 31,
   "metadata": {},
   "outputs": [],
   "source": [
    "knn = KNeighborsRegressor(n_neighbors=5)\n",
    "\n",
    "cols = ['accommodates','bedrooms','bathrooms','beds','minimum_nights','maximum_nights','number_of_reviews']\n",
    "\n",
    "knn.fit(norm_train_df[cols], norm_train_df['price'])\n",
    "seven_features_predictions = knn.predict(norm_test_df[cols])"
   ]
  },
  {
   "cell_type": "code",
   "execution_count": 32,
   "metadata": {},
   "outputs": [
    {
     "name": "stdout",
     "output_type": "stream",
     "text": [
      "0.041388747758587266\n"
     ]
    }
   ],
   "source": [
    "seven_features_mse = mean_squared_error(norm_test_df['price'], seven_features_predictions)\n",
    "seven_features_rmse = seven_features_mse ** (1/2)\n",
    "print(seven_features_rmse)"
   ]
  },
  {
   "cell_type": "markdown",
   "metadata": {},
   "source": [
    "## 思考：\n",
    "## 1、将使用Sklearn的KNN模型预测的结果进行反归一化，并算出反归一化后的RMSE\n",
    "## 2、改变n_neighbors参数和指标特征的选用，能不能改进模型效果\n",
    "## 3、使用标准化对数据进行预处理"
   ]
  },
  {
   "cell_type": "code",
   "execution_count": null,
   "metadata": {},
   "outputs": [],
   "source": []
  }
 ],
 "metadata": {
  "anaconda-cloud": {},
  "kernelspec": {
   "display_name": "Python 3",
   "language": "python",
   "name": "python3"
  },
  "language_info": {
   "codemirror_mode": {
    "name": "ipython",
    "version": 3
   },
   "file_extension": ".py",
   "mimetype": "text/x-python",
   "name": "python",
   "nbconvert_exporter": "python",
   "pygments_lexer": "ipython3",
   "version": "3.6.6"
  }
 },
 "nbformat": 4,
 "nbformat_minor": 1
}
